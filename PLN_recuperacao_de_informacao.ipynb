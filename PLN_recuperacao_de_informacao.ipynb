{
  "nbformat": 4,
  "nbformat_minor": 0,
  "metadata": {
    "colab": {
      "provenance": [],
      "include_colab_link": true
    },
    "kernelspec": {
      "name": "python3",
      "display_name": "Python 3"
    },
    "language_info": {
      "name": "python"
    }
  },
  "cells": [
    {
      "cell_type": "markdown",
      "metadata": {
        "id": "view-in-github",
        "colab_type": "text"
      },
      "source": [
        "<a href=\"https://colab.research.google.com/github/spdr-lily/Data-Science-Profile/blob/main/PLN_recuperacao_de_informacao.ipynb\" target=\"_parent\"><img src=\"https://colab.research.google.com/assets/colab-badge.svg\" alt=\"Open In Colab\"/></a>"
      ]
    },
    {
      "cell_type": "markdown",
      "source": [
        "# Processamento de Linguagem Natural\n",
        "Recuperação de Informação"
      ],
      "metadata": {
        "id": "nwvq9gIaqTbt"
      }
    },
    {
      "cell_type": "markdown",
      "source": [
        "# Baixando páginas da Wikipedia"
      ],
      "metadata": {
        "id": "UZV1j5qE2Lmz"
      }
    },
    {
      "cell_type": "code",
      "source": [
        "! pip3 install wikipedia"
      ],
      "metadata": {
        "id": "h2BKL-X_y7vt",
        "colab": {
          "base_uri": "https://localhost:8080/"
        },
        "outputId": "9ac9088f-0860-4ba2-bbe7-1d0dce2015ad"
      },
      "execution_count": 1,
      "outputs": [
        {
          "output_type": "stream",
          "name": "stdout",
          "text": [
            "Collecting wikipedia\n",
            "  Downloading wikipedia-1.4.0.tar.gz (27 kB)\n",
            "  Preparing metadata (setup.py) ... \u001b[?25l\u001b[?25hdone\n",
            "Requirement already satisfied: beautifulsoup4 in /usr/local/lib/python3.11/dist-packages (from wikipedia) (4.13.4)\n",
            "Requirement already satisfied: requests<3.0.0,>=2.0.0 in /usr/local/lib/python3.11/dist-packages (from wikipedia) (2.32.3)\n",
            "Requirement already satisfied: charset-normalizer<4,>=2 in /usr/local/lib/python3.11/dist-packages (from requests<3.0.0,>=2.0.0->wikipedia) (3.4.1)\n",
            "Requirement already satisfied: idna<4,>=2.5 in /usr/local/lib/python3.11/dist-packages (from requests<3.0.0,>=2.0.0->wikipedia) (3.10)\n",
            "Requirement already satisfied: urllib3<3,>=1.21.1 in /usr/local/lib/python3.11/dist-packages (from requests<3.0.0,>=2.0.0->wikipedia) (2.4.0)\n",
            "Requirement already satisfied: certifi>=2017.4.17 in /usr/local/lib/python3.11/dist-packages (from requests<3.0.0,>=2.0.0->wikipedia) (2025.4.26)\n",
            "Requirement already satisfied: soupsieve>1.2 in /usr/local/lib/python3.11/dist-packages (from beautifulsoup4->wikipedia) (2.7)\n",
            "Requirement already satisfied: typing-extensions>=4.0.0 in /usr/local/lib/python3.11/dist-packages (from beautifulsoup4->wikipedia) (4.13.2)\n",
            "Building wheels for collected packages: wikipedia\n",
            "  Building wheel for wikipedia (setup.py) ... \u001b[?25l\u001b[?25hdone\n",
            "  Created wheel for wikipedia: filename=wikipedia-1.4.0-py3-none-any.whl size=11678 sha256=771d0a28095a81bd9b3f15230b6e481e81e0d4575fac53b28d6daec6ade92d75\n",
            "  Stored in directory: /root/.cache/pip/wheels/8f/ab/cb/45ccc40522d3a1c41e1d2ad53b8f33a62f394011ec38cd71c6\n",
            "Successfully built wikipedia\n",
            "Installing collected packages: wikipedia\n",
            "Successfully installed wikipedia-1.4.0\n"
          ]
        }
      ]
    },
    {
      "cell_type": "code",
      "execution_count": 2,
      "metadata": {
        "id": "ELPK6sduqHq3"
      },
      "outputs": [],
      "source": [
        "import wikipedia\n",
        "wikipedia.set_lang(\"pt\")"
      ]
    },
    {
      "cell_type": "code",
      "source": [
        "wikipedia.search(\"Brasil\")"
      ],
      "metadata": {
        "id": "C0EPv5ywshom",
        "colab": {
          "base_uri": "https://localhost:8080/"
        },
        "outputId": "e5d2b647-08ae-47d3-feff-2943e3bd055e"
      },
      "execution_count": 3,
      "outputs": [
        {
          "output_type": "execute_result",
          "data": {
            "text/plain": [
              "['Brasil',\n",
              " 'Unidades federativas do Brasil',\n",
              " 'Copa do Brasil de Futebol',\n",
              " 'Lista de municípios do Brasil',\n",
              " 'Lista de cardeais do Brasil',\n",
              " 'Ditadura militar brasileira',\n",
              " 'Povos indígenas do Brasil',\n",
              " 'Distrito Federal (Brasil)',\n",
              " 'Região Nordeste do Brasil',\n",
              " 'Etimologia de Brasil']"
            ]
          },
          "metadata": {},
          "execution_count": 3
        }
      ]
    },
    {
      "cell_type": "code",
      "source": [
        "wikipedia.search(\"Estados Unidos\")"
      ],
      "metadata": {
        "id": "ah2lpJNDzGr7",
        "colab": {
          "base_uri": "https://localhost:8080/"
        },
        "outputId": "0867b4fb-7f47-45b0-d933-c00ede9a7b3c"
      },
      "execution_count": 4,
      "outputs": [
        {
          "output_type": "execute_result",
          "data": {
            "text/plain": [
              "['Estados Unidos',\n",
              " 'Estados dos Estados Unidos',\n",
              " 'Exército dos Estados Unidos',\n",
              " 'Lista de presidentes dos Estados Unidos',\n",
              " 'Bandeira dos Estados Unidos',\n",
              " 'Shameless (Estados Unidos)',\n",
              " 'Povo dos Estados Unidos',\n",
              " 'Dólar dos Estados Unidos',\n",
              " 'Presidente dos Estados Unidos',\n",
              " 'Demografia dos Estados Unidos']"
            ]
          },
          "metadata": {},
          "execution_count": 4
        }
      ]
    },
    {
      "cell_type": "code",
      "source": [
        "wikipedia.search(\"Playstation\")"
      ],
      "metadata": {
        "id": "XLaBz5v-2fCU",
        "colab": {
          "base_uri": "https://localhost:8080/"
        },
        "outputId": "d0c67e66-7fa7-4397-a311-29bd66241880"
      },
      "execution_count": 5,
      "outputs": [
        {
          "output_type": "execute_result",
          "data": {
            "text/plain": [
              "['PlayStation',\n",
              " 'PlayStation 5',\n",
              " 'PlayStation 4',\n",
              " 'PlayStation 2',\n",
              " 'PlayStation 3',\n",
              " 'PlayStation (console)',\n",
              " 'PlayStation Portable',\n",
              " 'PlayStation Vita',\n",
              " 'PlayStation Network',\n",
              " 'Lista de jogos para PlayStation']"
            ]
          },
          "metadata": {},
          "execution_count": 5
        }
      ]
    },
    {
      "cell_type": "code",
      "source": [
        "wikipedia.search(\"Nintendo\")"
      ],
      "metadata": {
        "id": "6I_w8dLW2hrK",
        "colab": {
          "base_uri": "https://localhost:8080/"
        },
        "outputId": "656371ce-a0c7-4d9c-8e72-cbb2c1d7438a"
      },
      "execution_count": 6,
      "outputs": [
        {
          "output_type": "execute_result",
          "data": {
            "text/plain": [
              "['Nintendo',\n",
              " 'Nintendo Switch',\n",
              " 'Nintendo DS',\n",
              " 'Wii',\n",
              " 'Super Nintendo Entertainment System',\n",
              " 'Wii U',\n",
              " 'Nintendo 64',\n",
              " 'Nintendo 3DS',\n",
              " 'Nintendo GameCube',\n",
              " 'Nintendo Entertainment System']"
            ]
          },
          "metadata": {},
          "execution_count": 6
        }
      ]
    },
    {
      "cell_type": "code",
      "source": [
        "documentos = {}\n",
        "for pagina in (wikipedia.search(\"Brasil\") + wikipedia.search(\"Estados Unidos\") + wikipedia.search(\"Nintendo\") + wikipedia.search(\"Playstation\")):\n",
        "    documentos[pagina] = {\n",
        "        'titulo': pagina,\n",
        "        'conteudo': wikipedia.page(pagina).content\n",
        "        }"
      ],
      "metadata": {
        "id": "WlzldOnj0mZQ"
      },
      "execution_count": 7,
      "outputs": []
    },
    {
      "cell_type": "code",
      "source": [
        "len(documentos)"
      ],
      "metadata": {
        "id": "erg1oumi1APr",
        "colab": {
          "base_uri": "https://localhost:8080/"
        },
        "outputId": "ff1a8625-720e-49ad-fe6b-c9ac7d7ae6d1"
      },
      "execution_count": 8,
      "outputs": [
        {
          "output_type": "execute_result",
          "data": {
            "text/plain": [
              "40"
            ]
          },
          "metadata": {},
          "execution_count": 8
        }
      ]
    },
    {
      "cell_type": "code",
      "source": [
        "print(documentos['Brasil'])"
      ],
      "metadata": {
        "id": "eNjNoM8h1Hnw",
        "colab": {
          "base_uri": "https://localhost:8080/"
        },
        "outputId": "6c04c4a2-9dee-4780-e86e-39eb024b47f2"
      },
      "execution_count": 9,
      "outputs": [
        {
          "output_type": "stream",
          "name": "stdout",
          "text": [
            "{'titulo': 'Brasil', 'conteudo': 'Brasil (localmente [bɾaˈziw]), oficialmente República Federativa do Brasil (), é o maior país da América do Sul e da região da América Latina, sendo o quinto maior do mundo em área territorial (equivalente a 47,3% do território sul-americano), com cerca de 8,5 milhões de quilômetros quadrados, e o sétimo em população (com 212 milhões de habitantes, em julho de 2024). É o único país na América onde se fala majoritariamente a língua portuguesa e o maior país lusófono do planeta, além de ser uma das nações mais multiculturais e etnicamente diversas, em decorrência da forte imigração oriunda de variados locais do mundo. Sua atual constituição, promulgada em 1988, concebe o Brasil como uma república federativa presidencialista, formada pela união de 26 estados, do Distrito Federal e dos 5 571 municípios.\\nBanhado pelo Oceano Atlântico, o Brasil tem um litoral de 7 491 km e faz fronteira com todos os outros países sul-americanos, exceto Chile e Equador, sendo limitado a norte pela Venezuela, Guiana, Suriname e pelo departamento ultramarino francês da Guiana Francesa; a noroeste pela Colômbia; a oeste pela Bolívia e Peru; a sudoeste pela Argentina e Paraguai e ao sul pelo Uruguai. Vários arquipélagos formam parte do território brasileiro, como o Atol das Rocas, o Arquipélago de São Pedro e São Paulo, Fernando de Noronha (o único destes habitado por civis) e Trindade e Martim Vaz. O Brasil também é o lar de uma diversidade de animais selvagens, ecossistemas e de vastos recursos naturais em uma grande variedade de habitats protegidos.\\nO território que atualmente forma o Brasil foi oficialmente descoberto pelos portugueses em 22 de abril de 1500, em expedição liderada por Pedro Álvares Cabral. Segundo alguns historiadores como Antonio de Herrera e Pietro d\\'Anghiera, o encontro do território teria sido três meses antes, em 26 de janeiro, pelo navegador espanhol Vicente Yáñez Pinzón, durante uma expedição sob seu comando. A região, então habitada por indígenas ameríndios divididos entre milhares de grupos étnicos e linguísticos diferentes, cabia a Portugal pelo Tratado de Tordesilhas, e tornou-se uma colônia do Império Português. O vínculo colonial foi rompido, de fato, em 1808, quando a capital do reino foi transferida de Lisboa para a cidade do Rio de Janeiro, depois de tropas francesas comandadas por Napoleão Bonaparte invadirem o território português. Em 1815, o Brasil se torna parte de um reino unido com Portugal. Dom Pedro I, o primeiro imperador, proclamou a independência política do país em 1822. Inicialmente independente como um império, período no qual foi uma monarquia constitucional parlamentarista, o Brasil tornou-se uma república em 1889, em razão de um golpe militar chefiado pelo marechal Deodoro da Fonseca (o primeiro presidente), embora uma legislatura bicameral, agora chamada de Congresso Nacional, já existisse desde a ratificação da primeira Constituição, em 1824. Desde o início do período republicano, a governança democrática foi interrompida por longos períodos de regimes autoritários, até um governo civil e eleito democraticamente assumir o poder em 1985, com o fim da ditadura militar.\\nComo potência regional e média, a nação tem reconhecimento e influência internacional, sendo que também é classificada como uma potência global emergente e como uma potencial superpotência por vários analistas. O PIB nominal brasileiro é o nono maior do mundo e o oitavo por paridade do poder de compra (PPC), sendo, em ambos, o maior da América Latina e do Hemisfério Sul. O país é um dos principais celeiros do planeta, sendo o maior produtor de café dos últimos 150 anos, além de ser classificado como uma economia de renda média-alta pelo Banco Mundial e como um país recentemente industrializado, que detém a maior parcela de riqueza global e a ecomomia mais complexa da América do Sul. No entanto, o país ainda mantém níveis notáveis de corrupção, criminalidade e desigualdade social. É membro fundador da Organização das Nações Unidas (ONU), G20, BRICS, Comunidade dos Países de Língua Portuguesa (CPLP), União Latina, Organização dos Estados Americanos (OEA), Organização dos Estados Ibero-americanos (OEI) e Mercado Comum do Sul (Mercosul).\\n\\n\\n== Etimologia ==\\n\\nAs raízes etimológicas do termo \"Brasil\" são de difícil reconstrução. O filólogo Adelino José da Silva Azevedo postulou que se trata de uma palavra de procedência celta (uma lenda que fala de uma \"terra de delícias\", vista entre nuvens), mas advertiu também que as origens mais remotas do termo poderiam ser encontradas na língua dos antigos fenícios. Na época colonial, cronistas da importância de João de Barros, frei Vicente do Salvador e Pero de Magalhães Gândavo apresentaram explicações concordantes acerca da origem do nome \"Brasil\". De acordo com eles, o nome \"Brasil\" é derivado de \"pau-brasil\", designação dada a um tipo de madeira empregada na tinturaria de tecidos. Na época dos descobrimentos, era comum aos exploradores guardar cuidadosamente o segredo de tudo quanto achavam ou conquistavam, a fim de explorá-lo vantajosamente, mas não tardou em se espalhar na Europa que haviam descoberto certa \"ilha Brasil\" no meio do oceano Atlântico, de onde extraíam o pau-brasil (madeira cor de brasa). Antes de ficar com a designação atual, \"Brasil\", as novas terras descobertas foram designadas de: Monte Pascoal (quando os portugueses avistaram terras pela primeira vez), Ilha de Vera Cruz, Terra de Santa Cruz, Nova Lusitânia, Cabrália, Império do Brasil e Estados Unidos do Brasil. Os habitantes naturais do Brasil são denominados brasileiros, cujo gentílico é registrado em português a partir de 1706 e referia-se inicialmente apenas aos que comercializavam pau-brasil.\\n\\n\\n== História ==\\n\\n\\n=== Período pré-colonial ===\\n\\nEstima-se que os primeiros seres humanos tenham ocupado a região que compreende o atual território brasileiro há cerca de 60 mil anos. Quando encontrada pelos europeus em 1500, a América do Sul tinha sua costa oriental habitada por cerca de dois milhões de nativos, do norte ao sul.\\nA população ameríndia era repartida em grandes nações indígenas compostas por vários grupos étnicos entre os quais se destacam os grandes grupos tupi-guarani, macro-jê e aruaque. Os primeiros eram subdivididos em guaranis, tupiniquins, tupinambás, entre inúmeros outros.\\nOs tupis espalhavam-se do atual Rio Grande do Sul ao Rio Grande do Norte de hoje, sendo a primeira raça indígena que teve contato com o colonizador, na região denominada Pindorama (do tupi, \"terra das palmeiras\"), e decorrente da maior presença, com influência dos mamelucos, mestiços, dos luso-brasileiros que nasciam e nos europeus que se fixavam\".\\nAs fronteiras entre esses grupos e seus subgrupos, antes da chegada dos europeus, eram demarcadas pelas guerras entre os mesmos, oriundas das diferenças de cultura, língua e costumes. Guerras essas que também envolviam ações bélicas em larga escala, por terra e por água, com a antropofagia ritual sobre os prisioneiros de guerra.\\nEmbora a hereditariedade tivesse algum peso, a liderança era um status mais conquistado ao longo do tempo do que atribuído em cerimônias e convenções sucessórias.\\nA escravidão entre os indígenas tinha um significado diferente da escravidão europeia, uma vez que se originava de uma organização socioeconômica diversa, na qual as assimetrias eram traduzidas em relações de parentesco.\\n\\n\\n=== Colonização europeia ===\\n\\nEmbora supostamente o português Duarte Pacheco Pereira e o navegador espanhol Vicente Yáñez Pinzón tenham sido os primeiros europeus a chegar à terra agora chamada de Brasil (cuja viagem de Pinzón terá sido documentada ao atingir o cabo de Santo Agostinho, no litoral de Pernambuco, em 26 de janeiro de 1500), o território foi reivindicado por Portugal em 22 de abril do mesmo ano, com a chegada da frota portuguesa comandada por Pedro Álvares Cabral a Porto Seguro, no atual estado da Bahia, em função do Tratado de Tordesilhas.\\nA colonização do Brasil foi efetivamente iniciada em 1534, quando o rei D. João III dividiu o território em quatorze capitanias hereditárias, mas esse arranjo se mostrou problemático, uma vez que apenas as capitanias de Pernambuco e São Vicente prosperaram. Então, em 1549, o rei atribuiu um governador-geral para administrar toda a colônia. Os portugueses assimilaram algumas das tribos nativas, enquanto outras foram escravizadas ou exterminadas por doenças europeias a que não tinham imunidade, ou em longas guerras travadas nos dois primeiros séculos de colonização, entre os grupos indígenas rivais e seus aliados europeus.\\nEm meados do século XVI, quando o açúcar de cana tornou-se o mais importante produto de exportação do Brasil, os portugueses iniciaram a importação de escravos africanos, comprados nos mercados de escravos da África Ocidental. Assim, esses começaram a ser trazidos ao Brasil, inicialmente para lidar-se com a crescente demanda internacional do produto, naquele que foi denominado ciclo do açúcar.\\nIgnorando o tratado de Tordesilhas de 1494, os portugueses, através de expedições conhecidas como bandeiras, paulatinamente avançaram sua fronteira colonial na América do Sul para onde se situa a maior parte das atuais fronteiras brasileiras, tendo passado os séculos XVI e XVII defendendo tais conquistas contra potências rivais europeias. Desse período destacam-se os conflitos que rechaçaram as incursões coloniais francesas (no Rio de Janeiro em 1567 e no Maranhão em 1615) e que, após o fim da União Ibérica, expulsaram os holandeses do nordeste, na chamada Insurreição Pernambucana — sendo o conflito com os holandeses parte integrante da Guerra Luso-Holandesa.\\nAo final do século XVII, devido à concorrência colonial, as exportações de açúcar brasileiro começaram a declinar, mas a descoberta de ouro pelos bandeirantes na década de 1690 abriu um novo ciclo para a economia extrativista da colônia, promovendo uma febre do ouro no Brasil, que atraiu milhares de novos colonos, vindos não só de Portugal, mas também de outras colônias portuguesas ao redor do mundo, o que por sua vez acabou gerando conflitos (como a Guerra dos Emboabas), entre os antigos colonos e os recém-chegados.\\nPara garantir a manutenção da ordem colonial interna, além da defesa do monopólio de exploração econômica do Brasil, o foco da administração colonial portuguesa concentrou-se tanto em manter sob controle e erradicar as principais formas de rebelião e resistência dos escravos (a exemplo do Quilombo dos Palmares), como em reprimir todo movimento por autonomia ou independência política (como a Inconfidência Mineira).\\n\\n\\n=== Reino unido com Portugal ===\\n\\nNo final de 1807, forças espanholas e napoleônicas ameaçaram a segurança de Portugal Continental, fazendo com que o Príncipe Regente D. João VI, em nome da rainha Maria I, transferisse a corte real de Lisboa ao Brasil. O estabelecimento da corte portuguesa trouxe o surgimento de algumas das primeiras instituições brasileiras, como bolsas de valores locais e um banco nacional, e acabou com o monopólio comercial que Portugal mantinha sobre o Brasil, liberando as trocas comerciais com outras nações. Em 1809, em retaliação por ter sido forçado a um \"autoexílio\" no Brasil, o príncipe regente ordenou a conquista portuguesa da Guiana Francesa.\\nCom o fim da Guerra Peninsular em 1814, os tribunais europeus exigiram que a rainha Maria I e o príncipe regente D. João regressassem a Portugal, já que consideravam impróprio que representantes de uma antiga monarquia europeia residissem em uma colônia. Em 1815, para justificar a sua permanência no Brasil, onde a corte real tinha prosperado nos últimos seis anos, o Reino Unido de Portugal, Brasil e Algarves foi criado, estabelecendo, assim, um Estado monárquico transatlântico e pluricontinental. No entanto, isso não foi suficiente para acalmar a demanda portuguesa pelo retorno da corte para Lisboa, como a revolução liberal do Porto exigiria em 1820, e nem o desejo de independência e pelo estabelecimento de uma república por grupos de brasileiros, como a Revolução Pernambucana de 1817 mostrou. Em 1821, como uma exigência de revolucionários que haviam tomado a cidade do Porto, D. João VI foi incapaz de resistir por mais tempo e partiu para Lisboa, onde foi obrigado a fazer um juramento à nova constituição, deixando seu filho, o príncipe Pedro de Alcântara, como Regente do Reino do Brasil.\\n\\n\\n=== Independência e Império ===\\n\\nEm decorrência desses acontecimentos, a coroa portuguesa tentou, mais uma vez, transformar o Brasil em uma colônia, privando o país do estatuto de Reino, adquirido em 1815. Os brasileiros se recusaram a ceder e D. Pedro ficou com eles, declarando a independência do país do Reino Unido de Portugal, Brasil e Algarves, em 7 de setembro de 1822. Em 12 de outubro de 1822, Pedro foi declarado o primeiro imperador do Brasil e coroado D. Pedro I em 1 de dezembro do mesmo ano, fundando, assim, o Império do Brasil.\\nA Guerra da Independência do Brasil, iniciada ao longo deste processo, propagou-se pelas regiões norte, nordeste e ao sul na província de Cisplatina. Os últimos soldados portugueses renderam-se em 8 de março de 1824, sendo a independência reconhecida por Portugal em 29 de agosto de 1825, no tratado do Rio de Janeiro.\\nA primeira constituição brasileira foi outorgada em 25 de março de 1824, após a sua aceitação pelos conselhos municipais de todo o país. Exaurido no Brasil por anos de exercício do poder moderador, período no qual também enfrentou em Pernambuco o movimento separatista conhecido como Confederação do Equador, e inconformado com o rumo que os absolutistas portugueses haviam imprimido à sucessão de D. João VI, D. Pedro I abdicou em 7 de abril de 1831, em favor de seu filho de cinco anos e herdeiro (que viria a ser o imperador Dom Pedro II), e retornou à Europa a fim de recuperar a coroa para sua filha. Como o novo imperador não poderia, até atingir a maturidade, exercer suas prerrogativas constitucionais, a regência foi adotada.\\n\\nDurante o período regencial ocorreu uma série de rebeliões localizadas, como a Cabanagem, a Revolta dos Malês, a Balaiada, a Sabinada e a Revolução Farroupilha, decorrentes do descontentamento das províncias com o poder central e das tensões sociais latentes de uma nação escravocrata e recém-independente. Em meio a esta agitação, D. Pedro II foi declarado imperador prematuramente em 23 de julho de 1840. Porém, somente ao final daquela década, as últimas revoltas do período regencial e outras posteriores, como a Revolução Praieira, foram debeladas e o país pôde voltar a uma relativa estabilidade política interna.\\nInternacionalmente, após a perda de Cisplatina, que se tornou o Uruguai, o Brasil saiu vitorioso de três guerras no Cone Sul durante o reinado de Dom Pedro II: a guerra do Prata, a guerra do Uruguai e a guerra do Paraguai naquele que, além de ter sido um dos maiores conflitos da história (o maior da América do Sul), foi o que exigiu o maior esforço de guerra na história do país.\\nConcernente à questão da escravidão no país, somente após anos de pressão comercial e marítima exercida pelo Reino Unido, em decorrência da lei \"Bill Aberdeen\", o Brasil concordou em abandonar o tráfico internacional de escravos, em 1850. Apesar disso e da repercussão internacional, dos efeitos políticos e econômicos decorrentes da derrota dos Estados Confederados na Guerra Civil Americana durante a década de 1860, foi apenas em 1888, após um longo processo de mobilização interna e debate para a desmontagem moral e legal da escravidão, que essa foi formalmente abolida no Brasil  (ver: Pós-abolição no Brasil).\\nEm 15 de novembro de 1889, desgastada por anos de estagnação econômica, em atrito com a oficialidade do Exército e também com as elites rurais e financeiras (embora por razões diferentes), a monarquia foi derrubada por um golpe militar.\\n\\n\\n=== Primeira República e Era Vargas ===\\n\\nCom o início do governo republicano, sendo pouco mais do que uma ditadura militar, a então nova constituição de 1891 previa eleições diretas apenas para 1894 e, embora abolisse a restrição do período monárquico que estabelecia direito ao voto apenas aos que tivessem determinado nível de renda, mantinha o exercício do voto em caráter aberto (não secreto) e, entre outras restrições, circunscrito apenas aos homens, alfabetizados, numa época em que a população do país era majoritariamente analfabeta.\\nNeste primeiro período, o país republicano manteve um relativo equilíbrio em relação à política externa, que só foi rompido pela questão acriana (1899–1902) e pelo envolvimento do país na Primeira Guerra Mundial (1914–1918). Internamente, a partir da crise do encilhamento e da 1ª Revolta da Armada em 1891, iniciou-se um ciclo prolongado de instabilidade financeira, política e social que se estenderia até a década de 1920, mantendo o país assolado por diversas rebeliões, tanto civis, quanto militares. Pouco a pouco, estas rebeliões minaram o regime de tal forma que, em 1930, foi possível ao candidato presidencial derrotado nas eleições daquele ano, Getúlio Vargas, na esteira do assassinato de João Pessoa, seu companheiro de chapa, liderar a Revolução de 1930, com o apoio dos militares, e assumir a presidência da república.\\nVargas e os militares, que deveriam assumir a presidência apenas temporariamente a fim de implementar reformas democráticas, fecharam o congresso nacional brasileiro e seguiram governando sob estado de emergência, tendo feito a intervenção federal de todos os estados, à exceção de Minas Gerais, substituindo os governadores dos estados por interventores federais, que eram seus apoiadores políticos.\\nSob a justificativa de cobrar a implementação das promessas de reformas democráticas em uma nova constituição, em 1932 a oligarquia paulista tentou recuperar o poder através de uma revolução armada e, em 1935, os comunistas se rebelaram na Intentona Comunista, tendo ambos os movimentos sido derrotados. No entanto, a ameaça comunista serviu de pretexto tanto para impedir as eleições previamente estipuladas, como para que Vargas e os militares lançassem mão de outro golpe de Estado em 1937 estabelecendo o Estado Novo, formalizando assim o status ditatorial do regime. Em maio de 1938, houve o Levante Integralista, ainda outra tentativa fracassada de tomada de poder, desta vez por parte dos nacionalistas.\\nO Brasil manteve-se neutro durante os primeiros anos da Segunda Guerra Mundial (1939–1945) até os antecedentes que o levaram a postar-se ao lado dos Estados Unidos durante a Conferência Interamericana de 1942, realizada no Rio de Janeiro em janeiro, rompendo relações diplomáticas com as potências do Eixo. Em represália, as marinhas de guerra da Alemanha nazista e Itália fascista estenderam sua campanha de guerra submarina ao Brasil e, após meses de contínuo afundamento de navios mercantes brasileiros e forte pressão popular, o governo declarou-lhes guerra em agosto daquele ano, tendo somente em 1944 enviado uma força expedicionária para combater na Europa. Com a vitória aliada em 1945 e o fim dos regimes nazifascistas na Europa, a posição de Vargas tornou-se insustentável e ele foi rapidamente deposto por outro golpe militar. A democracia foi \"restabelecida\", e o general Eurico Gaspar Dutra foi eleito presidente, tomando posse em 1946. Tendo voltado ao poder eleito democraticamente em 1950, Vargas suicidou-se em agosto de 1954, em meio a uma crise política.\\n\\n\\n=== Quarta República e ditadura militar ===\\n\\nVários governos provisórios breves sucederam-se após o suicídio de Vargas. Em 1955, através de eleições diretas, Juscelino Kubitschek tornou-se presidente e assumiu uma postura conciliadora em relação à oposição política, o que lhe permitiu governar sem grandes crises. A economia e o setor industrial cresceram consideravelmente, mas sua maior conquista foi a construção da nova capital, Brasília, inaugurada em 1960.\\nO sucessor de Kubitschek, Jânio Quadros, eleito em 1960, renunciou em 1961 menos de sete meses após assumir o cargo. Seu vice-presidente, João Goulart, assumiu a presidência, mas suscitou forte oposição política e foi deposto pelo Golpe de 1964 que resultou na instauração de um regime militar.\\nO novo regime se destinava a ser transitório, mas, cada vez mais fechado em si mesmo, tornou-se uma ditadura plena com a promulgação do Ato Institucional n.º 5 em 1968. A censura e a repressão em todas as suas formas, incluindo a tortura, não se restringiram aos políticos oposicionistas e militantes de esquerda. A sua ação alcançou a todos aqueles a quem o regime encarava como opositores, ou a eles ligados, o que abrangeu praticamente todos os setores sociais; entre eles artistas, estudantes, jornalistas, clérigos, sindicalistas, professores, intelectuais, além dos próprios militares e policiais que expressassem qualquer discordância ao regime e familiares de presos políticos.\\nAtravés da Operação Condor, o governo brasileiro também participou na perseguição internacional a dissidentes sul-americanos em geral. A exemplo de outros regimes ditatoriais na história, o regime militar brasileiro atingiu o auge de sua popularidade num momento de alto crescimento econômico, que ficou conhecido como \"milagre econômico\", momento este que coincidiu com o auge da repressão.\\nLentamente, no entanto, o desgaste natural de anos de poder ditatorial, que não abrandou a repressão mesmo após a derrota da guerrilha de esquerda, somado à inabilidade em lidar com as crises econômicas do período, o crescimento da oposição política nas eleições regionais e ainda as pressões populares, tornou inevitável a abertura política do regime que, por seu lado, foi conduzida pelos generais Geisel e Golbery. Com a promulgação da Lei da Anistia em 1979, o Brasil lentamente iniciou a volta à democracia, que se completaria na década de 1980.\\n\\n\\n=== Sexta República ===\\n\\nApós o movimento popular das Diretas Já, os civis voltaram ao poder em 1985 inaugurando a chamada Nova República, com a eleição do oposicionista Tancredo Neves, que, entretanto, não assumiu o cargo devido à morte decorrente de uma grave doença. Seu vice, José Sarney, assumiu a presidência, tornando-se impopular ao longo de seu mandato por conta da piora da crise econômica e hiperinflação herdadas do regime militar, mesmo com uma breve euforia inicial do seu Plano Cruzado. Sarney deu continuidade ao programa de governo de Tancredo Neves instaurando, em 1987, uma Assembleia Nacional Constituinte, que promulgou a atual Constituição brasileira. No entanto, o fracasso do Governo Sarney na área econômica e o consequente desgaste político permitiu a eleição, em 1989, do quase desconhecido Fernando Collor, que posteriormente sofreu processo de impeachment pelo Congresso Nacional brasileiro em 1992, com seu vice-presidente, Itamar Franco, assumindo o cargo em decorrência.\\nDo novo ministério nomeado por Itamar, com integrantes de praticamente todos os partidos que aprovaram o impeachment de Collor. destacou-se Fernando Henrique Cardoso (FHC), como ministro da Fazenda e coordenador do bem-sucedido Plano Real, que trouxe estabilidade para a economia brasileira, após décadas de inúmeros planos econômicos de governos anteriores que haviam fracassado na tentativa de controlar a hiperinflação. Em consequência, FHC foi eleito presidente na eleição presidencial de 1994 e novamente em 1998. A transição pacífica de poder para seu principal opositor, Luiz Inácio Lula da Silva, eleito em 2002 e reeleito em 2006, mostrou que o Brasil finalmente conseguiu alcançar a sua muito procurada estabilidade política.\\nNas eleições de 2010, Dilma Rousseff tornou-se a primeira mulher eleita presidente. Em junho de 2013, irromperam no país manifestações populares por diversas reivindicações sociais. Após as polarizadas eleições de 2014, Rousseff foi reeleita, no entanto, em 2015, sua rejeição atingiu quase 70% em meio a protestos populares, ao mesmo tempo em que vários políticos eram investigados pela Polícia Federal. Em abril de 2016, a Câmara iniciou um processo de impeachment contra a presidente, que foi ratificado pelo Senado em maio. Rousseff foi deposta em 31 de agosto e seu vice, Michel Temer, assumiu o cargo.\\n\\nEm 2018, o ex-presidente Lula foi condenado e preso por corrupção e lavagem de dinheiro no âmbito da Operação Lava Jato. Nas eleições daquele ano, elegeu-se presidente o candidato Jair Bolsonaro, do Partido Social Liberal (PSL), que venceu no segundo turno Fernando Haddad, do Partido dos Trabalhadores (PT), com o apoio de 55,13% dos votos válidos. No início da década de 2020, o Brasil se tornou um dos países mais atingidos durante a pandemia de COVID-19, recebendo o segundo maior número de mortes em todo o mundo, depois dos Estados Unidos.  Especialistas culparam amplamente a situação pela liderança de Bolsonaro, que durante toda a pandemia minimizou repetidamente a ameaça do COVID-19 e dissuadiu estados e municípios de aplicar medidas de distanciamento social.\\nEm maio de 2021, Luiz Inácio Lula da Silva afirmou que concorreria a um terceiro mandato na eleição presidencial de 2022, contra Bolsonaro. No dia 2 de outubro de 2022, na votação do primeiro turno, Lula ficou em primeiro lugar com apoio de 48,43% do eleitorado, classificando-se para o segundo turno com Bolsonaro, que recebeu 43,20% dos votos. No segundo turno, Lula recebeu 50,90% dos votos contra 49,10% de Bolsonaro, o resultado mais acirrado da história das eleições presidenciais brasileiras. Lula recebeu o maior número de votos em uma eleição brasileira, tornou-se o primeiro presidente do Brasil eleito para três mandatos, o primeiro desde Getúlio Vargas a servir em mandatos não consecutivos e também o primeiro candidato a vencer um presidente em exercício.\\nEm 8 de janeiro de 2023, uma semana após a posse de Lula, uma multidão de apoiadores extremistas de Bolsonaro atacou as sedes do governo federal brasileiro na capital, Brasília, após várias semanas de manifestações golpistas. A turma invadiu e vandalizou o Palácio do Planalto, o Palácio do Congresso Nacional e o Palácio do Supremo Tribunal Federal na Praça dos Três Poderes, com o objetivo de derrubar Lula e instigar líderes militares a desferir um golpe de Estado e interromper a transição democrática do poder. Em resposta, Lula decretou intervenção no Distrito Federal.\\n\\n\\n== Geografia ==\\n\\nO território brasileiro é cortado por dois círculos imaginários: a Linha do Equador, que passa pela embocadura do Amazonas, e o Trópico de Capricórnio, que corta o município de São Paulo. O país ocupa uma vasta área ao longo da costa leste da América do Sul e inclui grande parte do interior do continente, compartilhando fronteiras terrestres com Uruguai ao sul; Argentina e Paraguai a sudoeste; Bolívia e Peru a oeste; Colômbia a noroeste e Venezuela, Suriname, Guiana e com o departamento ultramarino francês da Guiana Francesa ao norte. O país compartilha uma fronteira comum com todos os países da América do Sul, exceto Equador e Chile.\\nO Brasil também engloba uma série de arquipélagos oceânicos, como Fernando de Noronha, Atol das Rocas, São Pedro e São Paulo e Trindade e Martim Vaz. O seu tamanho, relevo, clima e recursos naturais fazem do Brasil um país geograficamente diverso.\\nO país é o quinto maior do mundo em área territorial, com 8 510 417,771 km² (incluindo 55 455 km² de água) depois de Rússia, Canadá, China e Estados Unidos.\\nSeu território abrange quatro fusos horários, a partir de UTC−5 no Acre e sudoeste do Amazonas; UTC−4 em Mato Grosso, Mato Grosso do Sul, Rondônia, Roraima e maior parte do Amazonas; UTC−3 (horário oficial do Brasil) em Goiás, Distrito Federal, Pará, Amapá e todos os estados das regiões Nordeste, Sudeste e Sul e UTC−2 nas ilhas do Atlântico.\\n\\n\\n=== Clima ===\\n\\nO clima do Brasil dispõe de uma ampla variedade de condições de tempo em uma grande área e topografia variada, mas a maior parte do país é tropical. Segundo o sistema Köppen, o Brasil acolhe seis principais subtipos climáticos: equatorial, tropical, semiárido, tropical de altitude, temperado e subtropical. As diferentes condições climáticas produzem ambientes que variam de florestas equatoriais no Norte e regiões semiáridas no Nordeste, para florestas temperadas de coníferas no Sul e savanas tropicais no Brasil central. Muitas regiões têm microclimas totalmente diferentes.\\nO clima equatorial caracteriza grande parte do norte do Brasil. Não existe uma estação seca real, mas existem algumas variações no período do ano em que mais chove. Temperaturas médias de 25 °C, com mais variação de temperatura significativa entre a noite e o dia do que entre as estações. As chuvas no Brasil central são mais sazonais, característico de um clima de savana. Esta região é tão extensa como a bacia amazônica, mas tem um clima muito diferente, já que fica mais ao sul, em uma latitude inferior. O Sul e parte do Sudeste possuem condições de clima temperado, com invernos frescos e temperatura média anual não superior a 18 °C; geadas de inverno são bastante comuns, com ocasional queda de neve nas áreas mais elevadas.\\nNo interior do nordeste, a precipitação sazonal é ainda mais extrema. A região de clima semiárido geralmente recebe menos de 800 milímetros de chuva, a maior parte em um período de três a cinco meses no ano e por vezes menos do que isso, resultando em longos períodos de seca. A Grande Seca de 1877–78, a mais grave já registrada no país, causou cerca de meio milhão de mortes. Outra em 1915 foi devastadora também.\\n\\n\\n=== Topografia e hidrografia ===\\n\\nA topografia brasileira também é diversificada e inclui morros, montanhas, planícies, planaltos e cerrados. Grande parte do terreno se situa entre 200 e 800 metros de altitude.\\nA área principal de terras altas ocupa mais da metade sul do país. As partes noroeste do planalto são compostas por terreno, amplo rolamento quebrado por baixo e morros arredondados. A seção sudeste é mais robusta, com uma massa complexa de cordilheiras e serras atingindo altitudes de até 1 200 metros. Esses intervalos incluem as serras do Espinhaço, da Mantiqueira e do Mar.\\nNo norte, o planalto das Guianas constitui um fosso de drenagem principal, separando os rios que correm para o sul da Bacia Amazônica dos que deságuam no sistema do rio Orinoco, na Venezuela, ao norte. O ponto mais alto no Brasil é o Pico da Neblina, na Serra do Imeri (fronteira com a Venezuela), com 2 994 metros, e o menor é o Oceano Atlântico.\\nO Brasil tem um sistema denso e complexo de rios, um dos mais extensos do mundo, com oito grandes bacias hidrográficas, que drenam para o Atlântico. Os rios mais importantes são o Amazonas (o maior rio do mundo tanto em comprimento — 6 937,08 quilômetros de extensão — como em termos de volume de água — vazão de 12,5 bilhões de litros por minuto), o Paraná e seu maior afluente, o Iguaçu (que inclui as cataratas do Iguaçu), o Negro, São Francisco (maior rio totalmente brasileiro), Xingu, Madeira e Tapajós.\\n\\n\\n=== Biodiversidade e meio ambiente ===\\n\\nA grande extensão territorial do Brasil abrange diferentes ecossistemas, como a Floresta Amazônica, reconhecida como tendo a maior diversidade biológica do mundo. Os rios amazônicos fornecem uma variedade de habitats, incluindo pântanos e riachos, cada um abrigando diferentes tipos de vida selvagem. A mata Atlântica e o cerrado, sustentam também grande biodiversidade, além da caatinga, fazendo do Brasil um país megadiverso. No sul, a floresta de araucárias cresce sob condições de clima temperado.\\nA rica vida selvagem do Brasil reflete a variedade de habitats naturais. Os cientistas estimam que o número total de espécies vegetais e animais no Brasil seja de aproximadamente de quatro milhões. Grandes mamíferos incluem pumas, onças, jaguatiricas, raros cachorros-vinagre, raposas, queixadas, antas, tamanduás, preguiças, gambás e tatus. Veados são abundantes no sul e muitas espécies de platyrrhini são encontradas nas florestas tropicais do norte. A preocupação com o meio ambiente tem crescido em resposta ao interesse mundial nas questões ambientais.\\nO patrimônio natural do Brasil está seriamente ameaçado pela pecuária e agricultura, exploração madeireira, mineração, reassentamento, desmatamento, extração de petróleo e gás, a sobrepesca, comércio de espécies selvagens, barragens e infraestrutura, contaminação da água, fogo, espécies invasoras e pelos efeitos do aquecimento global. A construção de estradas em áreas de floresta, tais como a BR-230 e a BR-163, abriu áreas anteriormente remotas para a agricultura e para o comércio; barragens inundaram vales e habitats selvagens e minas criaram cicatrizes na terra e poluíram a paisagem. Em dezembro de 2016, conforme estudos da Embrapa, a vegetação nativa preservada cobria 61% do território brasileiro. A agricultura ocupava 8% do território nacional enquanto as pastagens cobriam 19,7%. Em 2014, segundo o IBGE, o Brasil tinha 3 299 espécies ameaçadas de extinção.\\n\\n\\n== Demografia ==\\n\\nA população do Brasil, conforme censo demográfico realizado pelo Instituto Brasileiro de Geografia e Estatística (IBGE) em 2022, foi de 203 080 756 habitantes, 87,41% destes vivendo em áreas urbanas, com uma densidade de 23,86 habitantes por quilômetro quadrado e uma proporção de homens e mulheres de 94,25:100. A população está fortemente concentrada nas regiões Sudeste (84,8 milhões de habitantes), Nordeste (54,6 milhões) e Sul (29,9 milhões), enquanto as duas regiões mais extensas, o Norte e o Centro-Oeste, que formam quase dois terços do território nacional, contam com 17,3 e 16,2 milhões de habitantes, respectivamente.\\nA população brasileira aumentou significativamente entre 1940 e 1970, devido a um declínio na taxa de mortalidade, embora a taxa de natalidade também tenha passado por um ligeiro declínio no período. Na década de 1940 a taxa de crescimento anual da população foi de 2,4%, subindo para 3% em 1950 e permanecendo em 2,9% em 1960, com a expectativa de vida subindo de 44 para 54 anos e para 77 anos em 2021. A taxa de aumento populacional tem vindo a diminuir desde 1960, de 3,04% ao ano entre 1950–1960 para 1,05% em 2008 e deverá cair para um valor negativo, de -0,29%, em 2050, completando assim a transição demográfica.\\n\\n\\n=== Urbanização ===\\nOs maiores aglomerados urbanos do Brasil, de acordo com o censo do IBGE para 2022, são as conurbações de São Paulo (com 20 673 280 habitantes), Rio de Janeiro (11 760 550), Belo Horizonte (4 963 704), Brasília (3 858 760) e Recife (3 783 639). Existem também grandes concentrações urbanas no interior do país. Quase todas as capitais são as maiores cidades de seus estados, com exceção de Vitória, capital do Espírito Santo, e Florianópolis, a capital de Santa Catarina.\\n\\n\\n=== Composição étnica ===\\n\\nSegundo exames genéticos, ao contrário da crença popular, os brasileiros são em média majoritariamente europeus: 72%, seguidos por 11% da África subsaariana e em terceiro lugar a origem indígena americana com 6,5%.\\nJá segundo o IBGE, no censo de 2022 45,34% da população (92 083 286) se autodeclararam como pardos; 43,46% (88 252 121) como brancos; 10,17% (20 656 458) como pretos; 0,6% (1 227 642) como indígenas e 0,42% (850 130) como amarelos.\\nEm 2007, a Fundação Nacional dos Povos Indígenas (FUNAI) relatou a existência de 67 tribos indígenas isoladas em regiões remotas do Brasil, a maioria delas no interior da Floresta Amazônica. Acredita-se que o Brasil possua o maior número de povos isolados do mundo.\\nA maioria dos brasileiros descende de colonos portugueses, imigrantes europeus, escravos africanos e de povos indígenas do país. Desde a chegada dos portugueses em 1500, um considerável número de uniões entre estes três grupos foi realizado. A população parda é uma categoria ampla que inclui caboclos (descendentes de brancos e indígenas), mulatos (descendentes de brancos e negros) e cafuzos (descendentes de negros e indígenas).\\nOs pardos e mulatos formam a maioria da população nas regiões Norte, Nordeste e Centro-Oeste. A população mulata concentra-se geralmente na costa leste da região Nordeste, da Bahia à Paraíba e também no norte do Maranhão, sul de Minas Gerais e no leste do Rio de Janeiro.\\nNo século XIX o Brasil abriu suas fronteiras à imigração. Cerca de cinco milhões de pessoas de mais de 60 países migraram para o Brasil entre 1808 e 1972, a maioria delas de Portugal, Itália, Espanha, Alemanha, Japão e Oriente Médio.\\n\\n\\n=== Religiões ===\\n\\nA Constituição prevê liberdade de religião, ou seja, proíbe qualquer tipo de intolerância religiosa e a Igreja e o Estado estão oficialmente separados, sendo o Brasil um país secular.\\nEm 2000, a religião católica representava 73,6% do total no país. Em 2010, era 64,6%, sendo observada pela primeira vez a redução em números absolutos (de 124 980 132 para 123 280 172). Ainda assim, o perfil religioso brasileiro continua tendo uma maioria predominantemente católica (42,4% a mais que a segunda maior religião do país, o protestantismo). De acordo com o censo de 2010, entre os estados, o Rio de Janeiro apresenta a menor proporção de católicos, 45,8%; e o Piauí, a maior, 85,1%. Já a proporção de evangélicos era maior em Rondônia (33,8%) e menor no Piauí (9,7%).\\nEm outubro de 2009, foi aprovado pelo Senado e decretado pelo Presidente da República em fevereiro de 2010 um acordo com o Vaticano, em que é reconhecido o Estatuto Jurídico da Igreja Católica no Brasil. O acordo confirmou normas que já eram normalmente cumpridas sobre ensino religioso nas escolas públicas de ensino fundamental (que assegura também o ensino de outras crenças), casamento e assistência espiritual em presídios e hospitais. O projeto sofreu críticas de parlamentares que entendiam como o fim do Estado laico com a aprovação do acordo.\\n\\n\\n=== Idiomas ===\\n\\nA língua oficial do Brasil é o português, que é falado por quase toda a população e é praticamente o único idioma usado nos meios de comunicação, nos negócios e para fins administrativos. O país é o único lusófono da América e o idioma tornou-se uma parte importante da identidade nacional brasileira.\\nO português brasileiro teve o seu próprio desenvolvimento, influenciado por línguas ameríndias, africanas e por outros idiomas europeus. Como resultado, essa variante é um pouco diferente, principalmente na fonologia, do português lusitano. Essas diferenças são comparáveis àquelas entre o inglês americano e o inglês britânico.\\nEm 2008, a Comunidade dos Países de Língua Portuguesa (CPLP), que inclui representantes de todos os países cujo português é o idioma oficial, chegou a um acordo sobre a padronização ortográfica da língua, com o objetivo de reduzir as diferenças entre as duas variantes. A todos os países da CPLP foi dado o prazo de 2009 até 2016 para adaptarem-se às mudanças necessárias.\\nIdiomas minoritários são falados em todo o país. O censo de 2010 contabilizou 305 etnias indígenas no Brasil, que falam 274 línguas diferentes. Dos indígenas com cinco ou mais anos, 37,4% falavam uma língua indígena e 76,9% falavam português. Há também comunidades significativas de falantes do alemão (na maior parte o Hunsrückisch, um dialeto alto-alemão) e italiano (principalmente o talian, de origem vêneta) no sul do país, os quais são influenciados pelo idioma português.\\nDiversos municípios brasileiros cooficializaram outras línguas, como São Gabriel da Cachoeira, no estado do Amazonas, onde ao nheengatu, tukano e baniwa, que são línguas ameríndias, foram concedidas ao status cooficial com o português. Outros municípios, como Santa Maria de Jetibá (no Espírito Santo) e Pomerode (em Santa Catarina) também cooficializaram outras línguas alóctones, como o alemão e o pomerano. Os estados de Santa Catarina e Rio Grande do Sul também possuem o talian como patrimônio linguístico oficial, enquanto o Espírito Santo, em agosto de 2011, incluiu em sua constituição o pomerano e o alemão, como seus patrimônios culturais.\\n\\n\\n== Governo e política ==\\n\\nA organização político-administrativa da República Federativa do Brasil compreende a União, os estados, o Distrito Federal e os municípios, todos autônomos, nos termos da constituição. A União, os estados, o Distrito Federal e os municípios são as esferas de governo. A Federação está definida em cinco princípios fundamentais: soberania, cidadania, dignidade da pessoa humana, os valores sociais do trabalho e da livre iniciativa e o pluralismo político. Os ramos clássicos tripartite de governo (executivo, legislativo e judiciário no âmbito do sistema de controle e equilíbrios) são oficialmente criados pela Constituição. O executivo e o legislativo estão organizados de forma independente em todas as esferas de governo, enquanto o judiciário é organizado apenas a nível federal e nas esferas estadual e do Distrito Federal.\\nTodos os membros do executivo e do legislativo são eleitos diretamente. Juízes e outros funcionários judiciais são nomeados após aprovação em exames de entrada. O voto é obrigatório para os alfabetizados entre 18 e 70 anos e facultativo para analfabetos e aqueles com idade entre 16 e 18 anos ou superior a 70 anos. Quase todas as funções governamentais e administrativas são exercidas por autoridades e agências filiadas ao Executivo. A forma de governo é a de uma república democrática, com um sistema presidencial. O presidente é o chefe de Estado e de Governo e é eleito para um mandato de quatro anos, com a possibilidade de reeleição para um segundo mandato consecutivo. Ele é responsável pela nomeação dos ministros de Estado, que o auxiliam no governo.\\nAs casas legislativas de cada entidade política são a principal fonte de direito no Brasil. O Congresso Nacional é a legislatura bicameral da Federação, composto pela Câmara dos Deputados e pelo Senado Federal. Autoridades do Judiciário exercem funções jurisdicionais, quase exclusivamente. Quase todos os partidos políticos estão representados no Congresso. É comum que os políticos mudem de partido e, assim, a proporção de assentos parlamentares detidos por partidos muda regularmente. Os maiores partidos, de acordo com o número de filiados, são o Movimento Democrático Brasileiro (MDB), Partido dos Trabalhadores (PT), Partido Renovação Democrática (PRD), Partido da Social Democracia Brasileira (PSDB), Progressistas (PP), Partido Democrático Trabalhista (PDT), União Brasil (UNIÃO), Podemos (PODE), Partido Liberal (PL), Partido Socialista Brasileiro (PSB), Republicanos e Cidadania (CDN).\\n\\n\\n=== Direito ===\\n\\nO direito brasileiro é baseado na tradição do código civil, parte do sistema romano-germânico. Assim, os conceitos de direito civil prevalecem sobre práticas de direito comum. A maior parte da legislação brasileira é codificada, apesar de leis não codificadas serem uma parte substancial do sistema, desempenhando um papel complementar. Decisões do Tribunal e orientações explicativas, no entanto, não são vinculativas sobre outros casos específicos, exceto em algumas situações.\\nObras de doutrina e as obras de juristas acadêmicos têm forte influência na criação de direito e em casos de direito. O sistema jurídico baseia-se na Constituição Federal, que foi promulgada em 5 de outubro de 1988 e é a lei fundamental do Brasil. Todas as outras legislações e as decisões das cortes de justiça devem corresponder a seus princípios. Os estados têm suas próprias constituições, que não devem entrar em contradição com a constituição federal. Os municípios e o Distrito Federal não têm constituições; em vez disso, eles têm leis orgânicas. Entidades legislativas são a principal fonte das leis, embora, em determinadas questões, organismos dos poderes judiciário e executivo possam promulgar normas jurídicas.\\nA jurisdição é administrada pelas entidades do poder judiciário brasileiro, embora em situações raras a Constituição Federal permita que o Senado Federal interfira nas decisões judiciais. Existem jurisdições especializadas como a Justiça Militar, a Justiça do Trabalho e a Justiça Eleitoral. O tribunal mais alto é o Supremo Tribunal Federal. Este sistema tem sido criticado nas últimas décadas devido à lentidão com que as decisões finais são emitidas. Ações judiciais de recurso podem levar vários anos para serem resolvidas e, em alguns casos, mais de uma década para expirar antes de as decisões definitivas serem tomadas.\\n\\n\\n=== Crime e aplicação da lei ===\\n\\nA Constituição brasileira, em seu artigo 144.º, estabelece oito instituições para a execução das leis de segurança pública — sete com a função titular: Polícia Federal, Polícia Rodoviária Federal, Polícia Ferroviária Federal, Polícia Penal Federal, Polícia Militar, Polícia Civil e Polícia Penal dos Estados — e uma com a função conexa e auxiliar à atividade de segurança pública: as guardas municipais. Destas, quatro são filiadas às autoridades federais, três aos governos estaduais e as guardas municipais aos governos municipais. As instituições supracitadas são de responsabilidade do Poder Executivo, ou seja: dos governos Federal, do Distrito Federal, dos Estados Federados ou Municípios.\\nAlém disso, existem as instituições dos poderes Legislativo Federal (Departamento de Polícia Legislativa e Polícia do Senado Federal) e Judiciário Federal (Polícia Judicial do Supremo Tribunal Federal). A Força Nacional de Segurança Pública (FNSP) também pode atuar em situações de distúrbio público, originadas em qualquer ponto do território nacional, a partir da aprovação dos governadores dos estados. Quando houver ainda o esgotamento do uso das forças tradicionais de segurança pública, nas situações graves de perturbação da ordem, pode o presidente da República, por ordem expressa, autorizar o uso das Forças Armadas, para a Garantia da Lei e da Ordem (GLO).\\nO país tem níveis acima da média de crimes violentos e níveis particularmente altos de violência armada e de homicídio. Em 2012, a Organização Mundial da Saúde (OMS) estimou o número de 32 mortes para cada 100 mil habitantes, uma das mais altas taxas de homicídios intencionais do mundo. O índice considerado suportável pela OMS é de dez homicídios por 100 mil habitantes. No entanto, existem diferenças entre os índices de criminalidade dentro do país: enquanto em São Paulo a taxa de homicídios registrada em 2020 foi de 6,62 mortes para cada grupo de 100 mil habitantes, no Ceará chegou a 43,37 homicídios para cada 100 mil pessoas; no mesmo ano a taxa nacional foi de 19,89 mortes por 100 mil habitantes.\\nO Brasil também tem altos níveis de encarceramento e a quarta maior população carcerária do mundo (atrás de Estados Unidos, China e Rússia), com um total estimado em mais 600 mil presos (300 para cada 100 mil habitantes) em todo o país (junho de 2015), um aumento de cerca de 161% em relação ao índice registrado em 2000. O alto número de presos acabou por sobrecarregar o sistema prisional brasileiro, levando a um déficit de mais de 200 mil vagas dentro das prisões do país.\\n\\n\\n=== Forças armadas ===\\n\\nAs Forças Armadas do Brasil compreendem o Exército Brasileiro, a Marinha do Brasil e a Força Aérea Brasileira e são a maior força militar da América Latina, a segunda maior de toda a América. O Brasil também é uma das nações com as maiores capacidades bélicas do mundo. O país foi considerado a 9° maior potência militar do planeta em 2021. As polícias militares estaduais e os corpos de bombeiros militares são descritas como forças auxiliares e reservas do Exército pela Constituição, mas sob o controle de cada estado e de seus respectivos governadores.\\nO Exército é responsável pelas operações militares por terra, possui o maior efetivo da América Latina, contando com uma força de cerca de 334 500 soldados. Também possui a maior quantidade de veículos blindados da América do Sul, somados os veículos blindados para transporte de tropas e carros de combate principais.\\nA Força Aérea Brasileira é o ramo de guerra aérea das Forças Armadas do Brasil. De acordo com o Flight International e do Instituto Internacional de Estudos Estratégicos, a FAB tem uma força ativa de 77 454 militares e opera em torno de 627 aeronaves, sendo a maior força aérea do hemisfério sul e a segunda na América, após a Força Aérea dos Estados Unidos.\\nA Marinha é responsável pelas operações navais e pela guarda das águas jurisdicionais brasileiras. É a mais antiga das Forças Armadas brasileiras, possui o maior efetivo de fuzileiros navais da América Latina, estimado em 15 000 homens, tendo o Batalhão de Operações Especiais de Fuzileiros Navais como sua principal unidade. A Marinha também possui um grupo de elite especializado em retomar navios e instalações navais, o Grupamento de Mergulhadores de Combate, unidade especialmente treinada para proteger as plataformas petrolíferas brasileiras ao longo de sua costa.\\n\\n\\n=== Política externa ===\\n\\nEmbora alguns problemas sociais e econômicos impeçam o Brasil de exercer poder global efetivo, o país é hoje um líder político e econômico na América Latina. Esta alegação, porém, é parcialmente contestada por outros países, como a Argentina e o México, que se opõem ao objetivo brasileiro de obter um lugar permanente como representante da região no Conselho de Segurança das Nações Unidas.\\nEntre a Segunda Guerra Mundial e a década de 1990, os governos democráticos e militares procuraram expandir a influência do Brasil no mundo, prosseguindo com uma política externa e industrial independente. Atualmente o país tem como objetivo reforçar laços com outros países da América do Sul e exercer a diplomacia multilateral, através das Nações Unidas e da Organização dos Estados Americanos (OEA).\\nA atual política externa do Brasil é baseada na posição do país como uma potência regional na América Latina, um líder entre os países em desenvolvimento (como os BRICS) e uma superpotência mundial emergente. A política externa brasileira em geral tem refletido multilateralismo, resolução de litígios de forma pacífica e não intervenção nos assuntos de outros países. A Constituição brasileira determina também que o país deve buscar uma integração econômica, política, social e cultural com as nações da América Latina, através de organizações como Mercosul e CELAC.\\n\\n\\n== Subdivisões ==\\n\\nO Brasil é uma Federação constituída pela união indissolúvel dos 26 estados, do Distrito Federal e dos 5 571 municípios. Os estados e municípios são unidades federativas, isto é, entidades subnacionais autônomas (autogoverno, autolegislação e autoarrecadação) que possuem natureza de pessoa jurídica de direito público.\\nAtualmente o Brasil é dividido política e administrativamente em 26 estados e um distrito federal. O poder executivo é exercido por um governador e o legislativo pelas assembleias legislativas, sendo todos eleitos quadrienalmente. O poder judiciário é exercido por tribunais estaduais de primeira e segunda instância que cuidam da justiça comum. O Distrito Federal tem características comuns aos estados e aos municípios. Ao contrário dos estados, não pode ser dividido em municípios. Por outro lado, pode arrecadar tributos atribuídos como se fosse um estado e, também, como município.\\nOs municípios são uma circunscrição territorial dotada de personalidade jurídica e com certa autonomia administrativa, sendo as menores unidades autônomas da Federação. Cada município tem sua própria lei orgânica que define a sua organização política, mas limitada pela Constituição Federal. Há um total de 5 571 municípios em todo o território nacional, alguns poucos com população superior a um milhão de habitantes (São Paulo com mais de onze milhões), outros com menos de vinte mil pessoas. Há ainda alguns municípios com área maior do que estados ou mesmo de países. Altamira, no Pará, com quase 160 mil km², é o maior município brasileiro em território, sendo quase duas vezes maior que Portugal e ainda maior que dez estados.\\n\\n\\n== Economia ==\\n\\nO Brasil é a maior economia da América Latina, a segunda da América (atrás apenas dos Estados Unidos) e a nona maior do mundo em PIB nominal (tendo alcançado sua posição mais alta em 2011, na sexta colocação); em paridade do poder de compra, ocupa o oitavo lugar, de acordo com o Fundo Monetário Internacional e o Banco Mundial.\\nO país tem uma economia mista capitalista com vastos recursos naturais. Estima-se que a economia brasileira se irá tornar uma das cinco maiores do mundo nas próximas décadas. Ativo em setores como mineração, manufatura, agricultura e serviços, o Brasil tem uma força de trabalho de mais de 120 milhões de pessoas (6.ª maior do mundo) e desemprego de 11,7% (38.º no mundo). O Brasil vem ampliando sua presença nos mercados financeiros e de commodities internacionais e é um BRICS. O Brasil tem sido o maior produtor mundial de café dos últimos 150 anos  e tornou-se o quarto maior mercado de automóveis do mundo.\\nEntre os principais produtos de exportação em 2019 estavam: soja, petróleo, minério de ferro, celulose, milho, carne bovina, carne de frango, farelo de soja, açúcar e café. O país também exporta: aeronaves, equipamentos elétricos, automóveis, partes de veículos, etanol combustível, ouro, calçados, suco de laranja, algodão, tabaco, ferro semiacabado, entre outros produtos.\\n\\nO país participa de diversos blocos econômicos como o Mercado Comum do Sul (Mercosul), o G20 e o Grupo de Cairns, e sua economia corresponde a três quintos da produção industrial da economia sul-americana. O Brasil comercializa regularmente com mais de uma centena de países, sendo que 74% dos bens exportados são manufaturas ou semimanufaturas. Os maiores parceiros são: União Europeia, Mercosul, América Latina, Ásia e Estados Unidos.\\nDe acordo com a Confederação da Agricultura e Pecuária do Brasil (CNA) o setor do agronegócio brasileiro responde por 23% do PIB brasileiro (2013). O Brasil está entre os países com maior produtividade no campo, apesar das barreiras comerciais e das políticas de subsídios adotadas pelos países desenvolvidos. Em relatório divulgado em 2010 pela OMS, o país é o terceiro maior exportador de produtos agrícolas do mundo, atrás apenas de Estados Unidos e União Europeia.\\nA indústria de automóveis, aço, petroquímica, computadores, aeronaves e bens de consumo duradouros contabilizam 30,8% do produto interno bruto brasileiro. A atividade industrial está concentrada geograficamente nas regiões metropolitanas de São Paulo, Rio de Janeiro, Curitiba, Campinas, Porto Alegre, Belo Horizonte, Manaus, Salvador, Recife e Fortaleza.\\nEntre as empresas maiores empresas do Brasil estão Itaú Unibanco, Bradesco, Caixa Econômica Federal, Banco do Brasil e BTG Pactual (setor bancário); Braskem, Grupo Ultra e Petrobras (setor petrolífero); Vale S.A. (mineração); WEG S.A. (engenharia elétrica e automação industrial); Ambev (bebidas); JBS e Marfrig (setor alimentício); Suzano (papel e celulose); Eletrobras e CPFL Energia (transmissão de energia); Gerdau e Companhia Siderúrgica Nacional (metalurgia); Cosan e Raízen (etanol), entre outras.\\nA corrupção, no entanto, custa ao Brasil quase 41 bilhões de dólares por ano e 69,9% das empresas do país identificam esse problema como um dos principais entraves para conseguirem penetrar com sucesso no mercado global. No Índice de Percepção da Corrupção de 2014, criado pela Transparência Internacional, o Brasil é classificado na 69ª posição entre os 175 países avaliados. O poder de compra brasileiro também é corroído pelo conjunto de problemas nacionais chamado \"custo Brasil\". Além disso, o país apresenta uma das menores taxas de participação do comércio exterior no PIB, sendo classificado como uma das economias mais fechadas do mundo.\\nNo Índice de Liberdade Econômica de 2015, por exemplo, o país foi classificado no 118º lugar entre 178 nações avaliadas. Apesar de também ser um problema crônico, desde 2001 os níveis de desigualdade social e econômica vêm caindo, chegando em 2011 aos níveis de 1960, embora o país ainda esteja entre os 12 mais desiguais do planeta.\\n\\n\\n=== Turismo ===\\n\\nO turismo é um setor crescente e fundamental para a economia de várias regiões do país. O país recebeu 6 milhões de turistas estrangeiros em 2013, sendo classificado, em termos de chegadas de turistas internacionais, como o principal destino da América do Sul e o segundo na América Latina, depois do México.\\nAs receitas de turistas internacionais atingiram 5,9 bilhões de dólares em 2010, uma recuperação da crise econômica de 2008-2009. Os registros históricos de 5,4 milhões de visitantes internacionais e 6,775 bilhões de dólares em receitas foram atingidos em 2011.\\nO Best in Travel 2014, uma classificação anual dos melhores destinos feita pelo guia de viagens Lonely Planet, classificou o Brasil como o melhor destino turístico do mundo em 2014. Entre os destinos mais procurados estão a Floresta Amazônica, praias e dunas na região nordeste, o pantanal no centro-oeste, as Cataratas do Iguaçu no Paraná, praias no Rio de Janeiro e em Santa Catarina, turismo cultural e histórico em Minas Gerais e viagens de negócios em São Paulo. No Índice de Competitividade em Viagens e Turismo de 2015, o Brasil ficou no 28º lugar entre os 141 países avaliados.\\nA maioria dos visitantes internacionais que chegaram em 2011 vieram da Argentina (30,8%), dos Estados Unidos (11,5%) e do Uruguai (5,0%), sendo o Mercosul e os países vizinhos da América do Sul os principais emissores de turistas. O turismo interno é um segmento de mercado fundamental para a indústria, uma vez que 51 milhões de pessoas viajaram pelo país em 2005.\\n\\n\\n== Infraestrutura ==\\n\\n\\n=== Educação ===\\n\\nA Constituição Federal e a Lei de Diretrizes e Bases da Educação Nacional (LDB) determinam que a União, os estados, o Distrito Federal e os municípios devem gerir e organizar seus respectivos sistemas de ensino. Cada um desses sistemas educacionais públicos é responsável por sua própria manutenção, que gere fundos, bem como os mecanismos e fontes de recursos financeiros. A nova constituição reserva 25% do orçamento do Estado e 18% de impostos federais e taxas municipais para a educação.\\nDe acordo com dados da Pesquisa Nacional por Amostra de Domicílios (PNAD), feita pelo IBGE com dados de 2013, o analfabetismo ainda afetava 8,3% da população (ou 13 milhões de pessoas). Além disso, 17,8% dos brasileiros ainda eram classificados como analfabetos funcionais. A qualidade geral do sistema educacional brasileiro ainda apresenta resultados fracos. No Programa Internacional de Avaliação de Alunos (PISA) de 2012, elaborado pela OCDE, o país foi classificado nas posições 55ª em leitura, 58ª em matemática e 59ª em ciências, entre os 65 países avaliados pela pesquisa.\\nO ensino superior começa com a graduação ou cursos sequenciais, que podem oferecer opções de especialização em diferentes carreiras acadêmicas ou profissionais. Dependendo de escolha, os estudantes podem melhorar seus antecedentes educativos com cursos de pós-graduação stricto sensu ou lato sensu. Para frequentar uma instituição de ensino superior, é obrigatório, pela Lei de Diretrizes e Bases da Educação, concluir todos os níveis de ensino adequados às necessidades de todos os estudantes dos ensinos infantil, fundamental e médio, desde que o aluno não seja portador de nenhuma deficiência, seja ela física, intelectual, visual ou auditiva. Outro requisito é ter um bom desempenho no Exame Nacional do Ensino Médio (Enem), uma prova realizada pelo Ministério da Educação, utilizada para avaliar a qualidade do ensino médio e cujo resultado serve de acesso a universidades públicas através do Sistema de Seleção Unificada (SiSU). O Enem é o maior exame do país e o segundo maior do mundo, atrás somente do vestibular da China. Em 2012, aproximadamente 11,3% da população do país tinham nível superior. Das dez melhores universidades da América Latina, oito eram brasileiras de acordo com a classificação do QS World University Rankings de 2014.\\n\\n\\n=== Saúde ===\\n\\nO sistema de saúde pública brasileiro, o Sistema Único de Saúde (SUS), é gerenciado e fornecido por todos os níveis do governo, sendo o maior sistema do tipo do mundo. Já os sistemas de saúde privada atendem a um papel complementar. Os serviços de saúde públicos são universais e oferecidos a todos os cidadãos do país de forma gratuita. No entanto, a construção e a manutenção de centros de saúde e hospitais são financiadas por impostos, sendo que o país gasta cerca de 9% do seu PIB em despesas na área. Em 2009, o território brasileiro tinha 1,72 médicos e 2,4 leitos hospitalares para cada mil habitantes.\\nApesar de todos os progressos realizados desde a criação do sistema universal de cuidados de saúde em 1988, ainda existem vários problemas de saúde pública no Brasil. Em 2006, os principais pontos a serem resolvidos eram as altas taxas de mortalidade infantil (2,51%) e materna (73,1 mortes por mil nascimentos). O número de mortes por doenças não transmissíveis, como doenças cardiovasculares (151,7 mortes por 100 000 habitantes) e câncer (72,7 mortes por 100 000 habitantes), também tem um impacto considerável sobre a saúde da população brasileira. Finalmente, fatores externos, mas evitáveis, como acidentes de carro, violência e suicídio causaram 14,9% de todas as mortes no país. O sistema de saúde brasileiro foi classificado na 125ª posição entre os 191 países avaliados pela Organização Mundial da Saúde (OMS) em 2000.\\n\\n\\n=== Energia ===\\n\\nO Brasil é o décimo maior consumidor de energia do planeta e o terceiro maior do hemisfério ocidental, atrás dos Estados Unidos e Canadá. A matriz energética brasileira é baseada em fontes renováveis, sobretudo a energia hidrelétrica e o etanol, além de fontes não renováveis como o petróleo e o gás natural.\\nDa sua capacidade total de geração de eletricidade instalada, que correspondia a 181,5 mil megawatts (MW) em dezembro de 2021, as hidrelétricas eram responsáveis por 109 426 MW (60,2%), a energia eólica por 21 161 MW (11,6%); biomassa por 15 883 MW, (8,7%) e energia solar por 13 055 MW (7,2%), além de outras fontes, como as termelétricas. A energia nuclear representa cerca de 3% da matriz energética brasileira.\\nCom grandes descobertas de petróleo nos últimos tempos na Bacia de Santos, em 2020 o Brasil assumiu a oitava posição mundial entre os dez maiores produtores.\\nNo entanto, o país tem trabalhado para criar uma alternativa viável à gasolina. Com o seu combustível à base de cana-de-açúcar, a nação pode se tornar energicamente independente neste momento. O Pró-álcool, que teve origem na década de 1970 em resposta às incertezas do mercado petrolífero, obteve sucesso intermitente. Ainda assim, grande parte dos brasileiros utilizam os chamados \"veículos flex\", que funcionam com etanol ou gasolina, permitindo que o consumidor possa abastecer com a opção mais barata no momento, muitas vezes o etanol. Os países com grande consumo de combustível, como a Índia e a China, estão seguindo o progresso do Brasil nessa área. Além disso, países como o Japão e Suécia estão importando etanol brasileiro para ajudar a cumprir as suas obrigações ambientais estipuladas no Protocolo de Quioto.\\n\\n\\n=== Transportes ===\\n\\nCom uma rede rodoviária de cerca de 1,72 milhão de quilômetros, sendo 213 453 km de rodovias pavimentadas (2018) e 14 200 km de rodovias de pista dupla (2017), as estradas são as principais transportadoras de carga e de passageiros no tráfego brasileiro. O Brasil também é o sétimo mais importante país da indústria automobilística.\\nExistem cerca de quatro mil aeroportos e aeródromos no Brasil, sendo 721 com pistas pavimentadas, incluindo as áreas de desembarque. O país tem o segundo maior número de aeroportos em todo o mundo, atrás apenas dos Estados Unidos. O Aeroporto Internacional de Guarulhos, localizado na Região Metropolitana de São Paulo, é o maior e mais movimentado aeroporto do país. Grande parte dessa movimentação deve-se ao tráfego comercial e popular do país e ao fato de que o aeroporto liga São Paulo a praticamente todas as grandes cidades de todo o mundo. Conforme dados de 2019 da Confederação Nacional do Transporte (CNT), o Brasil tem 37 aeroportos internacionais e 2 464 aeroportos regionais.\\nO país possuía em 2019 uma extensa rede ferroviária de 31 299 km de extensão, a décima maior do mundo. Atualmente, o governo brasileiro, diferentemente do passado, procura incentivar esse meio de transporte; um exemplo desse incentivo é o projeto do Trem de Alta Velocidade Rio-São Paulo, um trem-bala que pretende ligar as duas principais metrópoles do país para o transporte de passageiros, e a Ferrovia Norte-Sul, projetada para ser a espinha dorsal do sistema ferroviário nacional.\\nHá 37 grandes portos no Brasil, dentre os quais o maior é o Porto de Santos, o mais movimentado do país e da América Latina, considerado o 39° maior do mundo por movimentação de contêineres pela publicação britânica Container Management. O país também possui 50 000 km de hidrovias, como a Hidrovia Tietê-Paraná.\\n\\n\\n=== Ciência e tecnologia ===\\n\\nA pesquisa tecnológica no Brasil é em grande parte realizada em universidades públicas e institutos de pesquisa. Alguns dos mais notáveis polos tecnológicos do Brasil são os institutos Oswaldo Cruz e Butantã, o Comando-Geral de Tecnologia Aeroespacial, a Empresa Brasileira de Pesquisa Agropecuária (EMBRAPA) e o Instituto Nacional de Pesquisas Espaciais (INPE). Dono de relativa sofisticação tecnológica, o país desenvolve de submarinos a aeronaves, além de estar presente na pesquisa aeroespacial, possuindo um Centro de Lançamento de Veículos Leves e sendo o único país do Hemisfério Sul a integrar a equipe de construção da Estação Espacial Internacional (ISS).\\nO Brasil tem o mais avançado programa espacial da América Latina, com recursos significativos para veículos de lançamento, e fabricação de satélites. Em 14 de outubro de 1997, a Agência Espacial Brasileira assinou um acordo com a NASA para fornecer peças para a ISS. No entanto, depois de quase dez anos sem conseguir cumprir o contrato de fornecimento, foi excluído do programa em maio de 2007. Este acordo, contudo, possibilitou ao Brasil treinar seu primeiro astronauta. Em 30 de março de 2006 o tenente-coronel Marcos Pontes, a bordo do veículo Soyuz, tornou-se no primeiro astronauta brasileiro e o terceiro latino-americano a orbitar o planeta Terra.\\nO país também é pioneiro na pesquisa de petróleo em águas profundas, de onde extrai 73% de suas reservas. O urânio enriquecido na Fábrica de Combustível Nuclear (FCN), de Resende, no estado do Rio de Janeiro, atende à demanda energética do país. Existem planos para a construção do primeiro submarino nuclear do país. O Brasil também é um dos três países da América Latina com um laboratório Síncrotron em operação, um mecanismo de pesquisa da física, da química, das ciências dos materiais e da biologia. O país desenvolve o Programa Antártico Brasileiro e mantém desde 1984 a Estação Comandante Ferraz para pesquisas na Antártica. Segundo o Relatório Global de Tecnologia da Informação 2009–2010 do Fórum Econômico Mundial, o Brasil é o 61º maior desenvolvedor mundial de tecnologia da informação. Ainda outro exemplo é o ingresso em 2018 no chamado grupo de elite da União Internacional de Matemática.\\n\\n\\n=== Mídia e comunicações ===\\n\\nA imprensa brasileira tem seu início em 1808 com a chegada da família real portuguesa ao Brasil, sendo até então proibida toda e qualquer atividade de imprensa — fosse a publicação de jornais ou livros. A imprensa brasileira nasceu oficialmente no Rio de Janeiro em 13 de maio de 1808, com a criação da Impressão Régia, hoje Imprensa Nacional, pelo príncipe-regente Dom João. A Gazeta do Rio de Janeiro, o primeiro jornal publicado em território nacional, começa a circular em 10 de setembro de 1808. Atualmente a imprensa escrita consolidou-se como um meio de comunicação em massa e produziu grandes jornais que hoje estão entre as maiores do país e do mundo, como a Folha de S.Paulo, O Globo e o Estado de S. Paulo, e publicações das editoras Abril e Globo.\\nA radiodifusão surgiu em 7 de setembro de 1922, data do centenário da independência, sendo a primeira transmissão um discurso do então presidente Epitácio Pessoa, porém a instalação do rádio de fato ocorreu apenas em 20 de abril de 1923 com a criação da \"Rádio Sociedade do Rio de Janeiro\".\\nA televisão no Brasil começou, oficialmente, em 18 de setembro de 1950, trazida por Assis Chateaubriand que fundou o primeiro canal de televisão no país, a TV Tupi. Desde então, a televisão cresceu no país, criando grandes redes como a Globo, Record, Sistema Brasileiro de Televisão (SBT), Bandeirantes e RedeTV. Hoje, a televisão representa um fator importante na cultura popular moderna da sociedade brasileira. A televisão digital no Brasil teve início em 2007, inicialmente na cidade de São Paulo, pelo padrão japonês.\\nA Internet veio ao Brasil em 1988 por decisão inicial da sociedade de estudantes e professores universitários paulistanos (Fundação de Amparo à Pesquisa do Estado de São Paulo, liderada por Oscar Sala) e cariocas (Universidade Federal do Rio de Janeiro e Laboratório Nacional de Computação Científica), mas, somente a partir de 1996, a Internet brasileira passou a ter seus backbones próprios inaugurados por provedores comerciais, iniciando assim o desenvolvimento dessa rede de telecomunicações.\\n\\n\\n== Cultura ==\\n\\nO núcleo de cultura é derivado da cultura portuguesa, por causa de seus fortes laços com o império colonial português. Entre outras influências portuguesas encontram-se o idioma português, o catolicismo romano e estilos arquitetônicos coloniais. A cultura, contudo, foi também fortemente influenciada por tradições e culturas africanas, indígenas e europeias não portuguesas.\\nAlguns aspectos da cultura brasileira foram influenciadas pelas contribuições dos italianos, alemães e outros imigrantes europeus que chegaram em grande número nas regiões Sul e Sudeste do Brasil. Os ameríndios influenciaram a língua e a culinária do país e os africanos influenciaram a língua, a culinária, a música, a dança e a religião.\\n\\n\\n=== Arquitetura ===\\n\\nA arquitetura do Brasil é influenciada pela Europa, principalmente Portugal. A arquitetura colonial portuguesa foi a primeira onda de arquitetura a chegar ao Brasil e é a base de toda a arquitetura brasileira dos séculos posteriores. No século XIX, durante a época do Império, o país seguiu as tendências europeias e adotou a arquitetura neoclássica e neogótica. Então, no século XX, especialmente em Brasília, o Brasil experimentou a arquitetura modernista.\\nA arquitetura colonial do Brasil data do início do século XVI, quando seu território foi explorado, conquistado e colonizado pelos portugueses, que construíram uma arquitetura familiar a eles na Europa, como igrejas, arquitetura cívica, incluindo casas e fortes nas cidades brasileiras e no campo. Durante o século XIX, a arquitetura brasileira foi introduzida a outros estilos europeus, que geralmente eram misturados com influências genuinamente brasileiras, que produziram uma forma única de arquitetura brasileira. Na década de 1950, a arquitetura modernista foi introduzida quando Brasília foi construída como nova capital federal no interior do Brasil. O arquiteto Oscar Niemeyer idealizou e construiu prédios governamentais, igrejas e prédios civis em estilo modernista.\\n\\n\\n=== Cinema ===\\n\\nA indústria cinematográfica brasileira começou no final do século XIX, nos primórdios da Belle Époque. Apesar de existirem produções nacionais de cinema no início do século XX, filmes estadunidenses como Rio, o Magnífico, eram gravados no Rio de Janeiro para promover o turismo na cidade. Os filmes Limite (1931) e Ganga Bruta (1933), este último produzido por Adhemar Gonzaga através do prolífico estúdio Cinédia, foram mal-recebidos no lançamento e falharam nas bilheterias, mas hoje são aclamados e colocados entre os melhores filmes brasileiros.\\nDurante a década de 1960, o movimento Cinema Novo ganhou destaque com diretores como Glauber Rocha, Nelson Pereira dos Santos, Paulo Cesar Saraceni e Arnaldo Jabor. Os filmes Deus e o Diabo na Terra do Sol (1964) e Terra em Transe (1967), de Rocha, são considerados alguns dos maiores e mais influentes da história do cinema brasileiro.\\nDurante a década de 1990, o Brasil assistiu a um surto de sucesso crítico e comercial com filmes como O Quatrilho (Fábio Barreto, 1995), O Que É Isso, Companheiro? (Bruno Barreto, 1997) e Central do Brasil (Walter Salles, 1998), todos indicados ao Oscar de Melhor Filme Estrangeiro, o último também recebendo indicação de Melhor Atriz por Fernanda Montenegro. O filme policial de 2002, Cidade de Deus, dirigido por Fernando Meirelles, foi aclamado pela crítica, alcançando 90% de aprovação no Rotten Tomatoes, sendo colocado na lista de Melhores Filmes da Década de Roger Ebert e recebendo quatro indicações ao Óscar em 2004, incluindo Melhor Diretor. \\nEm 2025, o filme Ainda Estou Aqui, dirigido por Walter Salles, tornou-se o primeiro e único filme a trazer um Oscar para o cinema brasileiro, vencendo na categoria de Melhor Filme Internacional no Oscar 2025. Além disso, foi indicado à Melhor Atriz pela atuação de Fernanda Torres, e concorreu à categoria de Melhor Filme, tendo sido a primeira vez que um filme brasileiro concorre a esta categoria.\\nEntre os principais festivais de cinema do Brasil incluem os festivais internacionais de cinema de São Paulo e Rio de Janeiro. Entre os festivais focados exclusivamente em filmes nacionais, se destacam o de Brasília, Tiradentes e Recife, além do Festival de Gramado, no Rio Grande do Sul.\\n\\n\\n=== Pintura ===\\n\\nA pintura brasileira surgiu no final do século XVI, sendo desde então influenciada por diversos movimentos artísticos, como barroco, rococó, neoclassicismo, romantismo, realismo, modernismo, expressionismo, surrealismo, cubismo e abstracionismo, tornando-se um estilo de arte importante chamado arte acadêmica brasileira. A Missão Artística Francesa chegou ao Brasil em 1816 com a proposta de criar uma academia de arte inspirada na conceituada Académie des Beaux-Arts, com cursos de graduação para artistas e artesãos para atividades como modelagem, decoração, carpintaria e outras, e trazendo artistas como Jean-Baptiste Debret.\\nCom a criação da Academia Imperial de Belas Artes, novos movimentos artísticos espalharam-se pelo país durante o século XIX e posteriormente o evento denominado Semana de Arte Moderna rompeu definitivamente com a tradição acadêmica em 1922 e deu início a uma tendência nacionalista influenciada pelas artes modernistas. Entre os pintores brasileiros mais conhecidos estão Ricardo do Pilar e Manuel da Costa Ataíde (barroco e rococó), Victor Meirelles, Pedro Américo e Almeida Júnior (romantismo e realismo), Anita Malfatti, Ismael Nery, Lasar Segall, Emiliano di Cavalcanti, Vicente do Rego Monteiro e Tarsila do Amaral (expressionismo, surrealismo e cubismo), Aldo Bonadei, José Pancetti e Cândido Portinari (modernismo).\\n\\n\\n=== Música ===\\n\\nA música brasileira engloba vários estilos regionais influenciados por formas africanas, europeias e ameríndias. Desenvolveu-se em estilos e gêneros musicais diferentes, tais como música popular brasileira, música nativista, música sertaneja, vanerão, samba, choro, axé, brega, forró, funk brasileiro, frevo, baião, lambada, maracatu, tropicalismo, bossa nova e rock brasileiro, entre outros.\\nA música do Brasil se formou, principalmente, a partir da fusão de elementos europeus e africanos, trazidos respectivamente por colonizadores portugueses e escravos. Até o século XIX Portugal foi a porta de entrada para a maior parte das influências que construíram a música brasileira, clássica e popular, introduzindo a maioria do instrumental, o sistema harmônico, a literatura musical e boa parcela das formas musicais cultivadas no país ao longo dos séculos.\\nNa música clássica, um caráter especificamente brasileiro na produção nacional só se tornaria nítido após a grande síntese realizada por Villa Lobos, já em meados do século XX. O primeiro grande compositor brasileiro foi José Maurício Nunes Garcia, autor de peças sacras com notável influência do classicismo vienense.\\nA maior contribuição do elemento africano foi a diversidade rítmica e algumas danças e instrumentos, que tiveram um papel maior no desenvolvimento da música popular e folclórica, florescendo especialmente a partir do século XX. O indígena praticamente não deixou traços seus na corrente principal, salvo em alguns gêneros do folclore, sendo em sua maioria um participante passivo nas imposições da cultura colonizadora. Com grande participação negra, a música popular desde fins do século XVIII começou a dar sinais de formação de uma sonoridade caracteristicamente brasileira.\\n\\n\\n=== Literatura ===\\n\\nA literatura brasileira surgiu a partir da atividade literária incentivada pelos jesuítas durante o século XVI. Nos séculos posteriores, o barroco desenvolveu-se no nordeste do país nos séculos XVI e XVII e o arcadismo se expandiu no século XVIII na região das Minas Gerais.\\nNo século XIX, o romantismo brasileiro afetou a literatura nacional, tendo como seu maior nome José de Alencar. Após esse período, o realismo brasileiro expandiu-se pelo país, principalmente pelas obras de Machado de Assis, poeta e romancista, cujo trabalho se estende por quase todos os gêneros literários e que é amplamente considerado o maior escritor brasileiro.\\nBastante ligada, de princípio, à literatura metropolitana, ela foi ganhando independência com o tempo, iniciando o processo durante o século XIX com os movimentos romântico e realista. Atingiu o ápice com a Semana de Arte Moderna em 1922, caracterizando-se pelo rompimento definitivo com as literaturas de outros países, formando-se, portanto, a partir do Modernismo e suas gerações as primeiras escolas de escritores verdadeiramente independentes. São dessa época grandes nomes como Manuel Bandeira, Carlos Drummond de Andrade, Guimarães Rosa, João Cabral de Melo Neto, Clarice Lispector e Cecília Meireles.\\n\\n\\n=== Culinária ===\\n\\nA culinária brasileira varia muito de acordo com a região, refletindo a combinação de populações nativas e de imigrantes pelo país. Isto criou uma cozinha nacional marcada pela preservação das diferenças regionais. Os exemplos são a feijoada à brasileira, considerada o prato nacional do país; e os alimentos regionais, como churrasco, beiju, feijão tropeiro, vatapá, moqueca, polenta, pão de queijo e acarajé.\\nIngredientes utilizados pela primeira vez pelos povos indígenas no Brasil incluem a mandioca, guaraná, açaí, cumaru e tacacá. A partir daí, muitas ondas de imigrantes trouxeram alguns de seus pratos típicos, substituindo ingredientes em falta com equivalentes locais. Por exemplo, os imigrantes europeus (principalmente de Portugal, Itália, Espanha, Alemanha, Polônia e Suíça) estavam acostumados a uma dieta à base de trigo e introduziram vinho, hortaliças e produtos lácteos na culinária local. Quando as batatas não estavam disponíveis, eles descobriram como usar a macaxeira nativa como um substituto.\\nOs escravos africanos também tiveram um papel no desenvolvimento de culinária brasileira, especialmente nos estados costeiros. A influência estrangeira estendeu-se por ondas migratórias posteriores: os imigrantes japoneses trouxeram a maior parte dos alimentos que os brasileiros se associam com cozinha asiática. O Brasil também tem uma grande variedade de doces, como o brigadeiro, o beijinho e o bolo de rolo. A bebida nacional é o café, e a cachaça é uma bebida destilada nativa do Brasil. A cachaça é destilada a partir de cana-de-açúcar e é o ingrediente principal do coquetel nacional, a caipirinha.\\n\\n\\n=== Esportes ===\\n\\nO futebol é o esporte mais popular no Brasil. A Seleção Brasileira de Futebol é a única no mundo a participar de todas as edições da Copa do Mundo FIFA, sendo vitoriosa cinco vezes: 1958, 1962, 1970, 1994 e 2002. Voleibol, tênis de mesa, natação, futsal, capoeira, skate, surfe, judô e atletismo também estão entre os esportes mais praticados no país.\\nAlgumas variações de esportes têm suas origens no Brasil. Futebol de praia, futsal (versão oficial do futebol indoor), futetênis, futebol de saco e futevôlei emergiram de variações do futebol. Outros esportes também criados no país são a peteca, o acquaride, o frescobol, o sandboard e o biribol. Nas artes marciais, os brasileiros têm desenvolvido a capoeira, vale-tudo, e o jiu-jitsu brasileiro, entre outras artes marciais brasileiras.\\nNo automobilismo, pilotos brasileiros ganharam o campeonato mundial de Fórmula 1 oito vezes: Emerson Fittipaldi, em 1972 e 1974; Nelson Piquet, em 1981, 1983 e 1987; e Ayrton Senna, em 1988, 1990 e 1991. O circuito localizado em São Paulo, Autódromo José Carlos Pace, organiza anualmente o Grande Prêmio do Brasil de Fórmula 1.\\nO Brasil já organizou eventos esportivos de grande escala: sediou as Copas do Mundo de 1950, na qual foi o vice-campeão, e 2014, quando ficou em quarto lugar. Em 1963, a cidade de São Paulo foi sede dos Jogos Pan-Americanos e Porto Alegre da Universíada de Verão. A cidade do Rio de Janeiro sediou os Jogos Pan-Americanos de 2007 e também os Jogos Olímpicos de Verão de 2016, que contou com a participação de 207 delegações e mais de doze mil atletas. Brasília, originalmente escolhida para sediar a Universíada de Verão de 2019, declinou da escolha, em 21 de janeiro de 2015, alegando que a cidade não teria condições financeiras de sediar o evento. A FISU reabriu o processo de candidatura para uma nova sede para os Jogos.\\n\\n\\n=== Feriados ===\\n\\n\\n== Ver também ==\\n\\n\\n== Notas e referências ==\\n\\n\\n=== Notas ===\\n\\n\\n=== Referências ===\\n\\n\\n=== Bibliografia ===\\n\\n\\n=== Periódicos ===\\n\\n\\n=== Leitura adicional ===\\n\\n\\n== Ligações externas ==\\n\\n«Governo Federal» \\n«Senado Federal» \\n«Câmara dos Deputados» \\n«Presidência da República Federativa do Brasil» \\n«Supremo Tribunal Federal» \\n«Chefe de Estado e Membros de gabinete»  [ligação inativa]\\n«Instituto Brasileiro de Geografia e Estatística» \\nBrazil no The World Factbook\\n«Brasil». na UCB Libraries GovPubs \\n«Perfil país». da Biblioteca do Congresso dos Estados Unidos (1997) \\n\\nWikimedia Atlas of Brazil'}\n"
          ]
        }
      ]
    },
    {
      "cell_type": "markdown",
      "source": [
        "# Recuperando documentos usando Distância de Levenshtein"
      ],
      "metadata": {
        "id": "Hj78PwEe7cPe"
      }
    },
    {
      "cell_type": "code",
      "source": [
        "! pip3 install python-Levenshtein"
      ],
      "metadata": {
        "id": "NTfPVYxqt1aG",
        "colab": {
          "base_uri": "https://localhost:8080/"
        },
        "outputId": "13cdbfa8-7f99-45f1-d2e7-a7fdfa75237b"
      },
      "execution_count": 10,
      "outputs": [
        {
          "output_type": "stream",
          "name": "stdout",
          "text": [
            "Collecting python-Levenshtein\n",
            "  Downloading python_levenshtein-0.27.1-py3-none-any.whl.metadata (3.7 kB)\n",
            "Collecting Levenshtein==0.27.1 (from python-Levenshtein)\n",
            "  Downloading levenshtein-0.27.1-cp311-cp311-manylinux_2_17_x86_64.manylinux2014_x86_64.whl.metadata (3.6 kB)\n",
            "Collecting rapidfuzz<4.0.0,>=3.9.0 (from Levenshtein==0.27.1->python-Levenshtein)\n",
            "  Downloading rapidfuzz-3.13.0-cp311-cp311-manylinux_2_17_x86_64.manylinux2014_x86_64.whl.metadata (12 kB)\n",
            "Downloading python_levenshtein-0.27.1-py3-none-any.whl (9.4 kB)\n",
            "Downloading levenshtein-0.27.1-cp311-cp311-manylinux_2_17_x86_64.manylinux2014_x86_64.whl (161 kB)\n",
            "\u001b[2K   \u001b[90m━━━━━━━━━━━━━━━━━━━━━━━━━━━━━━━━━━━━━━━━\u001b[0m \u001b[32m161.7/161.7 kB\u001b[0m \u001b[31m12.3 MB/s\u001b[0m eta \u001b[36m0:00:00\u001b[0m\n",
            "\u001b[?25hDownloading rapidfuzz-3.13.0-cp311-cp311-manylinux_2_17_x86_64.manylinux2014_x86_64.whl (3.1 MB)\n",
            "\u001b[2K   \u001b[90m━━━━━━━━━━━━━━━━━━━━━━━━━━━━━━━━━━━━━━━━\u001b[0m \u001b[32m3.1/3.1 MB\u001b[0m \u001b[31m41.0 MB/s\u001b[0m eta \u001b[36m0:00:00\u001b[0m\n",
            "\u001b[?25hInstalling collected packages: rapidfuzz, Levenshtein, python-Levenshtein\n",
            "Successfully installed Levenshtein-0.27.1 python-Levenshtein-0.27.1 rapidfuzz-3.13.0\n"
          ]
        }
      ]
    },
    {
      "cell_type": "code",
      "source": [
        "from Levenshtein import distance"
      ],
      "metadata": {
        "id": "4AZbsfjw32q5"
      },
      "execution_count": 11,
      "outputs": []
    },
    {
      "cell_type": "code",
      "source": [
        "distance(\"estados unidos\", \"brasil\")"
      ],
      "metadata": {
        "id": "HXuSEATV7me-",
        "colab": {
          "base_uri": "https://localhost:8080/"
        },
        "outputId": "019b6798-cd6c-4b25-cd12-8b3628d50596"
      },
      "execution_count": 12,
      "outputs": [
        {
          "output_type": "execute_result",
          "data": {
            "text/plain": [
              "11"
            ]
          },
          "metadata": {},
          "execution_count": 12
        }
      ]
    },
    {
      "cell_type": "code",
      "source": [
        "distance(\"brasil\", \"brasília\")"
      ],
      "metadata": {
        "id": "ov4LuZxq7raU",
        "colab": {
          "base_uri": "https://localhost:8080/"
        },
        "outputId": "ac776ebc-f38d-4bf9-f961-6975171ca3dc"
      },
      "execution_count": 13,
      "outputs": [
        {
          "output_type": "execute_result",
          "data": {
            "text/plain": [
              "3"
            ]
          },
          "metadata": {},
          "execution_count": 13
        }
      ]
    },
    {
      "cell_type": "code",
      "source": [
        "documentos.keys()"
      ],
      "metadata": {
        "id": "gUh_3aLA72of",
        "colab": {
          "base_uri": "https://localhost:8080/"
        },
        "outputId": "943ade51-6af8-4aa3-a7a5-8ab02777c9e3"
      },
      "execution_count": 14,
      "outputs": [
        {
          "output_type": "execute_result",
          "data": {
            "text/plain": [
              "dict_keys(['Brasil', 'Unidades federativas do Brasil', 'Copa do Brasil de Futebol', 'Lista de municípios do Brasil', 'Lista de cardeais do Brasil', 'Ditadura militar brasileira', 'Povos indígenas do Brasil', 'Distrito Federal (Brasil)', 'Região Nordeste do Brasil', 'Etimologia de Brasil', 'Estados Unidos', 'Estados dos Estados Unidos', 'Exército dos Estados Unidos', 'Lista de presidentes dos Estados Unidos', 'Bandeira dos Estados Unidos', 'Shameless (Estados Unidos)', 'Povo dos Estados Unidos', 'Dólar dos Estados Unidos', 'Presidente dos Estados Unidos', 'Demografia dos Estados Unidos', 'Nintendo', 'Nintendo Switch', 'Nintendo DS', 'Wii', 'Super Nintendo Entertainment System', 'Wii U', 'Nintendo 64', 'Nintendo 3DS', 'Nintendo GameCube', 'Nintendo Entertainment System', 'PlayStation', 'PlayStation 5', 'PlayStation 4', 'PlayStation 2', 'PlayStation 3', 'PlayStation (console)', 'PlayStation Portable', 'PlayStation Vita', 'PlayStation Network', 'Lista de jogos para PlayStation'])"
            ]
          },
          "metadata": {},
          "execution_count": 14
        }
      ]
    },
    {
      "cell_type": "code",
      "source": [
        "titulos = list(documentos.keys())"
      ],
      "metadata": {
        "id": "NsNdsQoB88PF"
      },
      "execution_count": 15,
      "outputs": []
    },
    {
      "cell_type": "markdown",
      "source": [
        "# Definindo funções para calcular distância e para rankear os títulos mais próximos de uma busca"
      ],
      "metadata": {
        "id": "G0mVAWipNAPb"
      }
    },
    {
      "cell_type": "code",
      "source": [
        "def levenshtein(str1, str2):\n",
        "    return distance(str1.lower(), str2.lower(), weights=(1, 10, 10))\n",
        "\n",
        "def ranking_de_distancias(busca):\n",
        "    distancias = [(titulo, levenshtein(busca, titulo)) for titulo in titulos]\n",
        "    return sorted(distancias, key=lambda x: x[1])"
      ],
      "metadata": {
        "id": "DFL7zGG-4LVL"
      },
      "execution_count": 16,
      "outputs": []
    },
    {
      "cell_type": "code",
      "source": [
        "ranking_de_distancias(\"Presidente dos eua\")"
      ],
      "metadata": {
        "id": "9C6EITmP6N9h",
        "colab": {
          "base_uri": "https://localhost:8080/"
        },
        "outputId": "f3c02f27-f5d8-4206-9881-d13b720c5f58"
      },
      "execution_count": 17,
      "outputs": [
        {
          "output_type": "execute_result",
          "data": {
            "text/plain": [
              "[('Presidente dos Estados Unidos', 21),\n",
              " ('Lista de presidentes dos Estados Unidos', 31),\n",
              " ('Região Nordeste do Brasil', 69),\n",
              " ('Povos indígenas do Brasil', 78),\n",
              " ('Super Nintendo Entertainment System', 88),\n",
              " ('Estados dos Estados Unidos', 92),\n",
              " ('Exército dos Estados Unidos', 92),\n",
              " ('Bandeira dos Estados Unidos', 92),\n",
              " ('Unidades federativas do Brasil', 93),\n",
              " ('Demografia dos Estados Unidos', 93),\n",
              " ('Nintendo GameCube', 95),\n",
              " ('Povo dos Estados Unidos', 97),\n",
              " ('Dólar dos Estados Unidos', 99),\n",
              " ('Shameless (Estados Unidos)', 100),\n",
              " ('Lista de cardeais do Brasil', 101),\n",
              " ('Copa do Brasil de Futebol', 102),\n",
              " ('Lista de municípios do Brasil', 103),\n",
              " ('Nintendo Entertainment System', 103),\n",
              " ('Estados Unidos', 104),\n",
              " ('PlayStation (console)', 107),\n",
              " ('Nintendo DS', 110),\n",
              " ('Nintendo 64', 110),\n",
              " ('Nintendo 3DS', 110),\n",
              " ('Nintendo Switch', 112),\n",
              " ('PlayStation Portable', 117),\n",
              " ('Lista de jogos para PlayStation', 117),\n",
              " ('Ditadura militar brasileira', 120),\n",
              " ('Nintendo', 120),\n",
              " ('Distrito Federal (Brasil)', 121),\n",
              " ('PlayStation Vita', 122),\n",
              " ('Etimologia de Brasil', 125),\n",
              " ('PlayStation Network', 125),\n",
              " ('PlayStation 5', 131),\n",
              " ('PlayStation 4', 131),\n",
              " ('PlayStation 2', 131),\n",
              " ('PlayStation 3', 131),\n",
              " ('PlayStation', 141),\n",
              " ('Brasil', 150),\n",
              " ('Wii U', 150),\n",
              " ('Wii', 170)]"
            ]
          },
          "metadata": {},
          "execution_count": 17
        }
      ]
    },
    {
      "cell_type": "code",
      "source": [
        "ranking_de_distancias(\"municípios no brasil\")"
      ],
      "metadata": {
        "id": "sXWGAggc6ksY",
        "colab": {
          "base_uri": "https://localhost:8080/"
        },
        "outputId": "7d18223f-6989-42f9-8384-bdbbb4874487"
      },
      "execution_count": 18,
      "outputs": [
        {
          "output_type": "execute_result",
          "data": {
            "text/plain": [
              "[('Lista de municípios do Brasil', 19),\n",
              " ('Unidades federativas do Brasil', 71),\n",
              " ('Lista de cardeais do Brasil', 80),\n",
              " ('Povos indígenas do Brasil', 81),\n",
              " ('Região Nordeste do Brasil', 85),\n",
              " ('Distrito Federal (Brasil)', 98),\n",
              " ('Copa do Brasil de Futebol', 101),\n",
              " ('Etimologia de Brasil', 102),\n",
              " ('Ditadura militar brasileira', 111),\n",
              " ('Exército dos Estados Unidos', 120),\n",
              " ('Lista de presidentes dos Estados Unidos', 121),\n",
              " ('Super Nintendo Entertainment System', 127),\n",
              " ('Lista de jogos para PlayStation', 128),\n",
              " ('Estados dos Estados Unidos', 129),\n",
              " ('Bandeira dos Estados Unidos', 129),\n",
              " ('PlayStation Portable', 129),\n",
              " ('Povo dos Estados Unidos', 130),\n",
              " ('Demografia dos Estados Unidos', 131),\n",
              " ('Nintendo Entertainment System', 133),\n",
              " ('Nintendo Switch', 134),\n",
              " ('Presidente dos Estados Unidos', 135),\n",
              " ('Brasil', 140),\n",
              " ('PlayStation (console)', 140),\n",
              " ('PlayStation Network', 140),\n",
              " ('Shameless (Estados Unidos)', 141),\n",
              " ('Nintendo DS', 141),\n",
              " ('Nintendo 3DS', 141),\n",
              " ('Estados Unidos', 143),\n",
              " ('Nintendo GameCube', 144),\n",
              " ('Dólar dos Estados Unidos', 147),\n",
              " ('PlayStation Vita', 148),\n",
              " ('Nintendo 64', 151),\n",
              " ('PlayStation 5', 157),\n",
              " ('PlayStation 4', 157),\n",
              " ('PlayStation 2', 157),\n",
              " ('PlayStation 3', 157),\n",
              " ('Nintendo', 161),\n",
              " ('PlayStation', 162),\n",
              " ('Wii U', 170),\n",
              " ('Wii', 180)]"
            ]
          },
          "metadata": {},
          "execution_count": 18
        }
      ]
    },
    {
      "cell_type": "markdown",
      "source": [
        "# Definindo função para retornar o documento mais próximo da busca\n",
        "\n"
      ],
      "metadata": {
        "id": "qO8eNHNnNHAo"
      }
    },
    {
      "cell_type": "code",
      "source": [
        "def recuperar_documento(busca):\n",
        "    distancias = ranking_de_distancias(busca)\n",
        "    return documentos[sorted(distancias, key=lambda x: x[1])[0][0]]['conteudo']"
      ],
      "metadata": {
        "id": "JuJz7O776xLt"
      },
      "execution_count": 19,
      "outputs": []
    },
    {
      "cell_type": "code",
      "source": [
        "recuperar_documento(\"estados dos EUA\")"
      ],
      "metadata": {
        "id": "GOzzXqp38Y4J",
        "colab": {
          "base_uri": "https://localhost:8080/",
          "height": 109
        },
        "outputId": "5573c40f-14af-4a7b-fa73-f1fbc661107f"
      },
      "execution_count": 20,
      "outputs": [
        {
          "output_type": "execute_result",
          "data": {
            "text/plain": [
              "'Os estados dos Estados Unidos são as cinquenta unidades desse país federal da América do Norte. Compõem aquele país e partilham a soberania com o seu governo federal. Devido a esta soberania dividida, cada cidadão dos Estados Unidos é cidadão tanto da entidade federal quanto do seu estado de domicílio. Quatro estados usam o título oficial de \"comunidade\" (commonwealth), no lugar de \"estado\" (state). A cidadania estadual é flexível, e nenhuma aprovação governamental é necessária, bastando para que ela ocorra a mudança de domicílio do cidadão, com exceção dos condenados pela justiça.\\nA Constituição dos Estados Unidos distribui o poder entre estes dois níveis de governo. Ao ratificar a Constituição, o povo transferiu determinados poderes soberanos limitados dos seus estados para o governo federal. Sob a décima emenda, todos os poderes que não foram delegados ao governo estadunidense nem especificamente proibidos aos estados foram mantidos por estes estados e pelo povo. Historicamente, os investimentos em educação, infraestrutura, saúde, segurança, transporte públicos foram consideradas como responsabilidades primordialmente inerentes ao estado, embora hoje em dia, todas contem com uma quantidade significativa de verbas federais, bem como regulamentação, com base principalmente na Cláusula do Comércio, na Cláusula dos Impostos e Gastos e na Cláusula Necessária e Apropriada da Constituição.\\nCom o tempo a constituição do país foi sofrendo emendas, e a interpretação e aplicação de suas provisões foi sendo alterada. A tendência geral é a centralização e incorporação, com o governo federal desempenhando um papel muito maior do que anteriormente. Há um debate contínuo acerca dos direitos dos estados, no que diz respeito à extensão e natureza dos poderes dos estados e da sua soberania, em relação ao governo federal, bem como em relação aos direitos dos indivíduos.\\nO Congresso pode admitir novos estados, que terão o mesmo pé de igualdade que os estados já existentes; isto não ocorre, no entanto, desde 1959. A constituição nada fala sobre a hipótese de um dos estados decidir abandonar unilateralmente a União, porém a Suprema Corte decretou que a secessão é inconstitucional, uma posição motivada, ao menos em parte, pelo resultado da Guerra Civil dos Estados Unidos (1861–1865).\\n\\n\\n== Estados ==\\nEsta lista de estados dos Estados Unidos está ordenada pelos nomes dos estados em português. Cada um dos estados está listado com seu próprio código ISO indicado: o ISO 3166-2:US: Subdivisões dos Estados Unidos, que é usado também como código postal. A relação abaixo inclui também a data de entrada na União, a capital de cada estado, a cidade mais populosa de cada estado, a área em milhas quadradas e quilômetros quadrados, a população segundo o censo de 2011, o órgão governamental anterior à entrada na União como estado e o produto interno bruto de 2010.\\nEmbora as 13 colônias tenham sido consideradas como membros dos Estados Unidos desde a Declaração de Independência, em 4 de julho de 1776, elas são apresentadas aqui como sendo \"admitidas\" no ano de ratificação da Constituição dos Estados Unidos, em 1787.\\n\\n\\n== Distrito federal ==\\n\\nO Distrito de Colúmbia, formado oficialmente em 16 de julho de 1790, é o distrito federal americano, como especificado pela Constituição estadunidense, com limitado poder local. O distrito é governado diretamente pelo Congresso dos Estados Unidos. A intenção dos Pais Fundadores era que a capital dos Estados Unidos estivesse em um local neutro, não dando favor a nenhum estado existente; Como resultado, o Distrito de Columbia foi criado para servir como sede do governo. Seu código ISO 3166-2 é DC.\\nComo não é um estado, o distrito não tem representação no Senado e tem um delegado sem direito a voto na Câmara; nem tem um governo soberano eleito. Além disso, antes da ratificação da 23ª Emenda, em 1961, os cidadãos do distrito não tiveram o direito de votar nas eleições presidenciais. Sua população é de 601 723 habitantes de acordo com o censo de 2010, maior que a do estado de Wyoming.\\nO Distrito de Colúmbia foi formado através de terras cedidas pelos estados de Maryland e Virgínia. Em 1847, a região que fora cedida pela Virgínia foi devolvida, região que compõe atualmente o Condado de Arlington. A construção de Washington iniciou-se em 1792, sendo inaugurada em 1800, no mesmo ano em que tornou-se a capital americana. Washington foi nomeada em homenagem ao primeiro Presidente americano, George Washington, enquanto que o termo District of Columbia deriva de um antigo nome poético dos Estados Unidos, Colúmbia.\\n\\n\\n== Ver também ==\\nSubdivisões dos Estados Unidos\\nTerritórios dos Estados Unidos\\nLista de governadores dos Estados Unidos\\n\\n\\n== Notas ==\\n\\n\\n== Referências =='"
            ],
            "application/vnd.google.colaboratory.intrinsic+json": {
              "type": "string"
            }
          },
          "metadata": {},
          "execution_count": 20
        }
      ]
    },
    {
      "cell_type": "code",
      "source": [
        "recuperar_documento(\"consoles da Nintendo\")"
      ],
      "metadata": {
        "id": "az5XsRU18a6v",
        "colab": {
          "base_uri": "https://localhost:8080/",
          "height": 109
        },
        "outputId": "1d14156a-28d2-4278-bae6-4630a90e900c"
      },
      "execution_count": 21,
      "outputs": [
        {
          "output_type": "execute_result",
          "data": {
            "text/plain": [
              "'Os estados dos Estados Unidos são as cinquenta unidades desse país federal da América do Norte. Compõem aquele país e partilham a soberania com o seu governo federal. Devido a esta soberania dividida, cada cidadão dos Estados Unidos é cidadão tanto da entidade federal quanto do seu estado de domicílio. Quatro estados usam o título oficial de \"comunidade\" (commonwealth), no lugar de \"estado\" (state). A cidadania estadual é flexível, e nenhuma aprovação governamental é necessária, bastando para que ela ocorra a mudança de domicílio do cidadão, com exceção dos condenados pela justiça.\\nA Constituição dos Estados Unidos distribui o poder entre estes dois níveis de governo. Ao ratificar a Constituição, o povo transferiu determinados poderes soberanos limitados dos seus estados para o governo federal. Sob a décima emenda, todos os poderes que não foram delegados ao governo estadunidense nem especificamente proibidos aos estados foram mantidos por estes estados e pelo povo. Historicamente, os investimentos em educação, infraestrutura, saúde, segurança, transporte públicos foram consideradas como responsabilidades primordialmente inerentes ao estado, embora hoje em dia, todas contem com uma quantidade significativa de verbas federais, bem como regulamentação, com base principalmente na Cláusula do Comércio, na Cláusula dos Impostos e Gastos e na Cláusula Necessária e Apropriada da Constituição.\\nCom o tempo a constituição do país foi sofrendo emendas, e a interpretação e aplicação de suas provisões foi sendo alterada. A tendência geral é a centralização e incorporação, com o governo federal desempenhando um papel muito maior do que anteriormente. Há um debate contínuo acerca dos direitos dos estados, no que diz respeito à extensão e natureza dos poderes dos estados e da sua soberania, em relação ao governo federal, bem como em relação aos direitos dos indivíduos.\\nO Congresso pode admitir novos estados, que terão o mesmo pé de igualdade que os estados já existentes; isto não ocorre, no entanto, desde 1959. A constituição nada fala sobre a hipótese de um dos estados decidir abandonar unilateralmente a União, porém a Suprema Corte decretou que a secessão é inconstitucional, uma posição motivada, ao menos em parte, pelo resultado da Guerra Civil dos Estados Unidos (1861–1865).\\n\\n\\n== Estados ==\\nEsta lista de estados dos Estados Unidos está ordenada pelos nomes dos estados em português. Cada um dos estados está listado com seu próprio código ISO indicado: o ISO 3166-2:US: Subdivisões dos Estados Unidos, que é usado também como código postal. A relação abaixo inclui também a data de entrada na União, a capital de cada estado, a cidade mais populosa de cada estado, a área em milhas quadradas e quilômetros quadrados, a população segundo o censo de 2011, o órgão governamental anterior à entrada na União como estado e o produto interno bruto de 2010.\\nEmbora as 13 colônias tenham sido consideradas como membros dos Estados Unidos desde a Declaração de Independência, em 4 de julho de 1776, elas são apresentadas aqui como sendo \"admitidas\" no ano de ratificação da Constituição dos Estados Unidos, em 1787.\\n\\n\\n== Distrito federal ==\\n\\nO Distrito de Colúmbia, formado oficialmente em 16 de julho de 1790, é o distrito federal americano, como especificado pela Constituição estadunidense, com limitado poder local. O distrito é governado diretamente pelo Congresso dos Estados Unidos. A intenção dos Pais Fundadores era que a capital dos Estados Unidos estivesse em um local neutro, não dando favor a nenhum estado existente; Como resultado, o Distrito de Columbia foi criado para servir como sede do governo. Seu código ISO 3166-2 é DC.\\nComo não é um estado, o distrito não tem representação no Senado e tem um delegado sem direito a voto na Câmara; nem tem um governo soberano eleito. Além disso, antes da ratificação da 23ª Emenda, em 1961, os cidadãos do distrito não tiveram o direito de votar nas eleições presidenciais. Sua população é de 601 723 habitantes de acordo com o censo de 2010, maior que a do estado de Wyoming.\\nO Distrito de Colúmbia foi formado através de terras cedidas pelos estados de Maryland e Virgínia. Em 1847, a região que fora cedida pela Virgínia foi devolvida, região que compõe atualmente o Condado de Arlington. A construção de Washington iniciou-se em 1792, sendo inaugurada em 1800, no mesmo ano em que tornou-se a capital americana. Washington foi nomeada em homenagem ao primeiro Presidente americano, George Washington, enquanto que o termo District of Columbia deriva de um antigo nome poético dos Estados Unidos, Colúmbia.\\n\\n\\n== Ver também ==\\nSubdivisões dos Estados Unidos\\nTerritórios dos Estados Unidos\\nLista de governadores dos Estados Unidos\\n\\n\\n== Notas ==\\n\\n\\n== Referências =='"
            ],
            "application/vnd.google.colaboratory.intrinsic+json": {
              "type": "string"
            }
          },
          "metadata": {},
          "execution_count": 21
        }
      ]
    },
    {
      "cell_type": "markdown",
      "source": [
        "# Recuperando documentos usando bag-of-words"
      ],
      "metadata": {
        "id": "53JkpqvT-GOB"
      }
    },
    {
      "cell_type": "code",
      "source": [
        "import string\n",
        "punctuation = string.punctuation\n",
        "\n",
        "import nltk\n",
        "nltk.download(\"punkt_tab\")\n",
        "nltk.download(\"stopwords\")\n",
        "\n",
        "from nltk.tokenize import word_tokenize\n",
        "\n",
        "stopwords = nltk.corpus.stopwords.words(\"portuguese\")"
      ],
      "metadata": {
        "id": "WkVK92KD-HyQ",
        "colab": {
          "base_uri": "https://localhost:8080/"
        },
        "outputId": "a069f212-d537-41da-c59c-4609ce0f7461"
      },
      "execution_count": 26,
      "outputs": [
        {
          "output_type": "stream",
          "name": "stderr",
          "text": [
            "[nltk_data] Downloading package punkt_tab to /root/nltk_data...\n",
            "[nltk_data]   Unzipping tokenizers/punkt_tab.zip.\n",
            "[nltk_data] Downloading package stopwords to /root/nltk_data...\n",
            "[nltk_data]   Package stopwords is already up-to-date!\n"
          ]
        }
      ]
    },
    {
      "cell_type": "code",
      "source": [
        "documentos['Brasil'].keys()"
      ],
      "metadata": {
        "id": "Mi5tGixy-4MS",
        "colab": {
          "base_uri": "https://localhost:8080/"
        },
        "outputId": "91ce99e1-75c6-4981-d291-61ab1cd33f96"
      },
      "execution_count": 27,
      "outputs": [
        {
          "output_type": "execute_result",
          "data": {
            "text/plain": [
              "dict_keys(['titulo', 'conteudo'])"
            ]
          },
          "metadata": {},
          "execution_count": 27
        }
      ]
    },
    {
      "cell_type": "markdown",
      "source": [
        "# Definindo função que será usada para extrair tokens mais frequentes nos documentos\n",
        "\n",
        "(e na busca do usuário)"
      ],
      "metadata": {
        "id": "QKYUaQCjNTuz"
      }
    },
    {
      "cell_type": "code",
      "source": [
        "def extrair_freq_tokens(texto):\n",
        "    freq = {}\n",
        "    mais_stopwords = [\"===\", \"==\", \"''\", \"``\"]\n",
        "    tokens = word_tokenize(texto)\n",
        "    tokens = [token.lower() for token in tokens if token.lower() not in punctuation and token.lower() not in stopwords and token.lower() not in mais_stopwords]\n",
        "    for token in tokens:\n",
        "        if not token in freq:\n",
        "            freq[token] = 1\n",
        "        else:\n",
        "            freq[token] += 1\n",
        "    return freq"
      ],
      "metadata": {
        "id": "_Qo1CKgb-xet"
      },
      "execution_count": 28,
      "outputs": []
    },
    {
      "cell_type": "markdown",
      "source": [
        "# Definindo as 10 palavras mais importantes para todos os documentos, que serão utilizadas como parâmetros para os vetores"
      ],
      "metadata": {
        "id": "RNYRYfsMNayR"
      }
    },
    {
      "cell_type": "code",
      "source": [
        "for documento in documentos:\n",
        "    freq_tokens = extrair_freq_tokens(documentos[documento]['conteudo'])\n",
        "    top_10 = sorted(freq_tokens.items(), key=lambda x: x[1], reverse=True)[:10]\n",
        "    documentos[documento]['top_10'] = dict(top_10)"
      ],
      "metadata": {
        "id": "t_DzNpqO_4nl"
      },
      "execution_count": 29,
      "outputs": []
    },
    {
      "cell_type": "code",
      "source": [
        "documentos['Brasil']['top_10']"
      ],
      "metadata": {
        "id": "TSJv6y7mAzAS",
        "colab": {
          "base_uri": "https://localhost:8080/"
        },
        "outputId": "9947650a-d1bf-4070-8aca-13bb1229bb44"
      },
      "execution_count": 30,
      "outputs": [
        {
          "output_type": "execute_result",
          "data": {
            "text/plain": [
              "{'brasil': 136,\n",
              " 'país': 89,\n",
              " 'maior': 64,\n",
              " 'brasileiro': 49,\n",
              " 'estados': 40,\n",
              " 'federal': 40,\n",
              " 'brasileira': 40,\n",
              " 'sul': 37,\n",
              " 'mundo': 32,\n",
              " 'américa': 31}"
            ]
          },
          "metadata": {},
          "execution_count": 30
        }
      ]
    },
    {
      "cell_type": "code",
      "source": [
        "todos_os_top_10 = []\n",
        "\n",
        "for documento in documentos:\n",
        "    top_10 = documentos[documento]['top_10']\n",
        "    todos_os_top_10.extend([token for token in top_10])"
      ],
      "metadata": {
        "id": "J-dwyRs3_OnB"
      },
      "execution_count": 31,
      "outputs": []
    },
    {
      "cell_type": "code",
      "source": [
        "print(todos_os_top_10)"
      ],
      "metadata": {
        "id": "IuMIoMDmBLIq",
        "colab": {
          "base_uri": "https://localhost:8080/"
        },
        "outputId": "f0f8798e-6f66-4ad9-f67f-12120fbc9ab9"
      },
      "execution_count": 32,
      "outputs": [
        {
          "output_type": "stream",
          "name": "stdout",
          "text": [
            "['brasil', 'país', 'maior', 'brasileiro', 'estados', 'federal', 'brasileira', 'sul', 'mundo', 'américa', 'municípios', 'federal', 'estado', 'distrito', 'estados', 'constituição', 'brasil', 'estadual', 'união', 'poder', 'copa', 'brasil', 'clubes', 'competição', 'campeão', 'brasileiro', 'libertadores', 'ano', 'times', 'série', 'artigo', 'lista', 'ordem', 'alfabética', 'todos', '5569', 'municípios', 'brasileiros', 'acordo', 'registros', 'cardeais', 'brasileiros', 'cinco', 'quatro', 'dez', 'lista', 'ordenada', 'ano', 'consistório', 'elevou', 'governo', 'militar', 'nacional', 'ditadura', 'militares', 'regime', 'brasil', 'presidente', 'política', 'estado', 'indígenas', 'povos', 'índios', 'indígena', 'brasil', 'outros', 'anos', 'sobre', 'muitas', 'mil', 'federal', 'distrito', 'brasília', 'cidade', 'brasil', 'capital', 'região', 'regiões', 'país', 'sendo', 'nordeste', 'região', 'brasil', 'maior', 'bahia', 'grande', 'pernambuco', 'norte', 'ceará', 'país', 'brasil', 'nome', 'ilha', 'pau-brasil', 'terra', 'madeira', 'árvore', 'ainda', 'palavra', 'origem', 'estados', 'unidos', 'país', 'maior', 'americanos', 'guerra', 'mundo', 'grande', 'população', 'anos', 'estados', 'unidos', 'estado', 'federal', 'governo', 'distrito', 'constituição', 'cada', 'país', 'soberania', 'exército', 'estados', 'unidos', 'guerra', 'army', 'soldados', 'forças', 'nacional', 'guarda', 'combate', 'presidente', 'estados', 'unidos', 'presidentes', 'cargo', 'partido', 'quatro', 'após', '«', '»', 'bandeira', 'estrelas', 'estados', 'unidos', 'faixas', 'e.u.a', 'primeira', 'listras', 'azul', 'brancas', 'temporada', 'série', 'janeiro', 'episódio', 'shameless', 'canal', 'showtime', '2011', 'frank', 'produção', 'população', 'americanos', 'estados', 'brancos', 'maior', 'unidos', 'país', 'africana', 'ascendência', 'americano', 'dólar', 'estados', 'unidos', 'moeda', 'notas', 'us', 'circulação', 'moedas', 'valor', 'países', 'presidente', 'congresso', 'estados', 'poder', 'unidos', 'presidentes', 'lei', 'governo', 'executivo', 'federal', 'população', 'estados', 'unidos', 'século', 'americanos', 'brancos', 'país', 'hispânicos', 'imigrantes', 'brasileiros', 'nintendo', 'jogos', 'empresa', 'super', 'mario', 'console', 'eletrônicos', 'the', 'wii', 'produtos', 'nintendo', 'switch', 'console', 'jogos', 'dock', 'the', 'of', 'joy-con', 'jogo', 'consoles', 'nintendo', 'ds', 'jogos', 'wi-fi', 'game', 'jogo', 'tela', 'boy', 'advance', 'sistema', 'wii', 'nintendo', 'console', 'jogos', 'remote', 'consoles', 'gamecube', 'lançamento', 'unidades', 'lançado', 'super', 'nintendo', 'jogos', 'snes', 'console', 'nes', 'botões', 'japão', 'consoles', 'versão', 'wii', 'u', 'nintendo', 'jogos', 'console', 'controle', 'tela', 'gamepad', 'sucessor', 'gb', '64', 'nintendo', 'jogos', 'console', 'mario', 'lançado', 'controle', 'acessório', 'super', 'milhões', 'nintendo', '3ds', '3d', 'new', 'console', 'xl', 'tela', 'lançado', '2ds', 'portátil', 'gamecube', 'nintendo', 'jogos', 'console', 'controle', 'lançamento', 'design', 'vendas', 'consoles', '64', 'nes', 'nintendo', 'console', 'jogos', 'famicom', 'sistema', 'controle', 'system', 'game', 'saída', 'playstation', '3', 'sony', 'sistema', 'gb', 'jogos', 'console', 'modelo', 'slim', 'lançado', 'playstation', 'jogos', '5', 'sistema', 'sony', 'jogo', 'console', '2020', 'hardware', 'pro', 'playstation', '4', 'sony', 'consola', 'jogos', 'ps4', '2013', '3', '2014', 'milhões', 'playstation', 'jogos', '2', 'ps2', 'sony', 'console', 'unidades', 'versão', 'modelo', 'lançado', 'playstation', '3', 'sony', 'sistema', 'gb', 'jogos', 'console', 'modelo', 'slim', 'lançado', 'playstation', 'jogos', 'console', 'sony', 'nintendo', 'carece', 'fontes', 'lançado', '2', 'unidades', 'psp', 'tela', 'playstation', 'jogos', 'formato', '3000', 'go', 'modelos', '2000', 'através', 'playstation', 'vita', 'sony', 'jogos', 'portable', 'dispositivo', 'cartão', 'memória', 'durante', 'portátil', 'playstation', 'network', '3', 'contas', 'conta', 'mestra', 'sony', 'usuários', 'acesso', 'registo', 'playstation', 'jogos', 'lista', '2', '3', 'vita', 'primeira', 'versão', 'procura', 'psp']\n"
          ]
        }
      ]
    },
    {
      "cell_type": "code",
      "source": [
        "print(len(todos_os_top_10))"
      ],
      "metadata": {
        "id": "ZhEjNgNRAUd9",
        "colab": {
          "base_uri": "https://localhost:8080/"
        },
        "outputId": "8b9f9612-56d0-4ceb-ea0b-a3a54ca7b8a7"
      },
      "execution_count": 33,
      "outputs": [
        {
          "output_type": "stream",
          "name": "stdout",
          "text": [
            "400\n"
          ]
        }
      ]
    },
    {
      "cell_type": "code",
      "source": [
        "todos_os_top_10 = set(todos_os_top_10)\n",
        "print(len(todos_os_top_10))"
      ],
      "metadata": {
        "id": "FFcIFWJrCBkU",
        "colab": {
          "base_uri": "https://localhost:8080/"
        },
        "outputId": "2616d365-a10a-4c5d-f450-d496245e910c"
      },
      "execution_count": 34,
      "outputs": [
        {
          "output_type": "stream",
          "name": "stdout",
          "text": [
            "223\n"
          ]
        }
      ]
    },
    {
      "cell_type": "markdown",
      "source": [
        "# Definindo função para vetorizar os documentos e a busca do usuário"
      ],
      "metadata": {
        "id": "eEfrE-5FNhR8"
      }
    },
    {
      "cell_type": "code",
      "source": [
        "def vetorizar(texto):\n",
        "    vetor = []\n",
        "    freq_tokens = extrair_freq_tokens(texto)\n",
        "    for token in todos_os_top_10:\n",
        "        vetor.append(freq_tokens.get(token, 0))\n",
        "    return vetor"
      ],
      "metadata": {
        "id": "MM3iNzhLCJOv"
      },
      "execution_count": 35,
      "outputs": []
    },
    {
      "cell_type": "code",
      "source": [
        "vetores = []\n",
        "titulos = []\n",
        "\n",
        "for documento in documentos:\n",
        "    titulos.append(documento)\n",
        "    vetor = vetorizar(documentos[documento]['conteudo'])\n",
        "    vetores.append(vetor)\n",
        "    print(vetor)"
      ],
      "metadata": {
        "id": "awyHbtJ3Hhd0",
        "colab": {
          "base_uri": "https://localhost:8080/"
        },
        "outputId": "98faa4ff-b4ba-42c2-9355-68e27dce360f"
      },
      "execution_count": 36,
      "outputs": [
        {
          "output_type": "stream",
          "name": "stdout",
          "text": [
            "[7, 0, 0, 0, 13, 1, 4, 17, 1, 0, 0, 3, 10, 6, 1, 0, 0, 1, 0, 0, 10, 0, 1, 0, 0, 4, 17, 1, 0, 9, 0, 20, 4, 0, 0, 4, 2, 9, 0, 0, 0, 1, 0, 0, 2, 2, 0, 0, 30, 13, 0, 5, 0, 0, 0, 0, 0, 0, 7, 0, 0, 0, 10, 1, 6, 15, 8, 0, 40, 12, 8, 0, 0, 9, 0, 0, 0, 0, 32, 4, 0, 0, 0, 20, 40, 0, 0, 25, 0, 19, 0, 11, 18, 19, 1, 1, 0, 2, 2, 3, 0, 12, 0, 17, 0, 49, 0, 0, 11, 0, 0, 0, 0, 1, 0, 3, 0, 1, 0, 0, 2, 0, 0, 0, 136, 8, 13, 17, 16, 22, 0, 20, 9, 5, 0, 0, 0, 1, 0, 4, 89, 4, 0, 0, 1, 0, 0, 3, 13, 4, 0, 1, 3, 4, 0, 3, 0, 0, 18, 1, 0, 0, 0, 11, 1, 5, 1, 37, 0, 7, 18, 0, 3, 0, 0, 4, 0, 16, 4, 2, 40, 2, 0, 0, 7, 15, 0, 0, 4, 8, 12, 3, 3, 20, 0, 0, 0, 1, 4, 0, 1, 31, 14, 2, 64, 5, 31, 6, 7, 0, 0, 0, 14, 23, 16, 2, 0, 7, 16, 13, 1, 1, 0]\n",
            "[2, 0, 0, 0, 4, 0, 0, 5, 0, 0, 0, 0, 0, 0, 0, 0, 0, 2, 0, 0, 0, 0, 0, 0, 0, 4, 2, 0, 0, 0, 0, 17, 0, 0, 0, 0, 0, 0, 0, 0, 0, 9, 0, 0, 5, 0, 0, 0, 8, 1, 0, 0, 0, 0, 0, 0, 0, 0, 0, 0, 0, 0, 0, 3, 10, 1, 12, 0, 37, 12, 0, 0, 0, 1, 0, 0, 0, 0, 2, 0, 0, 4, 0, 2, 5, 0, 0, 2, 0, 0, 1, 3, 35, 3, 0, 13, 0, 0, 0, 1, 0, 22, 0, 3, 0, 3, 0, 0, 1, 0, 0, 0, 0, 0, 0, 0, 0, 0, 0, 0, 0, 0, 0, 0, 15, 10, 3, 8, 2, 6, 0, 4, 0, 2, 0, 1, 0, 1, 0, 3, 8, 0, 0, 0, 0, 0, 0, 3, 0, 0, 0, 0, 1, 0, 0, 2, 0, 0, 12, 0, 0, 0, 0, 9, 0, 7, 0, 5, 0, 0, 5, 0, 0, 0, 0, 0, 0, 3, 0, 0, 19, 1, 0, 0, 2, 0, 0, 0, 0, 1, 2, 0, 0, 2, 0, 0, 0, 1, 0, 0, 0, 3, 0, 0, 7, 0, 1, 4, 9, 0, 0, 1, 2, 2, 0, 2, 0, 4, 43, 4, 0, 0, 0]\n",
            "[0, 0, 0, 0, 0, 97, 0, 0, 0, 0, 0, 3, 21, 0, 0, 0, 0, 1, 0, 0, 0, 0, 0, 0, 0, 0, 0, 0, 0, 3, 0, 0, 1, 0, 0, 0, 19, 3, 0, 0, 0, 0, 24, 0, 1, 2, 25, 22, 7, 2, 0, 4, 0, 0, 0, 0, 0, 20, 2, 0, 0, 0, 5, 2, 0, 7, 2, 0, 1, 1, 0, 0, 0, 0, 0, 0, 0, 0, 0, 7, 0, 0, 0, 2, 1, 0, 7, 0, 0, 0, 0, 2, 8, 7, 0, 1, 0, 0, 0, 0, 1, 1, 2, 0, 0, 24, 0, 0, 0, 0, 0, 0, 0, 0, 0, 0, 0, 0, 0, 0, 0, 0, 0, 0, 74, 0, 0, 4, 2, 1, 0, 1, 0, 2, 0, 0, 0, 3, 38, 0, 0, 0, 0, 0, 0, 0, 0, 0, 1, 0, 0, 0, 0, 0, 0, 12, 0, 0, 0, 0, 0, 1, 0, 5, 0, 2, 0, 4, 0, 3, 7, 0, 6, 0, 0, 0, 0, 2, 2, 0, 7, 0, 0, 0, 0, 3, 6, 2, 0, 2, 4, 0, 0, 1, 0, 0, 0, 0, 0, 0, 0, 11, 0, 0, 8, 0, 11, 1, 0, 0, 0, 0, 7, 3, 1, 1, 0, 3, 0, 10, 0, 0, 0]\n",
            "[0, 0, 0, 0, 0, 0, 0, 0, 0, 0, 0, 0, 0, 0, 0, 0, 0, 0, 0, 0, 0, 0, 0, 0, 0, 1, 0, 0, 0, 0, 0, 0, 0, 0, 0, 0, 0, 0, 0, 0, 0, 1, 0, 0, 0, 1, 0, 0, 0, 0, 0, 0, 0, 0, 0, 0, 0, 0, 0, 0, 0, 0, 0, 1, 0, 0, 0, 0, 0, 0, 0, 0, 0, 0, 0, 0, 0, 0, 0, 0, 0, 0, 1, 0, 0, 0, 0, 0, 0, 0, 0, 0, 0, 0, 0, 0, 0, 0, 0, 0, 0, 0, 0, 0, 0, 0, 0, 0, 0, 0, 0, 0, 0, 0, 0, 0, 0, 0, 0, 0, 0, 0, 0, 0, 1, 0, 0, 0, 0, 0, 0, 1, 0, 0, 0, 0, 0, 0, 0, 0, 0, 0, 0, 0, 0, 0, 0, 0, 0, 0, 0, 0, 0, 0, 0, 0, 0, 0, 0, 0, 0, 0, 0, 0, 0, 0, 0, 0, 0, 0, 0, 0, 0, 0, 0, 0, 0, 0, 0, 0, 0, 0, 0, 0, 0, 0, 0, 0, 0, 0, 0, 0, 0, 0, 0, 0, 0, 0, 0, 0, 0, 0, 0, 0, 0, 0, 0, 0, 0, 0, 0, 1, 1, 0, 1, 0, 0, 0, 1, 0, 1, 0, 1]\n",
            "[0, 0, 1, 0, 0, 0, 0, 0, 0, 0, 0, 0, 1, 0, 0, 0, 0, 0, 0, 3, 0, 0, 0, 0, 0, 0, 0, 0, 0, 0, 0, 0, 0, 0, 0, 0, 0, 0, 0, 0, 0, 0, 0, 0, 0, 0, 0, 0, 0, 0, 0, 0, 0, 0, 0, 0, 0, 0, 3, 0, 0, 0, 1, 1, 0, 0, 0, 0, 0, 0, 0, 0, 0, 0, 0, 0, 0, 0, 0, 0, 0, 0, 0, 0, 0, 0, 0, 0, 0, 0, 0, 1, 0, 0, 0, 0, 1, 0, 0, 0, 0, 0, 0, 0, 0, 0, 0, 0, 0, 0, 0, 0, 0, 0, 0, 0, 0, 0, 0, 0, 0, 0, 0, 0, 1, 0, 0, 0, 0, 0, 0, 0, 0, 2, 0, 0, 0, 0, 0, 0, 0, 0, 0, 0, 0, 0, 0, 1, 0, 0, 0, 0, 0, 0, 0, 0, 0, 0, 0, 0, 0, 0, 0, 0, 0, 0, 0, 1, 0, 0, 0, 0, 0, 0, 0, 0, 0, 0, 0, 0, 0, 0, 0, 0, 0, 0, 0, 0, 0, 0, 1, 0, 0, 0, 1, 0, 0, 0, 0, 0, 0, 1, 0, 0, 0, 0, 1, 2, 0, 0, 0, 0, 3, 0, 0, 0, 0, 0, 0, 0, 0, 0, 0]\n",
            "[6, 0, 0, 0, 85, 0, 4, 18, 0, 0, 0, 1, 12, 0, 1, 0, 0, 2, 0, 0, 2, 0, 1, 0, 0, 8, 9, 0, 0, 1, 0, 17, 3, 0, 0, 0, 1, 1, 0, 0, 0, 3, 0, 1, 0, 2, 0, 0, 14, 1, 0, 10, 0, 0, 0, 0, 0, 0, 6, 0, 0, 0, 2, 5, 2, 5, 4, 0, 14, 5, 25, 0, 0, 11, 0, 0, 0, 0, 5, 2, 0, 1, 0, 5, 26, 0, 0, 9, 0, 1, 0, 1, 37, 23, 0, 2, 0, 2, 1, 2, 2, 1, 0, 91, 0, 26, 2, 0, 61, 0, 0, 0, 1, 1, 0, 0, 0, 1, 0, 0, 0, 0, 0, 0, 58, 20, 52, 14, 22, 26, 0, 15, 58, 8, 0, 1, 0, 10, 2, 5, 29, 62, 0, 0, 2, 0, 0, 2, 10, 0, 0, 1, 0, 1, 0, 10, 1, 7, 31, 3, 0, 0, 0, 9, 0, 7, 0, 4, 0, 3, 15, 0, 0, 0, 0, 29, 0, 27, 0, 2, 15, 0, 0, 0, 22, 21, 0, 2, 8, 5, 2, 1, 4, 43, 0, 0, 0, 0, 3, 0, 0, 71, 12, 5, 11, 1, 4, 6, 5, 0, 0, 0, 12, 13, 11, 0, 0, 9, 1, 6, 1, 0, 0]\n",
            "[2, 0, 0, 0, 2, 0, 70, 30, 0, 0, 0, 3, 1, 0, 1, 0, 0, 0, 0, 2, 25, 0, 1, 0, 0, 3, 8, 1, 0, 0, 0, 6, 49, 0, 0, 13, 4, 0, 0, 1, 0, 2, 1, 0, 0, 0, 0, 0, 23, 6, 0, 1, 0, 1, 0, 0, 0, 0, 0, 0, 0, 0, 3, 2, 2, 7, 2, 0, 3, 4, 0, 0, 0, 0, 0, 0, 0, 0, 25, 6, 0, 0, 0, 16, 22, 0, 0, 1, 2, 20, 0, 6, 9, 51, 0, 0, 0, 0, 2, 4, 9, 1, 0, 27, 1, 10, 0, 0, 2, 0, 0, 0, 0, 5, 0, 8, 0, 2, 0, 0, 0, 0, 0, 0, 51, 10, 7, 51, 49, 1, 0, 23, 2, 4, 1, 0, 0, 0, 0, 6, 11, 0, 0, 1, 0, 0, 0, 2, 2, 5, 0, 0, 0, 2, 0, 1, 0, 76, 9, 3, 0, 0, 0, 23, 1, 6, 1, 15, 0, 0, 4, 0, 0, 0, 0, 0, 0, 41, 1, 8, 6, 1, 1, 0, 7, 10, 3, 0, 0, 28, 9, 0, 3, 21, 0, 0, 0, 0, 96, 0, 1, 27, 113, 2, 17, 3, 25, 6, 0, 2, 0, 0, 22, 45, 12, 0, 2, 51, 5, 5, 4, 2, 0]\n",
            "[59, 0, 0, 0, 0, 6, 0, 15, 0, 0, 0, 3, 6, 0, 0, 0, 0, 3, 0, 0, 1, 0, 0, 0, 0, 1, 0, 0, 1, 3, 0, 16, 5, 0, 0, 6, 1, 3, 0, 0, 0, 3, 1, 0, 4, 3, 1, 0, 17, 8, 0, 4, 0, 0, 0, 0, 0, 1, 0, 0, 0, 0, 4, 2, 32, 4, 34, 0, 132, 1, 0, 0, 0, 0, 0, 0, 0, 0, 4, 1, 0, 0, 0, 3, 4, 0, 0, 2, 0, 2, 0, 21, 9, 4, 0, 2, 0, 0, 0, 0, 0, 115, 0, 12, 1, 8, 0, 1, 0, 0, 0, 0, 0, 1, 0, 1, 0, 0, 0, 0, 0, 0, 0, 0, 33, 7, 7, 7, 9, 10, 0, 2, 1, 1, 1, 1, 0, 0, 1, 5, 20, 0, 0, 1, 3, 5, 0, 0, 0, 0, 0, 0, 1, 5, 0, 3, 0, 0, 8, 0, 0, 0, 0, 6, 0, 6, 0, 9, 0, 3, 9, 0, 1, 0, 0, 0, 0, 9, 5, 1, 6, 1, 0, 0, 2, 9, 0, 1, 3, 2, 29, 0, 0, 3, 0, 0, 0, 0, 0, 0, 0, 15, 2, 0, 12, 0, 0, 2, 2, 0, 0, 0, 4, 5, 4, 0, 0, 4, 15, 9, 0, 1, 0]\n",
            "[2, 0, 0, 0, 1, 2, 16, 36, 47, 0, 0, 5, 17, 1, 0, 0, 0, 3, 0, 0, 1, 0, 4, 0, 0, 2, 3, 0, 2, 9, 0, 0, 2, 0, 0, 5, 0, 9, 0, 0, 0, 1, 0, 0, 3, 0, 3, 0, 18, 48, 0, 5, 0, 0, 0, 0, 0, 0, 3, 0, 0, 0, 129, 1, 8, 30, 12, 0, 13, 4, 0, 0, 0, 0, 0, 0, 0, 0, 16, 1, 0, 0, 0, 4, 15, 0, 0, 10, 1, 14, 0, 26, 39, 12, 0, 3, 0, 0, 0, 3, 1, 0, 1, 5, 21, 25, 0, 0, 1, 0, 0, 0, 0, 1, 0, 5, 0, 0, 0, 0, 0, 0, 0, 0, 80, 2, 0, 17, 27, 3, 0, 9, 0, 4, 0, 0, 0, 3, 1, 2, 41, 1, 0, 0, 1, 6, 0, 48, 6, 5, 0, 0, 5, 6, 0, 8, 0, 3, 2, 0, 0, 0, 0, 4, 3, 3, 4, 23, 0, 2, 11, 1, 1, 0, 0, 1, 0, 17, 0, 30, 37, 72, 0, 0, 0, 9, 1, 0, 0, 1, 112, 0, 2, 3, 0, 0, 0, 0, 6, 0, 1, 30, 6, 0, 76, 9, 6, 8, 0, 0, 0, 0, 7, 60, 15, 1, 0, 6, 6, 9, 1, 0, 0]\n",
            "[1, 0, 0, 0, 1, 0, 0, 0, 0, 0, 0, 1, 1, 0, 0, 0, 0, 0, 0, 0, 16, 0, 0, 0, 0, 1, 0, 0, 11, 0, 0, 6, 0, 0, 0, 9, 1, 0, 0, 0, 0, 0, 0, 0, 1, 0, 0, 0, 3, 1, 0, 1, 0, 0, 0, 0, 0, 0, 0, 0, 0, 0, 0, 0, 0, 0, 1, 0, 0, 0, 0, 0, 0, 0, 0, 0, 0, 0, 2, 0, 0, 0, 0, 0, 4, 0, 0, 1, 0, 2, 0, 1, 2, 3, 0, 0, 0, 0, 0, 14, 0, 0, 0, 0, 0, 6, 0, 0, 0, 0, 0, 0, 0, 0, 0, 0, 0, 10, 0, 0, 0, 0, 0, 0, 64, 0, 0, 3, 0, 1, 0, 2, 0, 0, 0, 0, 0, 0, 0, 33, 1, 1, 0, 0, 0, 0, 0, 1, 2, 0, 0, 0, 19, 0, 0, 0, 0, 1, 2, 0, 0, 0, 0, 0, 0, 0, 0, 0, 0, 0, 2, 0, 0, 0, 0, 0, 0, 10, 0, 1, 2, 0, 0, 0, 0, 2, 0, 0, 0, 0, 1, 0, 0, 0, 0, 0, 0, 0, 2, 0, 0, 0, 3, 0, 0, 0, 1, 0, 0, 0, 0, 0, 1, 1, 2, 26, 0, 3, 0, 6, 0, 1, 0]\n",
            "[0, 0, 0, 0, 7, 0, 1, 28, 0, 0, 0, 3, 13, 9, 1, 0, 0, 2, 1, 0, 3, 0, 3, 0, 0, 0, 44, 1, 0, 0, 0, 10, 7, 0, 3, 5, 7, 0, 0, 1, 0, 2, 0, 0, 0, 1, 0, 0, 9, 25, 0, 3, 0, 0, 0, 0, 0, 0, 5, 0, 0, 0, 1, 0, 4, 19, 1, 0, 21, 12, 11, 0, 0, 2, 0, 0, 0, 0, 42, 0, 0, 0, 0, 16, 0, 0, 0, 12, 3, 20, 0, 1, 18, 28, 0, 3, 0, 2, 48, 0, 0, 8, 0, 23, 1, 0, 0, 0, 11, 0, 1, 0, 0, 2, 0, 5, 0, 0, 0, 0, 5, 0, 0, 0, 0, 8, 20, 15, 9, 1, 0, 16, 0, 3, 0, 0, 0, 6, 0, 6, 81, 0, 0, 0, 0, 0, 0, 0, 126, 1, 2, 1, 0, 4, 0, 6, 0, 3, 6, 19, 0, 0, 0, 16, 0, 2, 2, 18, 0, 0, 11, 0, 3, 0, 0, 2, 0, 5, 5, 1, 166, 0, 1, 0, 7, 18, 0, 2, 1, 6, 6, 1, 1, 14, 0, 0, 0, 2, 4, 0, 0, 12, 7, 0, 53, 1, 19, 10, 3, 0, 0, 0, 0, 31, 10, 1, 0, 9, 0, 15, 0, 0, 0]\n",
            "[0, 0, 0, 0, 0, 0, 0, 2, 0, 0, 0, 0, 2, 0, 0, 0, 0, 0, 1, 0, 0, 0, 0, 0, 0, 0, 1, 3, 0, 0, 0, 7, 0, 0, 0, 0, 0, 0, 0, 0, 0, 0, 0, 0, 1, 1, 0, 0, 3, 1, 0, 0, 0, 0, 0, 0, 0, 0, 0, 0, 0, 0, 0, 2, 3, 0, 1, 0, 8, 3, 0, 0, 0, 0, 0, 0, 0, 0, 0, 0, 0, 0, 0, 0, 0, 0, 0, 0, 0, 0, 0, 0, 9, 0, 0, 1, 1, 0, 0, 0, 0, 8, 0, 8, 0, 0, 0, 0, 0, 0, 0, 0, 0, 0, 0, 0, 0, 0, 0, 0, 0, 0, 0, 0, 0, 0, 1, 0, 0, 0, 0, 1, 0, 0, 0, 0, 0, 1, 0, 1, 3, 0, 0, 0, 0, 0, 0, 0, 14, 0, 0, 0, 0, 0, 0, 0, 0, 0, 2, 2, 0, 0, 0, 4, 0, 0, 1, 0, 0, 0, 0, 0, 0, 0, 0, 0, 0, 0, 0, 0, 29, 0, 0, 0, 2, 0, 0, 0, 0, 1, 2, 0, 0, 0, 0, 0, 0, 0, 0, 0, 0, 0, 0, 0, 2, 1, 1, 1, 0, 0, 0, 0, 0, 0, 1, 0, 0, 1, 0, 0, 0, 0, 0]\n",
            "[0, 0, 0, 0, 15, 0, 0, 0, 0, 0, 0, 0, 3, 0, 13, 0, 0, 1, 4, 0, 3, 0, 1, 0, 0, 4, 56, 0, 0, 1, 0, 1, 4, 0, 0, 1, 3, 1, 0, 0, 0, 0, 0, 0, 16, 0, 0, 0, 2, 7, 0, 2, 1, 1, 0, 0, 0, 0, 6, 0, 41, 0, 0, 1, 1, 3, 0, 0, 1, 5, 35, 0, 0, 0, 0, 0, 0, 0, 2, 5, 0, 0, 0, 4, 0, 0, 0, 3, 0, 7, 0, 1, 3, 11, 0, 0, 0, 41, 5, 0, 0, 2, 0, 1, 0, 0, 0, 0, 11, 0, 0, 0, 0, 0, 0, 1, 0, 0, 0, 1, 2, 0, 0, 0, 0, 0, 7, 11, 4, 3, 0, 15, 0, 0, 0, 0, 0, 6, 0, 0, 1, 0, 0, 0, 0, 0, 0, 0, 91, 0, 0, 0, 0, 0, 0, 2, 0, 4, 3, 0, 0, 1, 0, 8, 0, 1, 6, 10, 4, 5, 22, 0, 7, 0, 1, 202, 0, 5, 0, 0, 104, 0, 0, 0, 5, 14, 0, 0, 0, 1, 0, 2, 7, 0, 0, 0, 0, 23, 0, 0, 0, 25, 4, 23, 5, 3, 1, 5, 1, 0, 0, 0, 0, 5, 7, 0, 0, 2, 0, 6, 0, 1, 0]\n",
            "[0, 0, 0, 0, 0, 0, 0, 0, 0, 0, 0, 0, 0, 0, 0, 0, 0, 0, 0, 0, 0, 0, 0, 0, 0, 0, 0, 0, 0, 5, 0, 2, 0, 0, 0, 0, 0, 5, 0, 0, 0, 1, 0, 0, 1, 1, 0, 0, 0, 0, 0, 0, 0, 0, 0, 0, 0, 0, 0, 0, 0, 0, 0, 4, 0, 0, 0, 0, 2, 1, 1, 0, 0, 7, 0, 0, 0, 0, 0, 0, 0, 0, 0, 0, 0, 0, 0, 0, 0, 0, 0, 0, 2, 3, 0, 0, 0, 0, 1, 0, 0, 0, 0, 2, 0, 0, 8, 0, 0, 0, 0, 0, 0, 0, 0, 0, 0, 0, 0, 0, 0, 0, 0, 0, 0, 1, 14, 1, 0, 1, 0, 2, 0, 0, 0, 0, 0, 0, 0, 0, 1, 0, 0, 0, 0, 0, 0, 0, 11, 0, 1, 0, 0, 0, 0, 0, 0, 0, 2, 0, 0, 0, 0, 1, 0, 0, 0, 0, 0, 0, 5, 0, 0, 0, 0, 0, 0, 0, 0, 0, 11, 0, 0, 0, 0, 0, 0, 0, 7, 1, 0, 0, 0, 0, 0, 0, 0, 0, 0, 0, 0, 1, 0, 0, 0, 0, 0, 5, 2, 0, 0, 0, 0, 0, 0, 0, 0, 0, 0, 0, 0, 0, 0]\n",
            "[0, 0, 0, 0, 0, 0, 0, 0, 0, 0, 0, 0, 1, 0, 1, 0, 0, 0, 0, 0, 0, 0, 0, 0, 4, 0, 1, 0, 0, 0, 0, 0, 1, 0, 0, 0, 0, 0, 0, 3, 0, 0, 0, 0, 0, 0, 0, 0, 1, 0, 0, 0, 0, 7, 0, 0, 4, 0, 0, 0, 0, 0, 0, 0, 0, 0, 0, 0, 0, 3, 0, 0, 0, 0, 0, 0, 0, 0, 0, 0, 0, 0, 0, 0, 0, 0, 0, 0, 0, 0, 0, 0, 1, 2, 0, 0, 1, 0, 0, 0, 0, 0, 0, 0, 0, 0, 0, 0, 0, 0, 0, 0, 0, 0, 0, 0, 0, 0, 0, 0, 0, 4, 0, 0, 0, 0, 1, 0, 0, 0, 0, 0, 0, 0, 0, 0, 0, 1, 0, 1, 1, 0, 0, 0, 0, 0, 0, 0, 4, 0, 0, 0, 0, 0, 0, 0, 0, 0, 0, 0, 0, 3, 0, 2, 23, 0, 0, 0, 0, 0, 0, 0, 0, 0, 0, 0, 1, 0, 0, 0, 5, 0, 0, 0, 1, 0, 0, 0, 0, 0, 0, 0, 0, 0, 0, 0, 0, 0, 0, 0, 0, 2, 0, 0, 0, 0, 1, 0, 0, 0, 0, 0, 0, 2, 0, 0, 0, 0, 0, 4, 0, 2, 0]\n",
            "[0, 0, 0, 0, 0, 0, 0, 0, 0, 0, 0, 0, 1, 0, 1, 0, 0, 0, 0, 0, 0, 0, 0, 0, 0, 0, 0, 0, 0, 1, 0, 0, 0, 0, 0, 0, 10, 1, 0, 0, 0, 0, 0, 6, 0, 0, 0, 0, 0, 0, 0, 0, 0, 0, 0, 0, 0, 1, 0, 0, 0, 0, 0, 1, 0, 0, 1, 0, 0, 0, 0, 0, 0, 0, 0, 0, 0, 0, 0, 3, 0, 0, 0, 0, 0, 0, 0, 0, 0, 0, 0, 0, 0, 0, 4, 0, 0, 0, 0, 0, 0, 0, 11, 0, 0, 0, 0, 0, 0, 0, 0, 0, 0, 0, 4, 0, 0, 0, 0, 0, 0, 0, 0, 0, 1, 0, 0, 1, 0, 9, 0, 0, 0, 0, 0, 0, 0, 0, 0, 0, 0, 0, 0, 0, 0, 0, 0, 0, 0, 0, 4, 0, 0, 0, 0, 0, 0, 0, 0, 0, 0, 1, 0, 0, 0, 2, 0, 2, 0, 1, 2, 0, 0, 0, 0, 0, 0, 0, 0, 4, 0, 0, 0, 0, 0, 0, 0, 0, 1, 0, 0, 0, 0, 0, 0, 0, 0, 0, 0, 5, 0, 0, 0, 0, 1, 4, 0, 1, 0, 0, 0, 0, 0, 0, 1, 0, 0, 1, 0, 2, 0, 1, 0]\n",
            "[0, 0, 0, 0, 0, 0, 0, 17, 0, 0, 0, 1, 0, 1, 0, 0, 0, 1, 0, 0, 0, 0, 1, 0, 0, 0, 0, 0, 0, 0, 0, 0, 0, 0, 4, 2, 0, 0, 0, 1, 0, 0, 0, 0, 0, 0, 0, 0, 5, 0, 0, 0, 0, 0, 0, 0, 0, 0, 1, 0, 0, 0, 0, 0, 0, 5, 0, 0, 0, 0, 0, 0, 0, 0, 0, 0, 0, 0, 2, 0, 0, 0, 0, 0, 0, 0, 0, 2, 6, 2, 0, 0, 0, 2, 0, 0, 0, 0, 15, 0, 0, 0, 0, 0, 7, 0, 0, 0, 0, 0, 0, 0, 0, 0, 0, 9, 0, 1, 0, 0, 0, 0, 0, 0, 1, 0, 0, 3, 0, 0, 0, 2, 0, 0, 0, 0, 0, 1, 0, 0, 8, 0, 0, 0, 0, 4, 0, 0, 8, 0, 0, 0, 0, 4, 0, 0, 0, 0, 0, 6, 0, 0, 0, 1, 0, 1, 0, 1, 0, 1, 0, 0, 0, 0, 0, 0, 0, 1, 0, 0, 10, 0, 0, 0, 0, 1, 0, 1, 0, 0, 0, 0, 0, 0, 0, 0, 0, 0, 0, 0, 0, 1, 2, 0, 9, 1, 4, 1, 0, 0, 0, 0, 0, 3, 4, 0, 0, 0, 0, 0, 0, 0, 0]\n",
            "[0, 7, 0, 0, 0, 0, 0, 0, 0, 0, 0, 0, 0, 0, 1, 0, 0, 0, 10, 0, 0, 0, 6, 0, 0, 1, 2, 0, 0, 2, 0, 0, 1, 0, 0, 1, 0, 2, 0, 0, 0, 0, 0, 0, 1, 11, 0, 0, 1, 0, 0, 0, 0, 0, 0, 0, 0, 0, 0, 0, 0, 0, 0, 2, 0, 0, 2, 0, 4, 0, 0, 0, 0, 0, 0, 0, 0, 0, 2, 0, 0, 0, 1, 3, 3, 0, 0, 5, 0, 1, 0, 0, 0, 0, 0, 0, 0, 0, 0, 0, 0, 0, 0, 1, 0, 0, 0, 0, 0, 0, 0, 0, 0, 0, 0, 0, 0, 0, 0, 0, 0, 0, 0, 0, 1, 3, 1, 2, 0, 0, 0, 0, 0, 0, 0, 0, 0, 0, 0, 1, 1, 0, 0, 9, 0, 0, 0, 0, 17, 0, 0, 0, 0, 0, 0, 1, 0, 0, 0, 3, 0, 0, 22, 0, 0, 1, 1, 0, 0, 0, 3, 0, 0, 0, 0, 0, 0, 2, 0, 1, 17, 0, 13, 0, 1, 0, 0, 0, 0, 0, 0, 0, 0, 0, 0, 0, 0, 0, 0, 0, 0, 1, 0, 0, 3, 0, 0, 0, 0, 0, 0, 0, 0, 1, 0, 0, 0, 1, 0, 1, 0, 0, 0]\n",
            "[0, 0, 0, 0, 3, 0, 0, 0, 0, 0, 0, 0, 5, 0, 1, 0, 0, 1, 1, 0, 0, 0, 0, 0, 0, 2, 12, 0, 0, 1, 0, 11, 3, 0, 0, 1, 0, 1, 0, 0, 0, 5, 0, 0, 1, 1, 0, 0, 3, 0, 0, 1, 0, 0, 0, 0, 0, 0, 0, 0, 0, 0, 0, 0, 0, 1, 0, 0, 13, 0, 6, 0, 0, 6, 0, 0, 0, 0, 3, 1, 0, 0, 0, 6, 0, 0, 0, 2, 0, 0, 0, 0, 8, 7, 0, 0, 0, 0, 1, 0, 0, 1, 0, 13, 0, 0, 16, 0, 3, 0, 0, 0, 0, 0, 0, 0, 0, 0, 0, 0, 0, 0, 0, 0, 0, 14, 73, 7, 3, 3, 0, 8, 0, 2, 0, 0, 0, 0, 0, 0, 2, 0, 0, 0, 0, 0, 0, 0, 18, 0, 0, 0, 0, 0, 0, 0, 0, 0, 19, 4, 0, 0, 1, 3, 1, 0, 0, 0, 0, 0, 4, 0, 0, 0, 0, 0, 0, 1, 0, 0, 22, 0, 0, 0, 30, 8, 0, 0, 11, 5, 0, 0, 2, 7, 0, 0, 0, 0, 0, 0, 0, 1, 0, 0, 6, 0, 0, 5, 13, 0, 0, 0, 0, 1, 3, 0, 0, 3, 0, 4, 0, 0, 0]\n",
            "[0, 0, 0, 0, 0, 0, 0, 35, 0, 0, 0, 4, 0, 10, 0, 0, 0, 1, 0, 0, 0, 0, 1, 0, 0, 0, 1, 0, 0, 0, 0, 0, 0, 0, 10, 4, 1, 0, 0, 2, 0, 0, 0, 0, 0, 1, 0, 0, 3, 2, 0, 1, 0, 0, 0, 0, 0, 0, 0, 0, 0, 0, 3, 0, 0, 9, 2, 0, 1, 0, 0, 0, 0, 0, 0, 0, 0, 0, 3, 2, 0, 0, 0, 0, 2, 0, 0, 1, 1, 12, 0, 0, 5, 9, 0, 0, 0, 0, 12, 0, 0, 0, 0, 1, 7, 0, 0, 0, 0, 0, 7, 0, 0, 0, 0, 12, 0, 0, 0, 0, 0, 0, 0, 0, 2, 0, 0, 5, 0, 0, 0, 0, 0, 0, 0, 0, 0, 1, 1, 0, 10, 0, 0, 0, 0, 0, 0, 0, 26, 0, 0, 0, 0, 0, 0, 0, 0, 1, 0, 2, 0, 0, 0, 1, 0, 2, 0, 2, 0, 3, 2, 0, 2, 0, 0, 0, 0, 2, 0, 0, 31, 0, 0, 0, 0, 5, 0, 0, 0, 1, 2, 0, 1, 0, 0, 0, 0, 0, 1, 0, 0, 1, 2, 0, 8, 1, 7, 0, 0, 0, 0, 0, 10, 4, 5, 3, 0, 0, 0, 1, 0, 0, 0]\n",
            "[0, 0, 0, 1, 0, 0, 0, 0, 0, 0, 1, 1, 30, 0, 31, 0, 29, 1, 0, 0, 0, 0, 2, 7, 0, 0, 2, 0, 0, 2, 0, 0, 1, 37, 0, 4, 15, 2, 0, 0, 21, 2, 0, 0, 25, 0, 0, 0, 16, 5, 6, 3, 0, 0, 42, 0, 0, 0, 4, 5, 0, 8, 0, 1, 2, 25, 1, 0, 0, 0, 0, 11, 27, 0, 6, 23, 5, 0, 11, 4, 173, 0, 8, 20, 0, 0, 6, 2, 0, 4, 2, 0, 0, 23, 0, 0, 0, 0, 0, 0, 1, 3, 0, 0, 0, 1, 0, 1, 0, 1, 2, 0, 0, 1, 0, 0, 0, 1, 0, 14, 20, 0, 0, 0, 4, 0, 6, 20, 6, 0, 5, 9, 0, 2, 32, 0, 0, 0, 0, 8, 3, 0, 6, 2, 57, 0, 0, 0, 10, 30, 0, 4, 0, 1, 0, 7, 1, 0, 1, 0, 0, 0, 0, 2, 0, 0, 29, 0, 16, 3, 3, 2, 3, 0, 0, 0, 0, 6, 71, 17, 10, 0, 0, 30, 0, 7, 12, 10, 0, 0, 0, 6, 4, 5, 0, 33, 0, 0, 0, 0, 0, 0, 0, 0, 12, 2, 5, 1, 1, 0, 1, 0, 0, 6, 14, 0, 1, 3, 0, 9, 0, 6, 0]\n",
            "[0, 0, 0, 0, 0, 0, 0, 0, 0, 21, 0, 0, 6, 0, 19, 0, 0, 4, 3, 0, 0, 0, 0, 7, 0, 0, 0, 0, 0, 4, 0, 0, 0, 15, 0, 0, 0, 4, 0, 0, 0, 0, 0, 0, 7, 0, 0, 0, 5, 2, 0, 5, 4, 0, 12, 1, 0, 0, 0, 5, 0, 78, 0, 1, 0, 12, 0, 0, 0, 0, 1, 9, 15, 0, 0, 5, 6, 0, 4, 0, 90, 0, 12, 12, 0, 1, 0, 0, 0, 0, 1, 1, 0, 2, 0, 0, 0, 0, 0, 0, 9, 0, 0, 0, 0, 0, 0, 1, 0, 0, 3, 17, 0, 0, 0, 1, 0, 0, 0, 13, 2, 0, 0, 3, 5, 0, 5, 9, 0, 5, 0, 3, 0, 1, 1, 0, 5, 4, 0, 1, 0, 0, 2, 0, 9, 0, 1, 0, 3, 0, 0, 5, 0, 1, 0, 13, 5, 0, 0, 0, 0, 1, 0, 4, 0, 3, 19, 0, 2, 0, 1, 2, 5, 0, 0, 0, 2, 3, 42, 0, 3, 0, 0, 13, 0, 7, 16, 1, 0, 7, 1, 13, 0, 0, 0, 68, 0, 0, 0, 0, 1, 0, 0, 0, 0, 0, 2, 3, 0, 3, 1, 0, 0, 1, 0, 0, 3, 3, 0, 4, 0, 11, 0]\n",
            "[0, 0, 0, 4, 0, 0, 0, 0, 0, 0, 4, 0, 0, 0, 3, 0, 31, 1, 2, 0, 0, 0, 2, 4, 0, 0, 0, 0, 0, 5, 31, 0, 0, 17, 0, 0, 1, 5, 1, 0, 28, 0, 0, 0, 5, 1, 0, 0, 3, 8, 1, 1, 2, 0, 6, 9, 0, 0, 1, 1, 0, 0, 0, 2, 0, 2, 0, 0, 0, 0, 0, 9, 7, 0, 28, 1, 3, 0, 6, 0, 154, 0, 0, 22, 0, 0, 4, 1, 0, 0, 0, 4, 1, 1, 0, 0, 0, 0, 0, 0, 2, 0, 0, 0, 0, 0, 0, 4, 0, 0, 1, 0, 0, 1, 0, 1, 0, 0, 0, 13, 15, 0, 0, 0, 2, 0, 0, 9, 0, 0, 0, 8, 0, 0, 1, 2, 2, 5, 0, 3, 0, 0, 135, 0, 1, 0, 11, 0, 2, 0, 0, 0, 0, 0, 2, 11, 29, 0, 0, 1, 0, 5, 0, 4, 0, 1, 0, 0, 1, 0, 1, 0, 0, 0, 0, 0, 5, 5, 56, 0, 2, 0, 0, 5, 0, 2, 30, 4, 0, 6, 8, 8, 2, 0, 0, 21, 0, 0, 0, 0, 0, 0, 0, 0, 8, 1, 7, 0, 0, 4, 0, 0, 0, 1, 0, 0, 10, 4, 0, 0, 0, 10, 0]\n",
            "[0, 0, 0, 0, 0, 0, 0, 0, 0, 0, 1, 1, 13, 0, 10, 0, 5, 0, 12, 0, 0, 0, 0, 8, 0, 0, 0, 0, 0, 2, 6, 0, 1, 14, 0, 1, 2, 2, 0, 0, 0, 0, 0, 0, 31, 0, 0, 0, 4, 8, 32, 14, 12, 0, 14, 2, 0, 2, 1, 5, 0, 5, 0, 2, 0, 20, 0, 0, 3, 0, 0, 7, 35, 0, 0, 24, 2, 0, 10, 15, 142, 0, 10, 30, 0, 2, 1, 2, 0, 0, 0, 2, 1, 4, 10, 0, 0, 0, 0, 0, 5, 1, 0, 1, 0, 0, 0, 7, 0, 2, 6, 0, 3, 1, 0, 0, 0, 4, 0, 30, 14, 0, 0, 0, 1, 0, 3, 10, 0, 7, 0, 9, 0, 0, 2, 4, 19, 5, 0, 13, 3, 0, 15, 0, 10, 1, 4, 0, 20, 2, 0, 8, 0, 1, 0, 5, 3, 0, 3, 1, 0, 2, 0, 4, 0, 1, 9, 5, 2, 1, 11, 1, 3, 0, 0, 0, 4, 9, 70, 4, 20, 0, 0, 254, 0, 2, 28, 3, 0, 12, 4, 31, 23, 0, 0, 115, 0, 0, 0, 0, 0, 1, 0, 0, 11, 17, 9, 2, 1, 5, 38, 0, 0, 2, 10, 0, 14, 4, 0, 7, 0, 13, 0]\n",
            "[0, 0, 0, 0, 0, 0, 0, 0, 0, 0, 4, 2, 2, 0, 5, 0, 5, 0, 0, 0, 0, 0, 0, 3, 0, 0, 0, 0, 0, 0, 0, 0, 0, 8, 0, 0, 1, 0, 19, 0, 4, 0, 0, 1, 2, 0, 1, 0, 5, 6, 1, 0, 1, 0, 45, 15, 0, 0, 0, 1, 0, 1, 0, 1, 0, 5, 0, 0, 0, 0, 1, 0, 11, 0, 0, 2, 0, 0, 2, 0, 31, 0, 0, 4, 0, 0, 7, 1, 0, 0, 0, 0, 0, 3, 0, 0, 0, 0, 0, 0, 6, 0, 0, 0, 0, 0, 0, 0, 0, 8, 0, 0, 0, 0, 0, 0, 0, 0, 0, 9, 13, 0, 0, 0, 1, 0, 0, 5, 0, 0, 18, 3, 0, 0, 1, 2, 0, 1, 0, 4, 1, 0, 0, 0, 2, 0, 1, 0, 4, 0, 0, 2, 0, 0, 0, 6, 0, 0, 0, 0, 0, 1, 0, 4, 0, 0, 3, 2, 4, 0, 0, 0, 0, 0, 0, 0, 0, 2, 28, 1, 4, 0, 0, 1, 0, 1, 9, 2, 0, 1, 0, 2, 4, 0, 0, 19, 0, 0, 0, 0, 0, 0, 0, 0, 4, 0, 7, 2, 0, 1, 0, 0, 0, 0, 0, 0, 1, 0, 0, 0, 0, 10, 0]\n",
            "[0, 0, 0, 0, 0, 0, 0, 0, 0, 0, 8, 0, 7, 0, 1, 1, 2, 2, 0, 0, 0, 0, 0, 6, 0, 0, 0, 0, 0, 3, 0, 0, 0, 5, 0, 1, 1, 3, 1, 0, 1, 1, 0, 0, 8, 0, 0, 0, 0, 2, 3, 7, 4, 0, 6, 3, 0, 0, 0, 2, 0, 1, 0, 2, 0, 5, 0, 1, 0, 0, 0, 0, 1, 0, 1, 1, 3, 0, 1, 3, 52, 1, 60, 9, 0, 12, 3, 0, 0, 0, 0, 2, 0, 0, 0, 0, 0, 0, 0, 0, 0, 0, 0, 0, 0, 0, 0, 4, 0, 0, 2, 0, 0, 0, 0, 0, 0, 0, 0, 8, 1, 0, 0, 15, 2, 0, 3, 4, 0, 4, 2, 3, 0, 1, 1, 6, 0, 3, 0, 0, 1, 0, 1, 0, 2, 2, 0, 0, 0, 0, 0, 13, 0, 3, 0, 2, 16, 0, 1, 0, 0, 1, 0, 1, 0, 1, 2, 0, 0, 1, 3, 4, 0, 0, 0, 0, 3, 2, 34, 1, 0, 0, 0, 105, 0, 1, 5, 1, 0, 5, 5, 7, 20, 0, 0, 24, 8, 0, 0, 0, 0, 0, 0, 0, 1, 9, 2, 4, 0, 0, 6, 0, 0, 0, 1, 0, 5, 5, 0, 1, 0, 4, 0]\n",
            "[0, 0, 0, 0, 0, 0, 0, 0, 0, 0, 7, 0, 1, 0, 6, 0, 3, 0, 1, 0, 0, 0, 0, 7, 0, 0, 0, 0, 0, 1, 0, 0, 1, 19, 0, 0, 3, 1, 2, 0, 3, 0, 0, 0, 8, 0, 0, 0, 3, 2, 2, 3, 2, 0, 12, 1, 0, 0, 1, 1, 0, 1, 0, 1, 0, 12, 0, 0, 0, 0, 0, 0, 6, 0, 0, 6, 0, 0, 3, 0, 38, 0, 0, 3, 0, 0, 1, 1, 0, 0, 1, 0, 0, 0, 0, 0, 0, 0, 0, 0, 1, 0, 0, 0, 0, 0, 0, 0, 0, 0, 0, 0, 0, 1, 0, 0, 0, 0, 0, 16, 11, 0, 0, 0, 5, 0, 0, 0, 0, 0, 1, 3, 0, 0, 2, 0, 0, 2, 0, 4, 1, 0, 0, 0, 4, 0, 13, 0, 0, 0, 0, 0, 0, 0, 0, 5, 1, 0, 0, 0, 0, 6, 0, 0, 0, 1, 11, 0, 0, 0, 0, 3, 0, 0, 0, 0, 1, 5, 36, 1, 0, 0, 0, 0, 0, 0, 11, 55, 0, 2, 0, 9, 14, 0, 0, 19, 0, 0, 0, 0, 0, 0, 0, 0, 2, 0, 2, 2, 0, 0, 0, 0, 0, 4, 1, 0, 5, 1, 0, 2, 0, 2, 0]\n",
            "[0, 0, 0, 10, 0, 0, 0, 0, 0, 0, 16, 0, 1, 0, 0, 0, 1, 2, 2, 0, 0, 0, 0, 1, 0, 0, 0, 0, 0, 0, 0, 0, 0, 0, 0, 0, 0, 0, 0, 0, 2, 0, 0, 0, 0, 0, 0, 0, 1, 4, 0, 0, 2, 0, 0, 4, 0, 0, 0, 1, 0, 0, 0, 2, 0, 0, 0, 1, 0, 0, 0, 7, 1, 0, 1, 1, 33, 0, 0, 2, 53, 0, 3, 0, 1, 0, 1, 1, 0, 0, 0, 0, 0, 2, 0, 0, 0, 0, 0, 0, 2, 0, 0, 0, 0, 0, 0, 1, 0, 0, 13, 0, 0, 0, 0, 0, 8, 0, 0, 8, 7, 0, 0, 0, 3, 0, 0, 2, 0, 0, 1, 0, 0, 2, 0, 1, 0, 0, 0, 1, 1, 0, 4, 0, 1, 0, 0, 0, 0, 0, 0, 2, 0, 0, 0, 0, 9, 0, 0, 0, 0, 0, 0, 1, 0, 0, 0, 0, 0, 3, 2, 0, 3, 1, 0, 0, 1, 1, 7, 1, 0, 0, 0, 4, 0, 2, 1, 0, 0, 0, 0, 6, 1, 0, 0, 11, 1, 0, 0, 0, 0, 0, 0, 0, 4, 4, 4, 1, 0, 2, 0, 0, 0, 1, 0, 0, 0, 0, 0, 3, 0, 3, 0]\n",
            "[0, 0, 0, 0, 0, 0, 0, 0, 0, 0, 5, 3, 2, 0, 8, 0, 12, 0, 4, 0, 0, 0, 0, 14, 0, 0, 0, 0, 0, 1, 0, 0, 0, 8, 0, 0, 6, 1, 0, 0, 11, 1, 0, 0, 11, 1, 0, 0, 4, 5, 84, 1, 11, 0, 12, 2, 0, 0, 1, 3, 0, 1, 0, 3, 0, 13, 0, 0, 0, 0, 0, 3, 15, 0, 6, 16, 0, 0, 6, 0, 70, 0, 2, 8, 0, 3, 4, 1, 0, 0, 0, 1, 0, 4, 1, 0, 0, 0, 0, 0, 5, 0, 0, 0, 0, 0, 0, 0, 0, 5, 0, 0, 0, 0, 0, 0, 0, 0, 0, 11, 9, 0, 0, 0, 0, 0, 0, 7, 6, 0, 1, 3, 0, 0, 0, 0, 2, 3, 0, 1, 0, 0, 0, 0, 8, 0, 1, 0, 1, 1, 0, 6, 0, 0, 0, 14, 2, 0, 0, 0, 0, 0, 0, 1, 0, 4, 5, 0, 3, 0, 2, 2, 0, 0, 0, 0, 16, 2, 57, 1, 1, 0, 0, 9, 0, 7, 8, 14, 0, 2, 1, 22, 25, 0, 0, 53, 0, 0, 0, 0, 0, 0, 0, 0, 4, 1, 5, 3, 0, 3, 1, 0, 0, 2, 2, 0, 4, 2, 0, 2, 0, 5, 0]\n",
            "[0, 0, 0, 0, 0, 0, 0, 0, 0, 0, 1, 0, 2, 0, 1, 0, 11, 1, 1, 0, 0, 0, 1, 3, 0, 0, 0, 0, 0, 2, 0, 0, 0, 3, 0, 0, 0, 2, 1, 0, 1, 0, 0, 0, 1, 1, 0, 0, 3, 1, 0, 3, 4, 0, 6, 6, 0, 0, 1, 0, 0, 1, 0, 3, 0, 3, 0, 0, 0, 1, 0, 0, 7, 0, 1, 0, 0, 0, 2, 0, 30, 0, 1, 15, 0, 0, 3, 1, 0, 0, 0, 2, 0, 4, 3, 0, 0, 0, 0, 0, 1, 0, 0, 0, 0, 0, 0, 0, 0, 15, 0, 0, 0, 0, 0, 0, 0, 0, 0, 9, 5, 0, 0, 0, 6, 0, 0, 4, 0, 0, 34, 4, 0, 0, 0, 11, 0, 3, 0, 3, 1, 0, 1, 0, 5, 0, 6, 0, 2, 0, 0, 0, 0, 0, 1, 5, 6, 0, 1, 2, 0, 1, 0, 1, 0, 1, 0, 0, 11, 0, 0, 0, 0, 0, 0, 0, 3, 2, 23, 3, 2, 0, 0, 3, 0, 2, 4, 1, 0, 2, 1, 2, 12, 0, 0, 23, 1, 0, 0, 0, 0, 0, 0, 0, 3, 0, 1, 0, 0, 0, 0, 0, 1, 2, 0, 0, 10, 0, 0, 0, 0, 9, 0]\n",
            "[0, 0, 0, 0, 0, 0, 0, 0, 0, 0, 11, 0, 12, 0, 18, 0, 11, 4, 12, 0, 2, 0, 1, 192, 2, 0, 0, 0, 0, 0, 6, 0, 0, 0, 0, 0, 7, 0, 0, 0, 0, 0, 0, 0, 12, 0, 0, 0, 14, 16, 0, 129, 18, 2, 17, 0, 0, 2, 3, 71, 2, 0, 0, 5, 1, 6, 0, 1, 0, 0, 0, 1, 9, 0, 0, 11, 0, 0, 6, 6, 1, 0, 0, 63, 1, 59, 2, 0, 0, 0, 0, 7, 0, 2, 2, 0, 0, 1, 0, 0, 53, 0, 0, 0, 0, 0, 0, 21, 0, 0, 0, 0, 5, 9, 0, 0, 0, 2, 3, 35, 17, 0, 48, 0, 3, 0, 3, 17, 1, 7, 0, 9, 0, 0, 2, 1, 6, 17, 0, 1, 0, 0, 0, 0, 1, 0, 1, 0, 3, 2, 1, 2, 0, 1, 12, 20, 4, 0, 1, 1, 1, 1, 0, 3, 0, 9, 24, 2, 1, 0, 10, 0, 0, 0, 0, 1, 7, 9, 56, 8, 3, 0, 1, 4, 0, 8, 16, 0, 0, 20, 3, 24, 4, 0, 0, 54, 20, 0, 0, 0, 0, 0, 0, 0, 1, 2, 16, 8, 0, 24, 5, 0, 0, 2, 6, 0, 10, 7, 0, 7, 0, 33, 0]\n",
            "[0, 0, 0, 0, 0, 0, 0, 0, 0, 0, 1, 0, 1, 0, 1, 9, 2, 0, 1, 0, 0, 0, 0, 37, 0, 0, 0, 0, 0, 0, 1, 0, 0, 0, 0, 0, 1, 0, 0, 0, 0, 0, 0, 0, 3, 0, 0, 0, 0, 1, 0, 1, 10, 0, 1, 1, 0, 0, 0, 14, 0, 0, 0, 1, 0, 0, 0, 0, 0, 0, 0, 0, 3, 0, 0, 0, 0, 0, 2, 0, 0, 0, 0, 16, 0, 3, 0, 0, 0, 0, 0, 0, 2, 0, 0, 0, 0, 0, 0, 0, 3, 0, 0, 0, 0, 0, 0, 2, 0, 0, 0, 0, 0, 0, 0, 0, 0, 0, 0, 4, 1, 0, 0, 0, 1, 0, 0, 3, 0, 0, 0, 1, 0, 0, 1, 1, 0, 9, 0, 0, 0, 0, 0, 0, 0, 0, 0, 0, 0, 0, 0, 1, 0, 1, 0, 5, 7, 0, 0, 0, 0, 0, 0, 2, 0, 20, 0, 1, 0, 0, 2, 10, 11, 0, 0, 0, 2, 0, 25, 1, 0, 0, 0, 0, 0, 0, 13, 0, 0, 3, 2, 5, 10, 0, 0, 12, 0, 0, 0, 0, 0, 0, 0, 0, 0, 0, 1, 0, 0, 0, 0, 0, 0, 2, 0, 0, 0, 3, 0, 0, 0, 4, 0]\n",
            "[0, 0, 1, 0, 0, 0, 0, 0, 0, 0, 0, 0, 3, 0, 2, 41, 2, 6, 5, 0, 0, 0, 0, 170, 0, 0, 0, 0, 0, 0, 2, 0, 2, 0, 0, 0, 6, 0, 0, 1, 0, 0, 0, 0, 18, 1, 0, 0, 2, 4, 0, 24, 14, 1, 0, 6, 0, 0, 2, 73, 0, 0, 0, 0, 0, 23, 0, 12, 0, 0, 0, 1, 0, 0, 0, 6, 1, 0, 3, 27, 2, 1, 1, 22, 0, 3, 3, 2, 0, 0, 0, 1, 1, 5, 0, 0, 0, 0, 1, 0, 2, 0, 0, 3, 0, 2, 0, 6, 0, 0, 0, 0, 4, 2, 0, 0, 0, 0, 0, 4, 7, 1, 4, 0, 4, 0, 0, 11, 1, 9, 0, 8, 0, 2, 0, 3, 0, 113, 0, 7, 1, 0, 0, 0, 4, 0, 2, 0, 3, 4, 0, 0, 0, 1, 1, 9, 1, 0, 5, 0, 0, 0, 0, 2, 0, 3, 3, 2, 0, 24, 0, 6, 3, 64, 0, 0, 10, 6, 52, 6, 3, 0, 0, 2, 0, 22, 19, 0, 0, 10, 0, 21, 1, 0, 0, 3, 5, 0, 0, 0, 0, 0, 0, 0, 2, 0, 6, 2, 1, 0, 10, 0, 0, 6, 2, 0, 6, 6, 0, 3, 0, 11, 0]\n",
            "[0, 0, 0, 0, 0, 0, 0, 0, 0, 0, 0, 5, 2, 0, 2, 0, 0, 1, 1, 0, 0, 0, 0, 46, 0, 0, 0, 0, 0, 1, 0, 0, 1, 0, 0, 0, 4, 1, 0, 0, 0, 0, 0, 0, 15, 1, 0, 0, 1, 4, 4, 3, 2, 0, 0, 1, 0, 0, 0, 24, 0, 0, 0, 1, 0, 10, 0, 0, 0, 0, 0, 0, 6, 0, 0, 4, 1, 0, 4, 2, 3, 0, 0, 5, 0, 1, 1, 1, 0, 0, 0, 1, 0, 3, 0, 0, 0, 0, 0, 0, 13, 0, 0, 0, 0, 0, 0, 1, 0, 0, 0, 0, 2, 2, 0, 0, 0, 0, 1, 11, 11, 0, 6, 0, 5, 0, 0, 5, 1, 1, 0, 5, 0, 0, 1, 1, 3, 7, 0, 2, 2, 0, 1, 0, 3, 1, 2, 0, 2, 0, 0, 3, 0, 2, 0, 38, 2, 0, 0, 0, 24, 3, 0, 2, 0, 3, 2, 0, 0, 1, 2, 5, 0, 0, 0, 0, 1, 3, 44, 2, 2, 0, 0, 2, 0, 1, 11, 0, 0, 3, 1, 9, 4, 0, 0, 20, 2, 0, 0, 0, 0, 0, 0, 0, 1, 1, 4, 1, 0, 11, 0, 0, 0, 1, 6, 0, 4, 0, 0, 1, 0, 14, 0]\n",
            "[0, 0, 0, 0, 0, 0, 0, 0, 0, 0, 11, 0, 12, 0, 18, 0, 11, 4, 12, 0, 2, 0, 1, 192, 2, 0, 0, 0, 0, 0, 6, 0, 0, 0, 0, 0, 7, 0, 0, 0, 0, 0, 0, 0, 12, 0, 0, 0, 14, 16, 0, 129, 18, 2, 17, 0, 0, 2, 3, 71, 2, 0, 0, 5, 1, 6, 0, 1, 0, 0, 0, 1, 9, 0, 0, 11, 0, 0, 6, 6, 1, 0, 0, 63, 1, 59, 2, 0, 0, 0, 0, 7, 0, 2, 2, 0, 0, 1, 0, 0, 53, 0, 0, 0, 0, 0, 0, 21, 0, 0, 0, 0, 5, 9, 0, 0, 0, 2, 3, 35, 17, 0, 48, 0, 3, 0, 3, 17, 1, 7, 0, 9, 0, 0, 2, 1, 6, 17, 0, 1, 0, 0, 0, 0, 1, 0, 1, 0, 3, 2, 1, 2, 0, 1, 12, 20, 4, 0, 1, 1, 1, 1, 0, 3, 0, 9, 24, 2, 1, 0, 10, 0, 0, 0, 0, 1, 7, 9, 56, 8, 3, 0, 1, 4, 0, 8, 16, 0, 0, 20, 3, 24, 4, 0, 0, 54, 20, 0, 0, 0, 0, 0, 0, 0, 1, 2, 16, 8, 0, 24, 5, 0, 0, 2, 6, 0, 10, 7, 0, 7, 0, 33, 0]\n",
            "[0, 0, 0, 0, 0, 0, 0, 0, 0, 0, 5, 5, 2, 0, 2, 2, 0, 0, 4, 0, 0, 0, 0, 44, 0, 0, 0, 0, 0, 2, 0, 0, 1, 0, 0, 0, 0, 2, 0, 0, 0, 0, 0, 0, 8, 0, 0, 0, 4, 0, 0, 5, 2, 0, 5, 5, 0, 0, 0, 24, 0, 0, 0, 2, 0, 7, 0, 1, 0, 0, 0, 1, 4, 0, 0, 1, 0, 0, 2, 1, 14, 0, 0, 2, 0, 6, 5, 0, 0, 0, 0, 0, 0, 2, 0, 0, 0, 0, 0, 0, 1, 0, 0, 0, 0, 0, 0, 0, 0, 1, 0, 0, 1, 0, 0, 0, 0, 0, 1, 11, 4, 0, 1, 0, 4, 0, 0, 3, 0, 0, 2, 3, 0, 0, 3, 0, 1, 2, 0, 1, 2, 0, 0, 0, 2, 13, 1, 0, 1, 0, 0, 5, 0, 13, 1, 10, 2, 0, 0, 0, 8, 1, 0, 0, 0, 3, 0, 0, 1, 0, 3, 0, 1, 0, 0, 0, 1, 2, 35, 3, 1, 0, 0, 0, 0, 0, 3, 2, 0, 1, 0, 3, 7, 0, 0, 25, 0, 0, 0, 0, 0, 0, 0, 0, 0, 1, 0, 2, 0, 5, 0, 0, 0, 4, 3, 0, 1, 0, 0, 2, 0, 7, 0]\n",
            "[0, 0, 0, 0, 0, 0, 0, 0, 0, 0, 0, 8, 2, 0, 0, 0, 0, 0, 0, 0, 0, 0, 0, 15, 0, 0, 0, 0, 0, 0, 3, 0, 0, 0, 0, 0, 0, 0, 0, 0, 0, 0, 0, 0, 2, 1, 0, 0, 1, 0, 0, 2, 1, 0, 1, 5, 0, 0, 0, 5, 0, 1, 0, 1, 0, 2, 0, 3, 0, 0, 0, 7, 6, 0, 0, 0, 1, 10, 3, 0, 6, 0, 0, 2, 0, 0, 11, 0, 0, 0, 9, 0, 0, 1, 0, 0, 0, 0, 0, 0, 6, 0, 0, 0, 0, 0, 0, 2, 0, 0, 0, 0, 1, 3, 0, 0, 0, 0, 27, 4, 3, 0, 0, 0, 0, 0, 0, 1, 0, 0, 0, 1, 0, 0, 0, 3, 0, 0, 0, 0, 0, 0, 1, 0, 1, 0, 0, 0, 1, 0, 0, 1, 0, 0, 3, 1, 18, 0, 0, 0, 0, 0, 0, 0, 0, 2, 0, 0, 0, 1, 1, 1, 0, 0, 0, 0, 2, 1, 11, 0, 1, 0, 0, 0, 0, 0, 0, 1, 0, 8, 0, 1, 0, 0, 0, 7, 0, 0, 0, 0, 0, 0, 0, 0, 1, 1, 0, 0, 0, 8, 0, 0, 0, 1, 0, 0, 4, 0, 0, 0, 0, 1, 0]\n",
            "[0, 0, 0, 0, 0, 0, 0, 0, 0, 0, 0, 0, 0, 0, 2, 1, 4, 0, 0, 0, 0, 0, 0, 47, 0, 0, 0, 0, 0, 0, 2, 0, 0, 0, 0, 0, 0, 0, 0, 0, 0, 0, 0, 0, 0, 1, 0, 0, 1, 3, 0, 5, 4, 0, 1, 4, 0, 1, 1, 22, 0, 0, 0, 1, 0, 0, 0, 28, 0, 0, 0, 9, 0, 0, 0, 0, 0, 0, 0, 2, 0, 0, 0, 4, 0, 3, 2, 0, 0, 0, 1, 0, 0, 0, 0, 0, 0, 0, 0, 0, 5, 0, 0, 0, 0, 0, 0, 1, 0, 0, 1, 0, 13, 1, 0, 0, 0, 0, 3, 4, 5, 0, 1, 0, 3, 0, 5, 0, 0, 1, 0, 2, 0, 0, 1, 1, 10, 5, 0, 3, 0, 0, 0, 0, 0, 0, 0, 0, 1, 0, 0, 7, 0, 0, 13, 3, 5, 0, 0, 0, 0, 0, 0, 0, 0, 5, 0, 1, 0, 3, 1, 0, 0, 0, 0, 0, 3, 0, 18, 0, 1, 0, 0, 1, 0, 10, 3, 1, 0, 1, 1, 4, 2, 0, 0, 5, 1, 0, 0, 0, 0, 0, 0, 0, 0, 8, 5, 4, 1, 0, 3, 0, 0, 0, 0, 0, 10, 4, 0, 0, 0, 3, 0]\n",
            "[0, 0, 0, 0, 0, 0, 0, 0, 0, 0, 0, 0, 0, 0, 0, 1, 0, 4, 0, 0, 0, 4, 0, 22, 0, 0, 0, 0, 0, 0, 0, 0, 0, 0, 0, 0, 1, 0, 0, 0, 0, 0, 0, 0, 0, 0, 0, 0, 0, 0, 0, 5, 0, 0, 0, 0, 0, 0, 0, 3, 0, 0, 0, 1, 0, 2, 0, 2, 0, 0, 0, 0, 2, 0, 0, 0, 0, 0, 0, 0, 0, 5, 0, 0, 0, 0, 0, 0, 0, 0, 0, 0, 1, 0, 0, 0, 0, 0, 0, 0, 0, 0, 0, 0, 0, 0, 0, 3, 0, 0, 0, 0, 0, 3, 0, 0, 0, 0, 1, 0, 0, 0, 0, 0, 0, 0, 0, 0, 0, 0, 0, 1, 0, 0, 0, 0, 0, 2, 0, 1, 0, 0, 0, 0, 0, 0, 0, 0, 0, 0, 0, 0, 0, 0, 2, 0, 0, 0, 0, 0, 0, 0, 0, 0, 0, 1, 0, 0, 0, 0, 0, 0, 0, 0, 3, 0, 0, 0, 0, 0, 0, 0, 0, 0, 0, 0, 0, 0, 0, 1, 0, 0, 1, 0, 0, 2, 7, 0, 0, 0, 0, 0, 0, 0, 0, 2, 0, 0, 0, 0, 0, 0, 0, 0, 0, 0, 0, 0, 0, 0, 0, 0, 0]\n",
            "[0, 0, 0, 0, 0, 0, 0, 0, 0, 0, 0, 0, 0, 0, 0, 0, 0, 0, 0, 0, 0, 0, 0, 11, 0, 0, 0, 0, 0, 1, 0, 0, 0, 0, 0, 0, 0, 1, 0, 0, 0, 0, 0, 0, 0, 0, 0, 0, 0, 0, 0, 2, 0, 0, 0, 0, 0, 0, 0, 0, 0, 0, 0, 8, 0, 0, 0, 2, 0, 0, 0, 0, 0, 0, 0, 0, 0, 0, 0, 0, 0, 0, 1, 0, 0, 0, 0, 0, 0, 0, 0, 0, 0, 0, 0, 0, 0, 0, 0, 0, 0, 0, 0, 0, 0, 0, 0, 0, 0, 0, 0, 0, 0, 0, 0, 0, 0, 0, 1, 0, 0, 0, 0, 0, 0, 0, 0, 0, 0, 0, 0, 1, 0, 0, 0, 0, 0, 0, 0, 0, 0, 0, 0, 0, 0, 0, 0, 0, 0, 0, 0, 0, 0, 0, 1, 3, 0, 0, 0, 0, 0, 0, 0, 0, 0, 0, 0, 0, 0, 0, 0, 0, 0, 0, 0, 0, 0, 0, 9, 0, 0, 0, 0, 0, 0, 0, 0, 0, 0, 0, 0, 0, 0, 0, 0, 0, 0, 0, 0, 0, 1, 0, 0, 0, 0, 0, 0, 0, 0, 0, 0, 0, 0, 0, 0, 0, 0, 0, 0, 1, 0, 1, 0]\n"
          ]
        }
      ]
    },
    {
      "cell_type": "markdown",
      "source": [
        "# Definindo funções para calcular similaridade entre os documentos e a busca do usuário usando os vetores"
      ],
      "metadata": {
        "id": "oQ5Sa57_Nllr"
      }
    },
    {
      "cell_type": "code",
      "source": [
        "from sklearn.metrics.pairwise import cosine_similarity\n",
        "import numpy as np"
      ],
      "metadata": {
        "id": "PU92T3tLCss-"
      },
      "execution_count": 37,
      "outputs": []
    },
    {
      "cell_type": "code",
      "source": [
        "def top_vetores(pergunta):\n",
        "    vetor_pergunta = vetorizar(pergunta)\n",
        "    similaridades = cosine_similarity(np.asarray(vetor_pergunta).reshape(1, -1), np.asarray(vetores))\n",
        "    ranking = sorted([(titulos[i], similaridade) for i, similaridade in enumerate(similaridades[0])], key=lambda x: x[1], reverse=True)\n",
        "    return ranking\n",
        "\n",
        "def recuperar_usando_vetor(pergunta):\n",
        "    melhor_resultado = top_vetores(pergunta)[0]\n",
        "    titulo = melhor_resultado[0]\n",
        "    similaridade = melhor_resultado[1]\n",
        "    return \"Similaridade: {}\\n{}\\n\\n{}\".format(similaridade, pergunta, documentos[titulo]['conteudo'])"
      ],
      "metadata": {
        "id": "gYkkhXd3Hmwa"
      },
      "execution_count": 38,
      "outputs": []
    },
    {
      "cell_type": "code",
      "source": [
        "top_vetores(\"estados unidos\")"
      ],
      "metadata": {
        "id": "gMTOSHpHJwOi",
        "colab": {
          "base_uri": "https://localhost:8080/"
        },
        "outputId": "98dd610b-79ca-404a-b6fa-286fe71acee2"
      },
      "execution_count": 39,
      "outputs": [
        {
          "output_type": "execute_result",
          "data": {
            "text/plain": [
              "[('Estados dos Estados Unidos', np.float64(0.7927698433171807)),\n",
              " ('Estados Unidos', np.float64(0.7818674071028366)),\n",
              " ('Demografia dos Estados Unidos', np.float64(0.6120899109122697)),\n",
              " ('Dólar dos Estados Unidos', np.float64(0.5719336437146156)),\n",
              " ('Lista de presidentes dos Estados Unidos', np.float64(0.5617072133069818)),\n",
              " ('Exército dos Estados Unidos', np.float64(0.512746158702882)),\n",
              " ('Povo dos Estados Unidos', np.float64(0.3643993485805122)),\n",
              " ('Presidente dos Estados Unidos', np.float64(0.29015995849784376)),\n",
              " ('Bandeira dos Estados Unidos', np.float64(0.2333141313143457)),\n",
              " ('Brasil', np.float64(0.16089293923111236)),\n",
              " ('Unidades federativas do Brasil', np.float64(0.15438483028458205)),\n",
              " ('Região Nordeste do Brasil', np.float64(0.11251996014284475)),\n",
              " ('Wii', np.float64(0.08213812111047014)),\n",
              " ('Ditadura militar brasileira', np.float64(0.07638084457076534)),\n",
              " ('Super Nintendo Entertainment System', np.float64(0.0711455503796044)),\n",
              " ('Nintendo', np.float64(0.059236966302420944)),\n",
              " ('Nintendo Entertainment System', np.float64(0.040307510089537854)),\n",
              " ('Copa do Brasil de Futebol', np.float64(0.038912972993386474)),\n",
              " ('Etimologia de Brasil', np.float64(0.03307706008278112)),\n",
              " ('PlayStation 2', np.float64(0.02992248893645397)),\n",
              " ('PlayStation Portable', np.float64(0.029469178464536956)),\n",
              " ('Nintendo Switch', np.float64(0.026695420926742)),\n",
              " ('Povos indígenas do Brasil', np.float64(0.022572227653948177)),\n",
              " ('Distrito Federal (Brasil)', np.float64(0.020629888089693446)),\n",
              " ('PlayStation Vita', np.float64(0.019737269249541722)),\n",
              " ('PlayStation (console)', np.float64(0.018405254345807757)),\n",
              " ('PlayStation 4', np.float64(0.01703267493591775)),\n",
              " ('PlayStation', np.float64(0.014289684193887545)),\n",
              " ('PlayStation 3', np.float64(0.014289684193887545)),\n",
              " ('Nintendo DS', np.float64(0.012216716513941078)),\n",
              " ('Nintendo GameCube', np.float64(0.009407416814828925)),\n",
              " ('Lista de municípios do Brasil', np.float64(0.0)),\n",
              " ('Lista de cardeais do Brasil', np.float64(0.0)),\n",
              " ('Shameless (Estados Unidos)', np.float64(0.0)),\n",
              " ('Wii U', np.float64(0.0)),\n",
              " ('Nintendo 64', np.float64(0.0)),\n",
              " ('Nintendo 3DS', np.float64(0.0)),\n",
              " ('PlayStation 5', np.float64(0.0)),\n",
              " ('PlayStation Network', np.float64(0.0)),\n",
              " ('Lista de jogos para PlayStation', np.float64(0.0))]"
            ]
          },
          "metadata": {},
          "execution_count": 39
        }
      ]
    },
    {
      "cell_type": "code",
      "source": [
        "top_vetores(\"sony\")"
      ],
      "metadata": {
        "id": "8WauajjlL7Ly",
        "colab": {
          "base_uri": "https://localhost:8080/"
        },
        "outputId": "94b41fbb-d2f3-4e89-d79b-17db7cb73284"
      },
      "execution_count": 40,
      "outputs": [
        {
          "output_type": "execute_result",
          "data": {
            "text/plain": [
              "[('PlayStation (console)', np.float64(0.31234752377721214)),\n",
              " ('PlayStation Vita', np.float64(0.30703985242602483)),\n",
              " ('PlayStation 4', np.float64(0.29306871875738394)),\n",
              " ('PlayStation 2', np.float64(0.2539007380433526)),\n",
              " ('PlayStation', np.float64(0.23913587140345322)),\n",
              " ('PlayStation 3', np.float64(0.23913587140345322)),\n",
              " ('PlayStation 5', np.float64(0.2215533803072518)),\n",
              " ('PlayStation Network', np.float64(0.1142908976639189)),\n",
              " ('PlayStation Portable', np.float64(0.10418927964135326)),\n",
              " ('Nintendo Switch', np.float64(0.03146085527321423)),\n",
              " ('Nintendo', np.float64(0.02094343028468043)),\n",
              " ('Nintendo GameCube', np.float64(0.019956144669641657)),\n",
              " ('Wii', np.float64(0.014520105607783839)),\n",
              " ('Nintendo 3DS', np.float64(0.013886210480053089)),\n",
              " ('Wii U', np.float64(0.013653229020634858)),\n",
              " ('Super Nintendo Entertainment System', np.float64(0.012576875281166858)),\n",
              " ('Nintendo 64', np.float64(0.010881141587390987)),\n",
              " ('Nintendo DS', np.float64(0.004319261545420708)),\n",
              " ('Brasil', np.float64(0.0)),\n",
              " ('Unidades federativas do Brasil', np.float64(0.0)),\n",
              " ('Copa do Brasil de Futebol', np.float64(0.0)),\n",
              " ('Lista de municípios do Brasil', np.float64(0.0)),\n",
              " ('Lista de cardeais do Brasil', np.float64(0.0)),\n",
              " ('Ditadura militar brasileira', np.float64(0.0)),\n",
              " ('Povos indígenas do Brasil', np.float64(0.0)),\n",
              " ('Distrito Federal (Brasil)', np.float64(0.0)),\n",
              " ('Região Nordeste do Brasil', np.float64(0.0)),\n",
              " ('Etimologia de Brasil', np.float64(0.0)),\n",
              " ('Estados Unidos', np.float64(0.0)),\n",
              " ('Estados dos Estados Unidos', np.float64(0.0)),\n",
              " ('Exército dos Estados Unidos', np.float64(0.0)),\n",
              " ('Lista de presidentes dos Estados Unidos', np.float64(0.0)),\n",
              " ('Bandeira dos Estados Unidos', np.float64(0.0)),\n",
              " ('Shameless (Estados Unidos)', np.float64(0.0)),\n",
              " ('Povo dos Estados Unidos', np.float64(0.0)),\n",
              " ('Dólar dos Estados Unidos', np.float64(0.0)),\n",
              " ('Presidente dos Estados Unidos', np.float64(0.0)),\n",
              " ('Demografia dos Estados Unidos', np.float64(0.0)),\n",
              " ('Nintendo Entertainment System', np.float64(0.0)),\n",
              " ('Lista de jogos para PlayStation', np.float64(0.0))]"
            ]
          },
          "metadata": {},
          "execution_count": 40
        }
      ]
    },
    {
      "cell_type": "code",
      "source": [
        "top_vetores(\"futebol\")"
      ],
      "metadata": {
        "id": "_kcCPAD2MG0S",
        "colab": {
          "base_uri": "https://localhost:8080/"
        },
        "outputId": "22850a73-60fe-4ae2-db6a-636aac718fab"
      },
      "execution_count": 41,
      "outputs": [
        {
          "output_type": "execute_result",
          "data": {
            "text/plain": [
              "[('Brasil', np.float64(0.0)),\n",
              " ('Unidades federativas do Brasil', np.float64(0.0)),\n",
              " ('Copa do Brasil de Futebol', np.float64(0.0)),\n",
              " ('Lista de municípios do Brasil', np.float64(0.0)),\n",
              " ('Lista de cardeais do Brasil', np.float64(0.0)),\n",
              " ('Ditadura militar brasileira', np.float64(0.0)),\n",
              " ('Povos indígenas do Brasil', np.float64(0.0)),\n",
              " ('Distrito Federal (Brasil)', np.float64(0.0)),\n",
              " ('Região Nordeste do Brasil', np.float64(0.0)),\n",
              " ('Etimologia de Brasil', np.float64(0.0)),\n",
              " ('Estados Unidos', np.float64(0.0)),\n",
              " ('Estados dos Estados Unidos', np.float64(0.0)),\n",
              " ('Exército dos Estados Unidos', np.float64(0.0)),\n",
              " ('Lista de presidentes dos Estados Unidos', np.float64(0.0)),\n",
              " ('Bandeira dos Estados Unidos', np.float64(0.0)),\n",
              " ('Shameless (Estados Unidos)', np.float64(0.0)),\n",
              " ('Povo dos Estados Unidos', np.float64(0.0)),\n",
              " ('Dólar dos Estados Unidos', np.float64(0.0)),\n",
              " ('Presidente dos Estados Unidos', np.float64(0.0)),\n",
              " ('Demografia dos Estados Unidos', np.float64(0.0)),\n",
              " ('Nintendo', np.float64(0.0)),\n",
              " ('Nintendo Switch', np.float64(0.0)),\n",
              " ('Nintendo DS', np.float64(0.0)),\n",
              " ('Wii', np.float64(0.0)),\n",
              " ('Super Nintendo Entertainment System', np.float64(0.0)),\n",
              " ('Wii U', np.float64(0.0)),\n",
              " ('Nintendo 64', np.float64(0.0)),\n",
              " ('Nintendo 3DS', np.float64(0.0)),\n",
              " ('Nintendo GameCube', np.float64(0.0)),\n",
              " ('Nintendo Entertainment System', np.float64(0.0)),\n",
              " ('PlayStation', np.float64(0.0)),\n",
              " ('PlayStation 5', np.float64(0.0)),\n",
              " ('PlayStation 4', np.float64(0.0)),\n",
              " ('PlayStation 2', np.float64(0.0)),\n",
              " ('PlayStation 3', np.float64(0.0)),\n",
              " ('PlayStation (console)', np.float64(0.0)),\n",
              " ('PlayStation Portable', np.float64(0.0)),\n",
              " ('PlayStation Vita', np.float64(0.0)),\n",
              " ('PlayStation Network', np.float64(0.0)),\n",
              " ('Lista de jogos para PlayStation', np.float64(0.0))]"
            ]
          },
          "metadata": {},
          "execution_count": 41
        }
      ]
    },
    {
      "cell_type": "code",
      "source": [
        "print(recuperar_usando_vetor(\"Qual a moeda dos estados unidos?\"))"
      ],
      "metadata": {
        "id": "wbU36gLIEHDS",
        "colab": {
          "base_uri": "https://localhost:8080/"
        },
        "outputId": "9af7776d-f97e-4231-dab6-b4769409022e"
      },
      "execution_count": 42,
      "outputs": [
        {
          "output_type": "stream",
          "name": "stdout",
          "text": [
            "Similaridade: 0.6472938665310873\n",
            "Qual a moeda dos estados unidos?\n",
            "\n",
            "Os estados dos Estados Unidos são as cinquenta unidades desse país federal da América do Norte. Compõem aquele país e partilham a soberania com o seu governo federal. Devido a esta soberania dividida, cada cidadão dos Estados Unidos é cidadão tanto da entidade federal quanto do seu estado de domicílio. Quatro estados usam o título oficial de \"comunidade\" (commonwealth), no lugar de \"estado\" (state). A cidadania estadual é flexível, e nenhuma aprovação governamental é necessária, bastando para que ela ocorra a mudança de domicílio do cidadão, com exceção dos condenados pela justiça.\n",
            "A Constituição dos Estados Unidos distribui o poder entre estes dois níveis de governo. Ao ratificar a Constituição, o povo transferiu determinados poderes soberanos limitados dos seus estados para o governo federal. Sob a décima emenda, todos os poderes que não foram delegados ao governo estadunidense nem especificamente proibidos aos estados foram mantidos por estes estados e pelo povo. Historicamente, os investimentos em educação, infraestrutura, saúde, segurança, transporte públicos foram consideradas como responsabilidades primordialmente inerentes ao estado, embora hoje em dia, todas contem com uma quantidade significativa de verbas federais, bem como regulamentação, com base principalmente na Cláusula do Comércio, na Cláusula dos Impostos e Gastos e na Cláusula Necessária e Apropriada da Constituição.\n",
            "Com o tempo a constituição do país foi sofrendo emendas, e a interpretação e aplicação de suas provisões foi sendo alterada. A tendência geral é a centralização e incorporação, com o governo federal desempenhando um papel muito maior do que anteriormente. Há um debate contínuo acerca dos direitos dos estados, no que diz respeito à extensão e natureza dos poderes dos estados e da sua soberania, em relação ao governo federal, bem como em relação aos direitos dos indivíduos.\n",
            "O Congresso pode admitir novos estados, que terão o mesmo pé de igualdade que os estados já existentes; isto não ocorre, no entanto, desde 1959. A constituição nada fala sobre a hipótese de um dos estados decidir abandonar unilateralmente a União, porém a Suprema Corte decretou que a secessão é inconstitucional, uma posição motivada, ao menos em parte, pelo resultado da Guerra Civil dos Estados Unidos (1861–1865).\n",
            "\n",
            "\n",
            "== Estados ==\n",
            "Esta lista de estados dos Estados Unidos está ordenada pelos nomes dos estados em português. Cada um dos estados está listado com seu próprio código ISO indicado: o ISO 3166-2:US: Subdivisões dos Estados Unidos, que é usado também como código postal. A relação abaixo inclui também a data de entrada na União, a capital de cada estado, a cidade mais populosa de cada estado, a área em milhas quadradas e quilômetros quadrados, a população segundo o censo de 2011, o órgão governamental anterior à entrada na União como estado e o produto interno bruto de 2010.\n",
            "Embora as 13 colônias tenham sido consideradas como membros dos Estados Unidos desde a Declaração de Independência, em 4 de julho de 1776, elas são apresentadas aqui como sendo \"admitidas\" no ano de ratificação da Constituição dos Estados Unidos, em 1787.\n",
            "\n",
            "\n",
            "== Distrito federal ==\n",
            "\n",
            "O Distrito de Colúmbia, formado oficialmente em 16 de julho de 1790, é o distrito federal americano, como especificado pela Constituição estadunidense, com limitado poder local. O distrito é governado diretamente pelo Congresso dos Estados Unidos. A intenção dos Pais Fundadores era que a capital dos Estados Unidos estivesse em um local neutro, não dando favor a nenhum estado existente; Como resultado, o Distrito de Columbia foi criado para servir como sede do governo. Seu código ISO 3166-2 é DC.\n",
            "Como não é um estado, o distrito não tem representação no Senado e tem um delegado sem direito a voto na Câmara; nem tem um governo soberano eleito. Além disso, antes da ratificação da 23ª Emenda, em 1961, os cidadãos do distrito não tiveram o direito de votar nas eleições presidenciais. Sua população é de 601 723 habitantes de acordo com o censo de 2010, maior que a do estado de Wyoming.\n",
            "O Distrito de Colúmbia foi formado através de terras cedidas pelos estados de Maryland e Virgínia. Em 1847, a região que fora cedida pela Virgínia foi devolvida, região que compõe atualmente o Condado de Arlington. A construção de Washington iniciou-se em 1792, sendo inaugurada em 1800, no mesmo ano em que tornou-se a capital americana. Washington foi nomeada em homenagem ao primeiro Presidente americano, George Washington, enquanto que o termo District of Columbia deriva de um antigo nome poético dos Estados Unidos, Colúmbia.\n",
            "\n",
            "\n",
            "== Ver também ==\n",
            "Subdivisões dos Estados Unidos\n",
            "Territórios dos Estados Unidos\n",
            "Lista de governadores dos Estados Unidos\n",
            "\n",
            "\n",
            "== Notas ==\n",
            "\n",
            "\n",
            "== Referências ==\n"
          ]
        }
      ]
    },
    {
      "cell_type": "code",
      "source": [],
      "metadata": {
        "id": "XrES4OvlFW4A"
      },
      "execution_count": null,
      "outputs": []
    }
  ]
}