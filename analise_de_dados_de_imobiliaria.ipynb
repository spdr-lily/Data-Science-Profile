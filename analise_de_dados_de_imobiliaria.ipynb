{
  "nbformat": 4,
  "nbformat_minor": 0,
  "metadata": {
    "colab": {
      "provenance": [],
      "include_colab_link": true
    },
    "kernelspec": {
      "name": "python3",
      "display_name": "Python 3"
    },
    "language_info": {
      "name": "python"
    }
  },
  "cells": [
    {
      "cell_type": "markdown",
      "metadata": {
        "id": "view-in-github",
        "colab_type": "text"
      },
      "source": [
        "<a href=\"https://colab.research.google.com/github/spdr-lily/Descomplica-Data-Science/blob/main/analise_de_dados_de_imobiliaria.ipynb\" target=\"_parent\"><img src=\"https://colab.research.google.com/assets/colab-badge.svg\" alt=\"Open In Colab\"/></a>"
      ]
    },
    {
      "cell_type": "markdown",
      "source": [
        "# análise de dados fictícios de imóveis disponíveis em diferentes cidades\n",
        "um conjunto de dados fictícios contendo informações sobre imóveis, como cidade, número de quartos, preço e área."
      ],
      "metadata": {
        "id": "23ZZzcRL5JFW"
      }
    },
    {
      "cell_type": "code",
      "source": [
        "# importando biblioteca\n",
        "import pandas as pd"
      ],
      "metadata": {
        "id": "9HnZI7QXD9F7"
      },
      "execution_count": 1,
      "outputs": []
    },
    {
      "cell_type": "code",
      "source": [
        "# dados fictícios do mercado imobiliário\n",
        "dados = {\n",
        "    'Cidade':['São Paulo', 'Rio de Janeiro', 'Belo Horizonte'],\n",
        "    'Quartos':[3, 2, 4],\n",
        "    'Preço': [500000, 350000, 600000]\n",
        "}"
      ],
      "metadata": {
        "id": "vnYB61-X5RzK"
      },
      "execution_count": 2,
      "outputs": []
    },
    {
      "cell_type": "code",
      "source": [
        "# criando DataFrame dos dados\n",
        "df = pd.DataFrame(dados)"
      ],
      "metadata": {
        "id": "C8G70Kh9ESdp"
      },
      "execution_count": 3,
      "outputs": []
    },
    {
      "cell_type": "code",
      "source": [
        "# explorar o dataframe\n",
        "print(\"Primeiras linhas do DataFrame:\")\n",
        "print(df.head())\n",
        "\n",
        "print(\"\\nInformações do DataFrame:\")\n",
        "print(df.info())\n",
        "\n",
        "print(\"\\nEstatísticas descritivas dos dados:\")\n",
        "print(df.describe())"
      ],
      "metadata": {
        "colab": {
          "base_uri": "https://localhost:8080/"
        },
        "id": "VSRp-Cj83w6B",
        "outputId": "70933f99-cb82-4a90-f91c-bc2664d14ea8"
      },
      "execution_count": 6,
      "outputs": [
        {
          "output_type": "stream",
          "name": "stdout",
          "text": [
            "Primeiras linhas do DataFrame:\n",
            "           Cidade  Quartos   Preço\n",
            "0       São Paulo        3  500000\n",
            "1  Rio de Janeiro        2  350000\n",
            "2  Belo Horizonte        4  600000\n",
            "\n",
            "Informações do DataFrame:\n",
            "<class 'pandas.core.frame.DataFrame'>\n",
            "RangeIndex: 3 entries, 0 to 2\n",
            "Data columns (total 3 columns):\n",
            " #   Column   Non-Null Count  Dtype \n",
            "---  ------   --------------  ----- \n",
            " 0   Cidade   3 non-null      object\n",
            " 1   Quartos  3 non-null      int64 \n",
            " 2   Preço    3 non-null      int64 \n",
            "dtypes: int64(2), object(1)\n",
            "memory usage: 204.0+ bytes\n",
            "None\n",
            "\n",
            "Estatísticas descritivas dos dados:\n",
            "       Quartos          Preço\n",
            "count      3.0       3.000000\n",
            "mean       3.0  483333.333333\n",
            "std        1.0  125830.573921\n",
            "min        2.0  350000.000000\n",
            "25%        2.5  425000.000000\n",
            "50%        3.0  500000.000000\n",
            "75%        3.5  550000.000000\n",
            "max        4.0  600000.000000\n"
          ]
        }
      ]
    },
    {
      "cell_type": "code",
      "source": [
        "# manipulação e limpeza dos dados\n",
        "df['Quartos'] = df['Quartos'].fillna(df['Quartos'].mean()) # preencher valores ausentes em 'Quartos' com a média"
      ],
      "metadata": {
        "id": "DHpMflOn4DOv"
      },
      "execution_count": 10,
      "outputs": []
    },
    {
      "cell_type": "code",
      "source": [
        "df['Preço'] = df['Preço'].astype(float) # converter a coluna 'Preço' para o tipo float"
      ],
      "metadata": {
        "id": "uUjlqadB4yjY"
      },
      "execution_count": 11,
      "outputs": []
    },
    {
      "cell_type": "code",
      "source": [
        "# calcular a média de preço dos imóveis\n",
        "media_precos = df['Preço'].mean()\n",
        "print(media_precos)"
      ],
      "metadata": {
        "colab": {
          "base_uri": "https://localhost:8080/"
        },
        "id": "Wf58uiiBEoRf",
        "outputId": "c90f09da-ea4f-4ed4-f80d-5829c126c5c2"
      },
      "execution_count": 12,
      "outputs": [
        {
          "output_type": "stream",
          "name": "stdout",
          "text": [
            "483333.3333333333\n"
          ]
        }
      ]
    },
    {
      "cell_type": "code",
      "source": [
        "# calcular a mediana\n",
        "mediana_precos = df['Preço'].median()\n",
        "print(mediana_precos)"
      ],
      "metadata": {
        "colab": {
          "base_uri": "https://localhost:8080/"
        },
        "id": "4z5qr3MGE3Kv",
        "outputId": "8c49506d-4e98-4766-8593-9c56acb1fa96"
      },
      "execution_count": 13,
      "outputs": [
        {
          "output_type": "stream",
          "name": "stdout",
          "text": [
            "500000.0\n"
          ]
        }
      ]
    },
    {
      "cell_type": "code",
      "source": [
        "# calcular desvio padrão\n",
        "desvio_padrao_precos = df['Preço'].std()\n",
        "print(desvio_padrao_precos)"
      ],
      "metadata": {
        "colab": {
          "base_uri": "https://localhost:8080/"
        },
        "id": "WWfTVeWtFF5A",
        "outputId": "cd79bc7f-3870-4b87-b617-2e0f8c938b13"
      },
      "execution_count": 14,
      "outputs": [
        {
          "output_type": "stream",
          "name": "stdout",
          "text": [
            "125830.57392117915\n"
          ]
        }
      ]
    },
    {
      "cell_type": "code",
      "source": [
        "# análise da média de preço\n",
        "print(\"\\nMédia de preços dos imóveis: R$\", media_precos)"
      ],
      "metadata": {
        "colab": {
          "base_uri": "https://localhost:8080/"
        },
        "id": "8cFD7HVhFhEX",
        "outputId": "31045ced-d1ee-4c80-ae4e-e268a4fe432d"
      },
      "execution_count": 15,
      "outputs": [
        {
          "output_type": "stream",
          "name": "stdout",
          "text": [
            "\n",
            "Média de preços dos imóveis: R$ 483333.3333333333\n"
          ]
        }
      ]
    },
    {
      "cell_type": "code",
      "source": [
        "# análise de quais cidades tem os imóveis mais caros, em tremos de preço médio\n",
        "cidades_caras = df.groupby('Cidade')['Preço'].mean().sort_values(ascending=False)\n",
        "print(\"\\nCidades com os imóveis mais caros por ordem decrescente:\")\n",
        "print(cidades_caras)"
      ],
      "metadata": {
        "colab": {
          "base_uri": "https://localhost:8080/"
        },
        "id": "N-LB9EURGMSY",
        "outputId": "45929fdc-f516-490c-e57d-bad3fc23ef94"
      },
      "execution_count": 16,
      "outputs": [
        {
          "output_type": "stream",
          "name": "stdout",
          "text": [
            "\n",
            "Cidades com os imóveis mais caros por ordem decrescente:\n",
            "Cidade\n",
            "Belo Horizonte    600000.0\n",
            "São Paulo         500000.0\n",
            "Rio de Janeiro    350000.0\n",
            "Name: Preço, dtype: float64\n"
          ]
        }
      ]
    },
    {
      "cell_type": "code",
      "source": [
        "# correlação entre o número de quartos e preços dos imóveis\n",
        "correlacao = df['Quartos'].corr(df['Preço'])\n",
        "print(\"\\nCorrelação entre o número de quartos e o preço dos imóveis:\", correlacao)"
      ],
      "metadata": {
        "colab": {
          "base_uri": "https://localhost:8080/"
        },
        "id": "iOUtE67vGg0_",
        "outputId": "1a9099c2-a0db-49be-ce9a-208a3f6985fa"
      },
      "execution_count": 17,
      "outputs": [
        {
          "output_type": "stream",
          "name": "stdout",
          "text": [
            "\n",
            "Correlação entre o número de quartos e o preço dos imóveis: 0.993399267798783\n"
          ]
        }
      ]
    },
    {
      "cell_type": "code",
      "source": [
        "# análises específicas\n",
        "sao_paulo_imoveis = df[df['Cidade'] == 'São Paulo']\n",
        "print(\"\\nImóveis da cidade de São Paulo:\")\n",
        "print(sao_paulo_imoveis)"
      ],
      "metadata": {
        "id": "7BxVRSXOHNUh",
        "colab": {
          "base_uri": "https://localhost:8080/"
        },
        "outputId": "a114106a-8d23-4893-a116-ec9126ff30d4"
      },
      "execution_count": 18,
      "outputs": [
        {
          "output_type": "stream",
          "name": "stdout",
          "text": [
            "\n",
            "Imóveis da cidade de São Paulo:\n",
            "      Cidade  Quartos     Preço\n",
            "0  São Paulo        3  500000.0\n"
          ]
        }
      ]
    },
    {
      "cell_type": "code",
      "source": [
        "imoveis_3_quartos = df[df['Quartos'] == 3]\n",
        "print(\"\\nImóveis com 3 quartos:\")\n",
        "print(imoveis_3_quartos)"
      ],
      "metadata": {
        "colab": {
          "base_uri": "https://localhost:8080/"
        },
        "id": "u-VwQIRS5RVV",
        "outputId": "e680cd5f-f32a-4355-955b-ed43e21c80f8"
      },
      "execution_count": 19,
      "outputs": [
        {
          "output_type": "stream",
          "name": "stdout",
          "text": [
            "\n",
            "Imóveis com 3 quartos:\n",
            "      Cidade  Quartos     Preço\n",
            "0  São Paulo        3  500000.0\n"
          ]
        }
      ]
    },
    {
      "cell_type": "code",
      "source": [],
      "metadata": {
        "id": "AwTALJcV5V3h"
      },
      "execution_count": null,
      "outputs": []
    }
  ]
}